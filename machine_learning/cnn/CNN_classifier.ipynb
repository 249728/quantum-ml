{
 "cells": [
  {
   "cell_type": "code",
   "execution_count": null,
   "metadata": {
    "collapsed": false
   },
   "outputs": [
    {
     "name": "stdout",
     "output_type": "stream",
     "text": [
      "Total number of samples : 10000\n",
      "Training samples : 8000\n",
      "Test samples : 2000\n",
      "INFO:tensorflow:Using default config.\n",
      "INFO:tensorflow:Using config: {'_task_type': None, '_task_id': 0, '_cluster_spec': <tensorflow.python.training.server_lib.ClusterSpec object at 0x118e14eb8>, '_master': '', '_num_ps_replicas': 0, '_num_worker_replicas': 0, '_environment': 'local', '_is_chief': True, '_evaluation_master': '', '_tf_config': gpu_options {\n",
      "  per_process_gpu_memory_fraction: 1\n",
      "}\n",
      ", '_tf_random_seed': None, '_save_summary_steps': 100, '_save_checkpoints_secs': 600, '_save_checkpoints_steps': None, '_keep_checkpoint_max': 5, '_keep_checkpoint_every_n_hours': 10000, '_model_dir': None}\n",
      "WARNING:tensorflow:Using temporary folder as model directory: /var/folders/hs/nm7qn85519v78y5bbl49h61h001sq3/T/tmp0ynfinz0\n",
      "INFO:tensorflow:Create CheckpointSaverHook.\n",
      "INFO:tensorflow:Saving checkpoints for 1 into /var/folders/hs/nm7qn85519v78y5bbl49h61h001sq3/T/tmp0ynfinz0/model.ckpt.\n",
      "INFO:tensorflow:loss = 0.204952, step = 1\n",
      "INFO:tensorflow:\n"
     ]
    }
   ],
   "source": [
    "# learning using a CNN\n",
    "\n",
    "# CNN for learning!\n",
    "\n",
    "# learn the states of a double dot\n",
    "import numpy as np\n",
    "import tensorflow as tf\n",
    "import glob\n",
    "import os\n",
    "import time\n",
    "\n",
    "from tensorflow.contrib import learn\n",
    "from tensorflow.contrib.learn.python.learn.estimators import model_fn as model_fn_lib\n",
    "\n",
    "tf.logging.set_verbosity(tf.logging.INFO)\n",
    "\n",
    "# application logic will be added here\n",
    "def cnn_model_fn(features,labels,mode):\n",
    "    '''Model function for CNN'''\n",
    "    #input layer\n",
    "    input_layer = tf.cast(tf.reshape(features,[-1,30,30,1]),tf.float32)\n",
    "    \n",
    "    conv1 = tf.layers.conv2d(inputs=input_layer,\n",
    "                            filters=32,\n",
    "                            kernel_size=[5,5],\n",
    "                            padding=\"same\",\n",
    "                            activation=tf.nn.relu)\n",
    "    pool1 = tf.layers.max_pooling2d(inputs=conv1, pool_size=[2,2],strides=2)\n",
    "    \n",
    "    conv2 = tf.layers.conv2d(inputs=pool1,\n",
    "                            filters=64,\n",
    "                            kernel_size=[5,5],\n",
    "                            padding=\"same\",\n",
    "                            activation=tf.nn.relu)\n",
    "    pool2 = tf.layers.max_pooling2d(inputs=conv2, pool_size=[2,2],strides=2)\n",
    "    \n",
    "    flat = tf.contrib.layers.flatten(inputs=pool2)\n",
    "    # dense output layer\n",
    "    out1 = tf.layers.dense(inputs=flat,units=1024,activation=tf.nn.relu)  \n",
    "    dropout1 = tf.layers.dropout(\n",
    "      inputs=out1, rate=0.4, training=mode == learn.ModeKeys.TRAIN)\n",
    "    \n",
    "    out = tf.layers.dense(inputs=dropout1, units=4)\n",
    "\n",
    "    loss = None\n",
    "    train_op = None\n",
    "\n",
    "    # Calculate loss( for both TRAIN AND EVAL modes)\n",
    "    if mode != learn.ModeKeys.INFER:\n",
    "        #onehot_labels = tf.one_hot(indices=tf.cast(labels,tf.int32),depth=4)\n",
    "        #loss = tf.losses.softmax_cross_entropy(onehot_labels=onehot_labels,logits=out)\n",
    "        loss = tf.losses.mean_squared_error(out,labels)\n",
    "\n",
    "    # Configure the training op (for TRAIN mode)\n",
    "    if mode == learn.ModeKeys.TRAIN:\n",
    "        train_op = tf.contrib.layers.optimize_loss(\n",
    "            loss=loss,\n",
    "            global_step=tf.contrib.framework.get_global_step(),\n",
    "            learning_rate=1e-3,\n",
    "            optimizer=tf.train.AdamOptimizer)\n",
    "\n",
    "    # Generate predictions\n",
    "    predictions= {\n",
    "        \"prob\" : out,\n",
    "        \"states\" : tf.argmax(out,axis=1),\n",
    "    }\n",
    "\n",
    "    # Returna  ModelFnOps object\n",
    "    return model_fn_lib.ModelFnOps(mode=mode,predictions=predictions,loss=loss, train_op=train_op)\n",
    "    \n",
    "def get_train_inputs():\n",
    "    n_batch = 100\n",
    "    index = np.random.choice(n_train,n_batch,replace=False)\n",
    "    inp = []\n",
    "    oup = []\n",
    "    for i in index:\n",
    "        dat = np.load(files[i])\n",
    "        inp += [dat.item()['current_map']]\n",
    "        oup += [dat.item()['label']]\n",
    "\n",
    "    inp = np.array(inp,dtype=np.float32)\n",
    "    oup = np.array(oup,dtype=np.float32)\n",
    "    \n",
    "    x = tf.constant(inp)\n",
    "    y = tf.constant(oup)\n",
    "    return x,y\n",
    "\n",
    "def get_test_inputs():\n",
    "    inp = []\n",
    "    oup = []\n",
    "       \n",
    "    for file in files[n_train:]:\n",
    "        dat = np.load(file)\n",
    "        inp += [dat.item()['current_map']]\n",
    "        oup += [dat.item()['label']]\n",
    "    \n",
    "    inp = np.array(inp)\n",
    "    oup = np.array(oup)\n",
    "    \n",
    "    x = tf.constant(inp)\n",
    "    y = tf.constant(oup)\n",
    "    return x,y\n",
    "\n",
    "\n",
    "# get the data\n",
    "data_folder_path = \"/Users/ssk4/Downloads/data_subimage/\"\n",
    "files = glob.glob(data_folder_path + \"*.npy\")\n",
    "\n",
    "# shuffling the files to avoid any single dot bias\n",
    "import random\n",
    "random.shuffle(files)\n",
    "files = files[:10000]\n",
    "\n",
    "n_samples = len(files)\n",
    "train_sample_ratio = 0.8\n",
    "n_train = int(train_sample_ratio * n_samples)\n",
    "\n",
    "print(\"Total number of samples :\",n_samples)\n",
    "print(\"Training samples :\",n_train)\n",
    "print(\"Test samples :\",n_samples - n_train)\n",
    "\n",
    "st = time.time()\n",
    "# create the estimator\n",
    "dd_classifier = learn.Estimator(model_fn=cnn_model_fn)\n",
    "\n",
    "# set up logging for predictions\n",
    "tensors_to_log = {}\n",
    "logging_hook = tf.train.LoggingTensorHook(tensors=tensors_to_log, every_n_iter=100)\n",
    "\n",
    "metrics = {\n",
    "    \"accuracy\" : learn.MetricSpec(metric_fn=tf.metrics.accuracy, prediction_key=\"states\"),\n",
    "}\n",
    "\n",
    "\n",
    "dd_classifier.fit(\n",
    "    input_fn=get_train_inputs,\n",
    "    steps=10000,\n",
    "    monitors=[logging_hook])\n",
    "\n",
    "\n",
    "# Evaluate accuracy.\n",
    "accuracy_score = dd_classifier.evaluate(input_fn=get_train_inputs,metrics=metrics,\n",
    "                                       steps=1)[\"accuracy\"]\n",
    "print(\"\\nTrain Accuracy: {0:f}\\n\".format(accuracy_score))\n",
    "\n",
    "# Evaluate accuracy.\n",
    "accuracy_score = dd_classifier.evaluate(input_fn=get_test_inputs,metrics=metrics,\n",
    "                                       steps=1)[\"accuracy\"]\n",
    "print(\"\\nTest Accuracy: {0:f}\\n\".format(accuracy_score))\n",
    "\n",
    "\n",
    "\n",
    "print(\"Training done in\",time.time()-st,\"seconds.\")\n",
    "\n",
    "\n"
   ]
  },
  {
   "cell_type": "code",
   "execution_count": 44,
   "metadata": {
    "collapsed": false
   },
   "outputs": [
    {
     "ename": "ValueError",
     "evalue": "Features are incompatible with given information. Given features: Tensor(\"Const:0\", shape=(200, 30, 30), dtype=float64), required signatures: TensorSignature(dtype=tf.float32, shape=TensorShape([Dimension(100), Dimension(30), Dimension(30)]), is_sparse=False).",
     "output_type": "error",
     "traceback": [
      "\u001b[0;31m---------------------------------------------------------------------------\u001b[0m",
      "\u001b[0;31mValueError\u001b[0m                                Traceback (most recent call last)",
      "\u001b[0;32m<ipython-input-44-ce761d0ef98b>\u001b[0m in \u001b[0;36m<module>\u001b[0;34m()\u001b[0m\n\u001b[1;32m      1\u001b[0m accuracy_score = dd_classifier.evaluate(input_fn=get_test_inputs,\n\u001b[0;32m----> 2\u001b[0;31m                                        steps=1,metrics=metrics)\n\u001b[0m",
      "\u001b[0;32m/usr/local/lib/python3.6/site-packages/tensorflow/python/util/deprecation.py\u001b[0m in \u001b[0;36mnew_func\u001b[0;34m(*args, **kwargs)\u001b[0m\n\u001b[1;32m    279\u001b[0m             \u001b[0m_call_location\u001b[0m\u001b[0;34m(\u001b[0m\u001b[0;34m)\u001b[0m\u001b[0;34m,\u001b[0m \u001b[0mdecorator_utils\u001b[0m\u001b[0;34m.\u001b[0m\u001b[0mget_qualified_name\u001b[0m\u001b[0;34m(\u001b[0m\u001b[0mfunc\u001b[0m\u001b[0;34m)\u001b[0m\u001b[0;34m,\u001b[0m\u001b[0;34m\u001b[0m\u001b[0m\n\u001b[1;32m    280\u001b[0m             func.__module__, arg_name, date, instructions)\n\u001b[0;32m--> 281\u001b[0;31m       \u001b[0;32mreturn\u001b[0m \u001b[0mfunc\u001b[0m\u001b[0;34m(\u001b[0m\u001b[0;34m*\u001b[0m\u001b[0margs\u001b[0m\u001b[0;34m,\u001b[0m \u001b[0;34m**\u001b[0m\u001b[0mkwargs\u001b[0m\u001b[0;34m)\u001b[0m\u001b[0;34m\u001b[0m\u001b[0m\n\u001b[0m\u001b[1;32m    282\u001b[0m     new_func.__doc__ = _add_deprecated_arg_notice_to_docstring(\n\u001b[1;32m    283\u001b[0m         func.__doc__, date, instructions)\n",
      "\u001b[0;32m/usr/local/lib/python3.6/site-packages/tensorflow/contrib/learn/python/learn/estimators/estimator.py\u001b[0m in \u001b[0;36mevaluate\u001b[0;34m(self, x, y, input_fn, feed_fn, batch_size, steps, metrics, name, checkpoint_path, hooks, log_progress)\u001b[0m\n\u001b[1;32m    516\u001b[0m         \u001b[0mcheckpoint_path\u001b[0m\u001b[0;34m=\u001b[0m\u001b[0mcheckpoint_path\u001b[0m\u001b[0;34m,\u001b[0m\u001b[0;34m\u001b[0m\u001b[0m\n\u001b[1;32m    517\u001b[0m         \u001b[0mhooks\u001b[0m\u001b[0;34m=\u001b[0m\u001b[0mhooks\u001b[0m\u001b[0;34m,\u001b[0m\u001b[0;34m\u001b[0m\u001b[0m\n\u001b[0;32m--> 518\u001b[0;31m         log_progress=log_progress)\n\u001b[0m\u001b[1;32m    519\u001b[0m \u001b[0;34m\u001b[0m\u001b[0m\n\u001b[1;32m    520\u001b[0m     \u001b[0;32mif\u001b[0m \u001b[0meval_results\u001b[0m \u001b[0;32mis\u001b[0m \u001b[0;32mnot\u001b[0m \u001b[0;32mNone\u001b[0m\u001b[0;34m:\u001b[0m\u001b[0;34m\u001b[0m\u001b[0m\n",
      "\u001b[0;32m/usr/local/lib/python3.6/site-packages/tensorflow/contrib/learn/python/learn/estimators/estimator.py\u001b[0m in \u001b[0;36m_evaluate_model\u001b[0;34m(self, input_fn, steps, feed_fn, metrics, name, checkpoint_path, hooks, log_progress)\u001b[0m\n\u001b[1;32m    800\u001b[0m       \u001b[0mglobal_step\u001b[0m \u001b[0;34m=\u001b[0m \u001b[0mcontrib_framework\u001b[0m\u001b[0;34m.\u001b[0m\u001b[0mcreate_global_step\u001b[0m\u001b[0;34m(\u001b[0m\u001b[0mg\u001b[0m\u001b[0;34m)\u001b[0m\u001b[0;34m\u001b[0m\u001b[0m\n\u001b[1;32m    801\u001b[0m       \u001b[0mfeatures\u001b[0m\u001b[0;34m,\u001b[0m \u001b[0mlabels\u001b[0m \u001b[0;34m=\u001b[0m \u001b[0minput_fn\u001b[0m\u001b[0;34m(\u001b[0m\u001b[0;34m)\u001b[0m\u001b[0;34m\u001b[0m\u001b[0m\n\u001b[0;32m--> 802\u001b[0;31m       \u001b[0mself\u001b[0m\u001b[0;34m.\u001b[0m\u001b[0m_check_inputs\u001b[0m\u001b[0;34m(\u001b[0m\u001b[0mfeatures\u001b[0m\u001b[0;34m,\u001b[0m \u001b[0mlabels\u001b[0m\u001b[0;34m)\u001b[0m\u001b[0;34m\u001b[0m\u001b[0m\n\u001b[0m\u001b[1;32m    803\u001b[0m \u001b[0;34m\u001b[0m\u001b[0m\n\u001b[1;32m    804\u001b[0m       \u001b[0meval_dict\u001b[0m \u001b[0;34m=\u001b[0m \u001b[0mself\u001b[0m\u001b[0;34m.\u001b[0m\u001b[0m_get_eval_ops\u001b[0m\u001b[0;34m(\u001b[0m\u001b[0mfeatures\u001b[0m\u001b[0;34m,\u001b[0m \u001b[0mlabels\u001b[0m\u001b[0;34m,\u001b[0m \u001b[0mmetrics\u001b[0m\u001b[0;34m)\u001b[0m\u001b[0;34m.\u001b[0m\u001b[0meval_metric_ops\u001b[0m\u001b[0;34m\u001b[0m\u001b[0m\n",
      "\u001b[0;32m/usr/local/lib/python3.6/site-packages/tensorflow/contrib/learn/python/learn/estimators/estimator.py\u001b[0m in \u001b[0;36m_check_inputs\u001b[0;34m(self, features, labels)\u001b[0m\n\u001b[1;32m    730\u001b[0m         raise ValueError('Features are incompatible with given information. '\n\u001b[1;32m    731\u001b[0m                          \u001b[0;34m'Given features: %s, required signatures: %s.'\u001b[0m \u001b[0;34m%\u001b[0m\u001b[0;34m\u001b[0m\u001b[0m\n\u001b[0;32m--> 732\u001b[0;31m                          (str(features), str(self._features_info)))\n\u001b[0m\u001b[1;32m    733\u001b[0m     \u001b[0;32melse\u001b[0m\u001b[0;34m:\u001b[0m\u001b[0;34m\u001b[0m\u001b[0m\n\u001b[1;32m    734\u001b[0m       \u001b[0mself\u001b[0m\u001b[0;34m.\u001b[0m\u001b[0m_features_info\u001b[0m \u001b[0;34m=\u001b[0m \u001b[0mtensor_signature\u001b[0m\u001b[0;34m.\u001b[0m\u001b[0mcreate_signatures\u001b[0m\u001b[0;34m(\u001b[0m\u001b[0mfeatures\u001b[0m\u001b[0;34m)\u001b[0m\u001b[0;34m\u001b[0m\u001b[0m\n",
      "\u001b[0;31mValueError\u001b[0m: Features are incompatible with given information. Given features: Tensor(\"Const:0\", shape=(200, 30, 30), dtype=float64), required signatures: TensorSignature(dtype=tf.float32, shape=TensorShape([Dimension(100), Dimension(30), Dimension(30)]), is_sparse=False)."
     ]
    }
   ],
   "source": [
    "accuracy_score = dd_classifier.evaluate(input_fn=get_test_inputs,\n",
    "                                       steps=1,metrics=metrics)"
   ]
  },
  {
   "cell_type": "code",
   "execution_count": 45,
   "metadata": {
    "collapsed": false
   },
   "outputs": [
    {
     "name": "stdout",
     "output_type": "stream",
     "text": [
      "WARNING:tensorflow:From <ipython-input-45-b29da7321b19>:1: calling BaseEstimator.predict (from tensorflow.contrib.learn.python.learn.estimators.estimator) with as_iterable is deprecated and will be removed after 2016-12-01.\n",
      "Instructions for updating:\n",
      "Estimator is decoupled from Scikit Learn interface by moving into\n",
      "separate class SKCompat. Arguments x, y and batch_size are only\n",
      "available in the SKCompat class, Estimator will only accept input_fn.\n",
      "Example conversion:\n",
      "  est = Estimator(...) -> est = SKCompat(Estimator(...))\n",
      "INFO:tensorflow:Restoring parameters from /var/folders/hs/nm7qn85519v78y5bbl49h61h001sq3/T/tmpx2nwitym/model.ckpt-5318\n"
     ]
    }
   ],
   "source": [
    "pred = dd_classifier.predict(input_fn=get_test_inputs,as_iterable=False)"
   ]
  },
  {
   "cell_type": "code",
   "execution_count": 102,
   "metadata": {
    "collapsed": false
   },
   "outputs": [
    {
     "data": {
      "text/plain": [
       "array([], dtype=float64)"
      ]
     },
     "execution_count": 102,
     "metadata": {},
     "output_type": "execute_result"
    }
   ],
   "source": [
    "curr = sess.run(x)\n",
    "curr"
   ]
  },
  {
   "cell_type": "code",
   "execution_count": 98,
   "metadata": {
    "collapsed": false
   },
   "outputs": [
    {
     "ename": "InvalidArgumentError",
     "evalue": "Expected dimension in the range [-1, 1), but got 1\n\t [[Node: ArgMax_13 = ArgMax[T=DT_DOUBLE, Tidx=DT_INT32, _device=\"/job:localhost/replica:0/task:0/cpu:0\"](Const_32, ArgMax_13/dimension)]]\n\nCaused by op 'ArgMax_13', defined at:\n  File \"/usr/local/Cellar/python3/3.6.1/Frameworks/Python.framework/Versions/3.6/lib/python3.6/runpy.py\", line 193, in _run_module_as_main\n    \"__main__\", mod_spec)\n  File \"/usr/local/Cellar/python3/3.6.1/Frameworks/Python.framework/Versions/3.6/lib/python3.6/runpy.py\", line 85, in _run_code\n    exec(code, run_globals)\n  File \"/usr/local/lib/python3.6/site-packages/ipykernel_launcher.py\", line 16, in <module>\n    app.launch_new_instance()\n  File \"/usr/local/lib/python3.6/site-packages/traitlets/config/application.py\", line 658, in launch_instance\n    app.start()\n  File \"/usr/local/lib/python3.6/site-packages/ipykernel/kernelapp.py\", line 477, in start\n    ioloop.IOLoop.instance().start()\n  File \"/usr/local/lib/python3.6/site-packages/zmq/eventloop/ioloop.py\", line 177, in start\n    super(ZMQIOLoop, self).start()\n  File \"/usr/local/lib/python3.6/site-packages/tornado/ioloop.py\", line 888, in start\n    handler_func(fd_obj, events)\n  File \"/usr/local/lib/python3.6/site-packages/tornado/stack_context.py\", line 277, in null_wrapper\n    return fn(*args, **kwargs)\n  File \"/usr/local/lib/python3.6/site-packages/zmq/eventloop/zmqstream.py\", line 440, in _handle_events\n    self._handle_recv()\n  File \"/usr/local/lib/python3.6/site-packages/zmq/eventloop/zmqstream.py\", line 472, in _handle_recv\n    self._run_callback(callback, msg)\n  File \"/usr/local/lib/python3.6/site-packages/zmq/eventloop/zmqstream.py\", line 414, in _run_callback\n    callback(*args, **kwargs)\n  File \"/usr/local/lib/python3.6/site-packages/tornado/stack_context.py\", line 277, in null_wrapper\n    return fn(*args, **kwargs)\n  File \"/usr/local/lib/python3.6/site-packages/ipykernel/kernelbase.py\", line 283, in dispatcher\n    return self.dispatch_shell(stream, msg)\n  File \"/usr/local/lib/python3.6/site-packages/ipykernel/kernelbase.py\", line 235, in dispatch_shell\n    handler(stream, idents, msg)\n  File \"/usr/local/lib/python3.6/site-packages/ipykernel/kernelbase.py\", line 399, in execute_request\n    user_expressions, allow_stdin)\n  File \"/usr/local/lib/python3.6/site-packages/ipykernel/ipkernel.py\", line 196, in do_execute\n    res = shell.run_cell(code, store_history=store_history, silent=silent)\n  File \"/usr/local/lib/python3.6/site-packages/ipykernel/zmqshell.py\", line 533, in run_cell\n    return super(ZMQInteractiveShell, self).run_cell(*args, **kwargs)\n  File \"/usr/local/lib/python3.6/site-packages/IPython/core/interactiveshell.py\", line 2698, in run_cell\n    interactivity=interactivity, compiler=compiler, result=result)\n  File \"/usr/local/lib/python3.6/site-packages/IPython/core/interactiveshell.py\", line 2802, in run_ast_nodes\n    if self.run_code(code, result):\n  File \"/usr/local/lib/python3.6/site-packages/IPython/core/interactiveshell.py\", line 2862, in run_code\n    exec(code_obj, self.user_global_ns, self.user_ns)\n  File \"<ipython-input-98-45fc316a9b44>\", line 3, in <module>\n    st = tf.argmax(y,axis=1)\n  File \"/usr/local/lib/python3.6/site-packages/tensorflow/python/ops/math_ops.py\", line 178, in argmax\n    return gen_math_ops.arg_max(input, axis, name)\n  File \"/usr/local/lib/python3.6/site-packages/tensorflow/python/ops/gen_math_ops.py\", line 188, in arg_max\n    name=name)\n  File \"/usr/local/lib/python3.6/site-packages/tensorflow/python/framework/op_def_library.py\", line 768, in apply_op\n    op_def=op_def)\n  File \"/usr/local/lib/python3.6/site-packages/tensorflow/python/framework/ops.py\", line 2336, in create_op\n    original_op=self._default_original_op, op_def=op_def)\n  File \"/usr/local/lib/python3.6/site-packages/tensorflow/python/framework/ops.py\", line 1228, in __init__\n    self._traceback = _extract_stack()\n\nInvalidArgumentError (see above for traceback): Expected dimension in the range [-1, 1), but got 1\n\t [[Node: ArgMax_13 = ArgMax[T=DT_DOUBLE, Tidx=DT_INT32, _device=\"/job:localhost/replica:0/task:0/cpu:0\"](Const_32, ArgMax_13/dimension)]]\n",
     "output_type": "error",
     "traceback": [
      "\u001b[0;31m---------------------------------------------------------------------------\u001b[0m",
      "\u001b[0;31mInvalidArgumentError\u001b[0m                      Traceback (most recent call last)",
      "\u001b[0;32m/usr/local/lib/python3.6/site-packages/tensorflow/python/client/session.py\u001b[0m in \u001b[0;36m_do_call\u001b[0;34m(self, fn, *args)\u001b[0m\n\u001b[1;32m   1038\u001b[0m     \u001b[0;32mtry\u001b[0m\u001b[0;34m:\u001b[0m\u001b[0;34m\u001b[0m\u001b[0m\n\u001b[0;32m-> 1039\u001b[0;31m       \u001b[0;32mreturn\u001b[0m \u001b[0mfn\u001b[0m\u001b[0;34m(\u001b[0m\u001b[0;34m*\u001b[0m\u001b[0margs\u001b[0m\u001b[0;34m)\u001b[0m\u001b[0;34m\u001b[0m\u001b[0m\n\u001b[0m\u001b[1;32m   1040\u001b[0m     \u001b[0;32mexcept\u001b[0m \u001b[0merrors\u001b[0m\u001b[0;34m.\u001b[0m\u001b[0mOpError\u001b[0m \u001b[0;32mas\u001b[0m \u001b[0me\u001b[0m\u001b[0;34m:\u001b[0m\u001b[0;34m\u001b[0m\u001b[0m\n",
      "\u001b[0;32m/usr/local/lib/python3.6/site-packages/tensorflow/python/client/session.py\u001b[0m in \u001b[0;36m_run_fn\u001b[0;34m(session, feed_dict, fetch_list, target_list, options, run_metadata)\u001b[0m\n\u001b[1;32m   1020\u001b[0m                                  \u001b[0mfeed_dict\u001b[0m\u001b[0;34m,\u001b[0m \u001b[0mfetch_list\u001b[0m\u001b[0;34m,\u001b[0m \u001b[0mtarget_list\u001b[0m\u001b[0;34m,\u001b[0m\u001b[0;34m\u001b[0m\u001b[0m\n\u001b[0;32m-> 1021\u001b[0;31m                                  status, run_metadata)\n\u001b[0m\u001b[1;32m   1022\u001b[0m \u001b[0;34m\u001b[0m\u001b[0m\n",
      "\u001b[0;32m/usr/local/Cellar/python3/3.6.1/Frameworks/Python.framework/Versions/3.6/lib/python3.6/contextlib.py\u001b[0m in \u001b[0;36m__exit__\u001b[0;34m(self, type, value, traceback)\u001b[0m\n\u001b[1;32m     88\u001b[0m             \u001b[0;32mtry\u001b[0m\u001b[0;34m:\u001b[0m\u001b[0;34m\u001b[0m\u001b[0m\n\u001b[0;32m---> 89\u001b[0;31m                 \u001b[0mnext\u001b[0m\u001b[0;34m(\u001b[0m\u001b[0mself\u001b[0m\u001b[0;34m.\u001b[0m\u001b[0mgen\u001b[0m\u001b[0;34m)\u001b[0m\u001b[0;34m\u001b[0m\u001b[0m\n\u001b[0m\u001b[1;32m     90\u001b[0m             \u001b[0;32mexcept\u001b[0m \u001b[0mStopIteration\u001b[0m\u001b[0;34m:\u001b[0m\u001b[0;34m\u001b[0m\u001b[0m\n",
      "\u001b[0;32m/usr/local/lib/python3.6/site-packages/tensorflow/python/framework/errors_impl.py\u001b[0m in \u001b[0;36mraise_exception_on_not_ok_status\u001b[0;34m()\u001b[0m\n\u001b[1;32m    465\u001b[0m           \u001b[0mcompat\u001b[0m\u001b[0;34m.\u001b[0m\u001b[0mas_text\u001b[0m\u001b[0;34m(\u001b[0m\u001b[0mpywrap_tensorflow\u001b[0m\u001b[0;34m.\u001b[0m\u001b[0mTF_Message\u001b[0m\u001b[0;34m(\u001b[0m\u001b[0mstatus\u001b[0m\u001b[0;34m)\u001b[0m\u001b[0;34m)\u001b[0m\u001b[0;34m,\u001b[0m\u001b[0;34m\u001b[0m\u001b[0m\n\u001b[0;32m--> 466\u001b[0;31m           pywrap_tensorflow.TF_GetCode(status))\n\u001b[0m\u001b[1;32m    467\u001b[0m   \u001b[0;32mfinally\u001b[0m\u001b[0;34m:\u001b[0m\u001b[0;34m\u001b[0m\u001b[0m\n",
      "\u001b[0;31mInvalidArgumentError\u001b[0m: Expected dimension in the range [-1, 1), but got 1\n\t [[Node: ArgMax_13 = ArgMax[T=DT_DOUBLE, Tidx=DT_INT32, _device=\"/job:localhost/replica:0/task:0/cpu:0\"](Const_32, ArgMax_13/dimension)]]",
      "\nDuring handling of the above exception, another exception occurred:\n",
      "\u001b[0;31mInvalidArgumentError\u001b[0m                      Traceback (most recent call last)",
      "\u001b[0;32m<ipython-input-98-45fc316a9b44>\u001b[0m in \u001b[0;36m<module>\u001b[0;34m()\u001b[0m\n\u001b[1;32m      3\u001b[0m \u001b[0mst\u001b[0m \u001b[0;34m=\u001b[0m \u001b[0mtf\u001b[0m\u001b[0;34m.\u001b[0m\u001b[0margmax\u001b[0m\u001b[0;34m(\u001b[0m\u001b[0my\u001b[0m\u001b[0;34m,\u001b[0m\u001b[0maxis\u001b[0m\u001b[0;34m=\u001b[0m\u001b[0;36m1\u001b[0m\u001b[0;34m)\u001b[0m\u001b[0;34m\u001b[0m\u001b[0m\n\u001b[1;32m      4\u001b[0m \u001b[0mcurr\u001b[0m \u001b[0;34m=\u001b[0m \u001b[0msess\u001b[0m\u001b[0;34m.\u001b[0m\u001b[0mrun\u001b[0m\u001b[0;34m(\u001b[0m\u001b[0mx\u001b[0m\u001b[0;34m)\u001b[0m\u001b[0;34m\u001b[0m\u001b[0m\n\u001b[0;32m----> 5\u001b[0;31m \u001b[0mout\u001b[0m \u001b[0;34m=\u001b[0m \u001b[0msess\u001b[0m\u001b[0;34m.\u001b[0m\u001b[0mrun\u001b[0m\u001b[0;34m(\u001b[0m\u001b[0mst\u001b[0m\u001b[0;34m)\u001b[0m\u001b[0;34m\u001b[0m\u001b[0m\n\u001b[0m\u001b[1;32m      6\u001b[0m \u001b[0mprint\u001b[0m\u001b[0;34m(\u001b[0m\u001b[0mout\u001b[0m\u001b[0;34m)\u001b[0m\u001b[0;34m\u001b[0m\u001b[0m\n",
      "\u001b[0;32m/usr/local/lib/python3.6/site-packages/tensorflow/python/client/session.py\u001b[0m in \u001b[0;36mrun\u001b[0;34m(self, fetches, feed_dict, options, run_metadata)\u001b[0m\n\u001b[1;32m    776\u001b[0m     \u001b[0;32mtry\u001b[0m\u001b[0;34m:\u001b[0m\u001b[0;34m\u001b[0m\u001b[0m\n\u001b[1;32m    777\u001b[0m       result = self._run(None, fetches, feed_dict, options_ptr,\n\u001b[0;32m--> 778\u001b[0;31m                          run_metadata_ptr)\n\u001b[0m\u001b[1;32m    779\u001b[0m       \u001b[0;32mif\u001b[0m \u001b[0mrun_metadata\u001b[0m\u001b[0;34m:\u001b[0m\u001b[0;34m\u001b[0m\u001b[0m\n\u001b[1;32m    780\u001b[0m         \u001b[0mproto_data\u001b[0m \u001b[0;34m=\u001b[0m \u001b[0mtf_session\u001b[0m\u001b[0;34m.\u001b[0m\u001b[0mTF_GetBuffer\u001b[0m\u001b[0;34m(\u001b[0m\u001b[0mrun_metadata_ptr\u001b[0m\u001b[0;34m)\u001b[0m\u001b[0;34m\u001b[0m\u001b[0m\n",
      "\u001b[0;32m/usr/local/lib/python3.6/site-packages/tensorflow/python/client/session.py\u001b[0m in \u001b[0;36m_run\u001b[0;34m(self, handle, fetches, feed_dict, options, run_metadata)\u001b[0m\n\u001b[1;32m    980\u001b[0m     \u001b[0;32mif\u001b[0m \u001b[0mfinal_fetches\u001b[0m \u001b[0;32mor\u001b[0m \u001b[0mfinal_targets\u001b[0m\u001b[0;34m:\u001b[0m\u001b[0;34m\u001b[0m\u001b[0m\n\u001b[1;32m    981\u001b[0m       results = self._do_run(handle, final_targets, final_fetches,\n\u001b[0;32m--> 982\u001b[0;31m                              feed_dict_string, options, run_metadata)\n\u001b[0m\u001b[1;32m    983\u001b[0m     \u001b[0;32melse\u001b[0m\u001b[0;34m:\u001b[0m\u001b[0;34m\u001b[0m\u001b[0m\n\u001b[1;32m    984\u001b[0m       \u001b[0mresults\u001b[0m \u001b[0;34m=\u001b[0m \u001b[0;34m[\u001b[0m\u001b[0;34m]\u001b[0m\u001b[0;34m\u001b[0m\u001b[0m\n",
      "\u001b[0;32m/usr/local/lib/python3.6/site-packages/tensorflow/python/client/session.py\u001b[0m in \u001b[0;36m_do_run\u001b[0;34m(self, handle, target_list, fetch_list, feed_dict, options, run_metadata)\u001b[0m\n\u001b[1;32m   1030\u001b[0m     \u001b[0;32mif\u001b[0m \u001b[0mhandle\u001b[0m \u001b[0;32mis\u001b[0m \u001b[0;32mNone\u001b[0m\u001b[0;34m:\u001b[0m\u001b[0;34m\u001b[0m\u001b[0m\n\u001b[1;32m   1031\u001b[0m       return self._do_call(_run_fn, self._session, feed_dict, fetch_list,\n\u001b[0;32m-> 1032\u001b[0;31m                            target_list, options, run_metadata)\n\u001b[0m\u001b[1;32m   1033\u001b[0m     \u001b[0;32melse\u001b[0m\u001b[0;34m:\u001b[0m\u001b[0;34m\u001b[0m\u001b[0m\n\u001b[1;32m   1034\u001b[0m       return self._do_call(_prun_fn, self._session, handle, feed_dict,\n",
      "\u001b[0;32m/usr/local/lib/python3.6/site-packages/tensorflow/python/client/session.py\u001b[0m in \u001b[0;36m_do_call\u001b[0;34m(self, fn, *args)\u001b[0m\n\u001b[1;32m   1050\u001b[0m         \u001b[0;32mexcept\u001b[0m \u001b[0mKeyError\u001b[0m\u001b[0;34m:\u001b[0m\u001b[0;34m\u001b[0m\u001b[0m\n\u001b[1;32m   1051\u001b[0m           \u001b[0;32mpass\u001b[0m\u001b[0;34m\u001b[0m\u001b[0m\n\u001b[0;32m-> 1052\u001b[0;31m       \u001b[0;32mraise\u001b[0m \u001b[0mtype\u001b[0m\u001b[0;34m(\u001b[0m\u001b[0me\u001b[0m\u001b[0;34m)\u001b[0m\u001b[0;34m(\u001b[0m\u001b[0mnode_def\u001b[0m\u001b[0;34m,\u001b[0m \u001b[0mop\u001b[0m\u001b[0;34m,\u001b[0m \u001b[0mmessage\u001b[0m\u001b[0;34m)\u001b[0m\u001b[0;34m\u001b[0m\u001b[0m\n\u001b[0m\u001b[1;32m   1053\u001b[0m \u001b[0;34m\u001b[0m\u001b[0m\n\u001b[1;32m   1054\u001b[0m   \u001b[0;32mdef\u001b[0m \u001b[0m_extend_graph\u001b[0m\u001b[0;34m(\u001b[0m\u001b[0mself\u001b[0m\u001b[0;34m)\u001b[0m\u001b[0;34m:\u001b[0m\u001b[0;34m\u001b[0m\u001b[0m\n",
      "\u001b[0;31mInvalidArgumentError\u001b[0m: Expected dimension in the range [-1, 1), but got 1\n\t [[Node: ArgMax_13 = ArgMax[T=DT_DOUBLE, Tidx=DT_INT32, _device=\"/job:localhost/replica:0/task:0/cpu:0\"](Const_32, ArgMax_13/dimension)]]\n\nCaused by op 'ArgMax_13', defined at:\n  File \"/usr/local/Cellar/python3/3.6.1/Frameworks/Python.framework/Versions/3.6/lib/python3.6/runpy.py\", line 193, in _run_module_as_main\n    \"__main__\", mod_spec)\n  File \"/usr/local/Cellar/python3/3.6.1/Frameworks/Python.framework/Versions/3.6/lib/python3.6/runpy.py\", line 85, in _run_code\n    exec(code, run_globals)\n  File \"/usr/local/lib/python3.6/site-packages/ipykernel_launcher.py\", line 16, in <module>\n    app.launch_new_instance()\n  File \"/usr/local/lib/python3.6/site-packages/traitlets/config/application.py\", line 658, in launch_instance\n    app.start()\n  File \"/usr/local/lib/python3.6/site-packages/ipykernel/kernelapp.py\", line 477, in start\n    ioloop.IOLoop.instance().start()\n  File \"/usr/local/lib/python3.6/site-packages/zmq/eventloop/ioloop.py\", line 177, in start\n    super(ZMQIOLoop, self).start()\n  File \"/usr/local/lib/python3.6/site-packages/tornado/ioloop.py\", line 888, in start\n    handler_func(fd_obj, events)\n  File \"/usr/local/lib/python3.6/site-packages/tornado/stack_context.py\", line 277, in null_wrapper\n    return fn(*args, **kwargs)\n  File \"/usr/local/lib/python3.6/site-packages/zmq/eventloop/zmqstream.py\", line 440, in _handle_events\n    self._handle_recv()\n  File \"/usr/local/lib/python3.6/site-packages/zmq/eventloop/zmqstream.py\", line 472, in _handle_recv\n    self._run_callback(callback, msg)\n  File \"/usr/local/lib/python3.6/site-packages/zmq/eventloop/zmqstream.py\", line 414, in _run_callback\n    callback(*args, **kwargs)\n  File \"/usr/local/lib/python3.6/site-packages/tornado/stack_context.py\", line 277, in null_wrapper\n    return fn(*args, **kwargs)\n  File \"/usr/local/lib/python3.6/site-packages/ipykernel/kernelbase.py\", line 283, in dispatcher\n    return self.dispatch_shell(stream, msg)\n  File \"/usr/local/lib/python3.6/site-packages/ipykernel/kernelbase.py\", line 235, in dispatch_shell\n    handler(stream, idents, msg)\n  File \"/usr/local/lib/python3.6/site-packages/ipykernel/kernelbase.py\", line 399, in execute_request\n    user_expressions, allow_stdin)\n  File \"/usr/local/lib/python3.6/site-packages/ipykernel/ipkernel.py\", line 196, in do_execute\n    res = shell.run_cell(code, store_history=store_history, silent=silent)\n  File \"/usr/local/lib/python3.6/site-packages/ipykernel/zmqshell.py\", line 533, in run_cell\n    return super(ZMQInteractiveShell, self).run_cell(*args, **kwargs)\n  File \"/usr/local/lib/python3.6/site-packages/IPython/core/interactiveshell.py\", line 2698, in run_cell\n    interactivity=interactivity, compiler=compiler, result=result)\n  File \"/usr/local/lib/python3.6/site-packages/IPython/core/interactiveshell.py\", line 2802, in run_ast_nodes\n    if self.run_code(code, result):\n  File \"/usr/local/lib/python3.6/site-packages/IPython/core/interactiveshell.py\", line 2862, in run_code\n    exec(code_obj, self.user_global_ns, self.user_ns)\n  File \"<ipython-input-98-45fc316a9b44>\", line 3, in <module>\n    st = tf.argmax(y,axis=1)\n  File \"/usr/local/lib/python3.6/site-packages/tensorflow/python/ops/math_ops.py\", line 178, in argmax\n    return gen_math_ops.arg_max(input, axis, name)\n  File \"/usr/local/lib/python3.6/site-packages/tensorflow/python/ops/gen_math_ops.py\", line 188, in arg_max\n    name=name)\n  File \"/usr/local/lib/python3.6/site-packages/tensorflow/python/framework/op_def_library.py\", line 768, in apply_op\n    op_def=op_def)\n  File \"/usr/local/lib/python3.6/site-packages/tensorflow/python/framework/ops.py\", line 2336, in create_op\n    original_op=self._default_original_op, op_def=op_def)\n  File \"/usr/local/lib/python3.6/site-packages/tensorflow/python/framework/ops.py\", line 1228, in __init__\n    self._traceback = _extract_stack()\n\nInvalidArgumentError (see above for traceback): Expected dimension in the range [-1, 1), but got 1\n\t [[Node: ArgMax_13 = ArgMax[T=DT_DOUBLE, Tidx=DT_INT32, _device=\"/job:localhost/replica:0/task:0/cpu:0\"](Const_32, ArgMax_13/dimension)]]\n"
     ]
    }
   ],
   "source": [
    "sess = tf.Session()\n",
    "x,y = get_test_inputs()\n",
    "st = tf.argmax(y,axis=1)\n",
    "curr = sess.run(x)\n",
    "out = sess.run(st)\n",
    "print(out)"
   ]
  },
  {
   "cell_type": "code",
   "execution_count": 50,
   "metadata": {
    "collapsed": false
   },
   "outputs": [],
   "source": [
    "diff = out - pred['states']"
   ]
  },
  {
   "cell_type": "code",
   "execution_count": 56,
   "metadata": {
    "collapsed": false
   },
   "outputs": [
    {
     "data": {
      "text/plain": [
       "0.96"
      ]
     },
     "execution_count": 56,
     "metadata": {},
     "output_type": "execute_result"
    }
   ],
   "source": [
    "list(diff).count(0)/len(diff)"
   ]
  },
  {
   "cell_type": "code",
   "execution_count": 104,
   "metadata": {
    "collapsed": false
   },
   "outputs": [
    {
     "name": "stdout",
     "output_type": "stream",
     "text": [
      "0 [2]\n",
      "1 [2]\n",
      "2 [3]\n",
      "3 [2]\n",
      "4 [3]\n",
      "5 [2]\n",
      "6 [2]\n",
      "7 [2]\n",
      "8 [2]\n",
      "9 [2]\n",
      "10 [2]\n",
      "11 [2]\n",
      "12 [2]\n",
      "13 [2]\n",
      "14 [2]\n",
      "15 [2]\n",
      "16 [2]\n",
      "17 [2]\n",
      "18 [2]\n",
      "19 [3]\n",
      "20 [2]\n",
      "21 [2]\n",
      "22 [2]\n",
      "23 [2]\n",
      "24 [2]\n",
      "25 [2]\n",
      "26 [2]\n",
      "27 [2]\n",
      "28 [2]\n",
      "29 [2]\n",
      "30 [3]\n",
      "31 [3]\n",
      "32 [2]\n",
      "33 [2]\n",
      "34 [2]\n",
      "35 [3]\n",
      "36 [2]\n",
      "37 [2]\n",
      "38 [2]\n",
      "39 [2]\n",
      "40 [2]\n",
      "41 [2]\n",
      "42 [2]\n",
      "43 [2]\n",
      "44 [2]\n",
      "45 [2]\n",
      "46 [2]\n",
      "47 [2]\n",
      "48 [2]\n",
      "49 [2]\n",
      "50 [2]\n",
      "51 [2]\n",
      "52 [2]\n",
      "53 [2]\n"
     ]
    }
   ],
   "source": [
    "# Testing of the experimental data loading\n",
    "import numpy as np\n",
    "import scipy.interpolate\n",
    "\n",
    "data_folder_path = \"/Users/ssk4/Downloads/exp_data/\"\n",
    "files = glob.glob(data_folder_path + \"*.dat\")\n",
    "\n",
    "# Data format is V_LGD I_DC(nA) V_LGS I_AC(nA) t(sec)\n",
    "# The format of the loaded array is [num_points,5]\n",
    "index = np.random.randint(len(files))\n",
    "\n",
    "for i in range(len(files)):\n",
    "\n",
    "    dat = np.loadtxt(files[i])\n",
    "\n",
    "    sub_size = 30\n",
    "    grid_x = np.linspace(np.min(dat[:,0]),np.max(dat[:,0]),sub_size)\n",
    "    grid_y = np.linspace(np.min(dat[:,2]),np.max(dat[:,2]),sub_size)\n",
    "    xx,yy = np.meshgrid(grid_x,grid_y)\n",
    "    interpolated_data = scipy.interpolate.griddata((dat[:,0],dat[:,2]),dat[:,1],(xx, yy), method='nearest')\n",
    "    tf.logging.set_verbosity(tf.logging.ERROR)\n",
    "    #import matplotlib.pyplot as plt\n",
    "    #%matplotlib inline\n",
    "    #plt.pcolor(interpolated_data)\n",
    "\n",
    "    print(i,dd_classifier.predict(x=interpolated_data,as_iterable=False)['states'])"
   ]
  },
  {
   "cell_type": "code",
   "execution_count": 114,
   "metadata": {
    "collapsed": false
   },
   "outputs": [
    {
     "data": {
      "text/plain": [
       "<matplotlib.collections.PolyCollection at 0x11a8b8400>"
      ]
     },
     "execution_count": 114,
     "metadata": {},
     "output_type": "execute_result"
    },
    {
     "data": {
      "image/png": "[encoded data removed]",
      "text/plain": [
       "<matplotlib.figure.Figure at 0x115314c50>"
      ]
     },
     "metadata": {},
     "output_type": "display_data"
    }
   ],
   "source": [
    "dat = np.loadtxt(files[20])\n",
    "\n",
    "sub_size = 30\n",
    "grid_x = np.linspace(np.min(dat[:,0]),np.max(dat[:,0]),sub_size)\n",
    "grid_y = np.linspace(np.min(dat[:,2]),np.max(dat[:,2]),sub_size)\n",
    "xx,yy = np.meshgrid(grid_x,grid_y)\n",
    "interpolated_data = scipy.interpolate.griddata((dat[:,0],dat[:,2]),dat[:,1],(xx, yy), method='nearest')\n",
    "\n",
    "import matplotlib.pyplot as plt\n",
    "%matplotlib inline\n",
    "plt.pcolor(interpolated_data)"
   ]
  },
  {
   "cell_type": "code",
   "execution_count": 115,
   "metadata": {
    "collapsed": false
   },
   "outputs": [
    {
     "data": {
      "text/plain": [
       "array([[ 0.0131284,  0.0130977,  0.0130165,  0.0130461,  0.0130579,\n",
       "         0.0130705,  0.0130673,  0.013014 ,  0.013067 ,  0.0130673,\n",
       "         0.0130742,  0.0130424,  0.0131063,  0.013041 ,  0.0130354,\n",
       "         0.0130415,  0.0130442,  0.0129011,  0.0129984,  0.0130359,\n",
       "         0.0130761,  0.0130623,  0.0130196,  0.0130593,  0.0130596,\n",
       "         0.0130447,  0.013058 ,  0.0130686,  0.0130626,  0.0130784],\n",
       "       [ 0.0130309,  0.0130342,  0.0130773,  0.013095 ,  0.0130655,\n",
       "         0.0130709,  0.0130834,  0.0130363,  0.0130766,  0.0130537,\n",
       "         0.012883 ,  0.0130093,  0.0130959,  0.0130351,  0.0130685,\n",
       "         0.0130667,  0.0130831,  0.0129268,  0.0130313,  0.0130226,\n",
       "         0.01302  ,  0.0130421,  0.0130307,  0.0130727,  0.0130674,\n",
       "         0.013017 ,  0.013053 ,  0.0130509,  0.0130441,  0.0130853],\n",
       "       [ 0.0130076,  0.0130482,  0.0130506,  0.0130161,  0.0130545,\n",
       "         0.0130134,  0.0130176,  0.0130303,  0.0130606,  0.0130398,\n",
       "         0.0130371,  0.0130427,  0.0130241,  0.0130324,  0.0130324,\n",
       "         0.0130261,  0.0129602,  0.0129288,  0.0129862,  0.0130262,\n",
       "         0.0130061,  0.0130101,  0.0130434,  0.0130382,  0.0130001,\n",
       "         0.0129817,  0.012998 ,  0.0130463,  0.0130678,  0.0130331],\n",
       "       [ 0.0129934,  0.013033 ,  0.0130116,  0.0130222,  0.0130083,\n",
       "         0.0130308,  0.013    ,  0.0130095,  0.0130049,  0.0129833,\n",
       "         0.012997 ,  0.0129974,  0.0129981,  0.0130548,  0.0130251,\n",
       "         0.0130171,  0.0129384,  0.0129166,  0.0130323,  0.013015 ,\n",
       "         0.0129939,  0.0129921,  0.0130225,  0.0130074,  0.0130633,\n",
       "         0.0129911,  0.0129835,  0.0130655,  0.0129995,  0.0129818],\n",
       "       [ 0.0129748,  0.0129416,  0.0129553,  0.0129737,  0.0129825,\n",
       "         0.0130094,  0.0129584,  0.0129495,  0.0129923,  0.0129904,\n",
       "         0.0129665,  0.0129505,  0.0129662,  0.0129914,  0.0129955,\n",
       "         0.0130118,  0.0128261,  0.0129328,  0.0129888,  0.0129225,\n",
       "         0.0129505,  0.012959 ,  0.0129742,  0.0129693,  0.0130199,\n",
       "         0.0129735,  0.0130046,  0.0129428,  0.0129986,  0.0129525],\n",
       "       [ 0.0129746,  0.0129743,  0.0129592,  0.012995 ,  0.0129782,\n",
       "         0.0129573,  0.0129753,  0.0129501,  0.0129708,  0.012984 ,\n",
       "         0.0129706,  0.0129467,  0.0129778,  0.0129432,  0.0129653,\n",
       "         0.012945 ,  0.0128224,  0.0129213,  0.012946 ,  0.012965 ,\n",
       "         0.0129304,  0.0129936,  0.0129768,  0.0129453,  0.0129717,\n",
       "         0.0129581,  0.0129242,  0.0129755,  0.0129609,  0.0129866],\n",
       "       [ 0.0129578,  0.012948 ,  0.0129179,  0.0128749,  0.0129351,\n",
       "         0.012935 ,  0.0129302,  0.0129051,  0.0128886,  0.012919 ,\n",
       "         0.012968 ,  0.0129925,  0.0129548,  0.0128705,  0.0128942,\n",
       "         0.0129102,  0.0127968,  0.0129172,  0.0129444,  0.0129032,\n",
       "         0.0129481,  0.0129385,  0.0129578,  0.0129613,  0.0129207,\n",
       "         0.0129127,  0.0128965,  0.012929 ,  0.0129213,  0.0129048],\n",
       "       [ 0.012873 ,  0.012869 ,  0.0128665,  0.0128723,  0.0128785,\n",
       "         0.0128748,  0.0128946,  0.0129008,  0.0128481,  0.0129099,\n",
       "         0.0128983,  0.0128809,  0.0128964,  0.0128874,  0.0129008,\n",
       "         0.0128325,  0.0127805,  0.0128962,  0.0129294,  0.0128569,\n",
       "         0.0129368,  0.012895 ,  0.0129053,  0.0129215,  0.0129003,\n",
       "         0.0128899,  0.0129159,  0.0128744,  0.0128794,  0.01287  ],\n",
       "       [ 0.0128763,  0.0129107,  0.0128922,  0.0128436,  0.0128826,\n",
       "         0.012865 ,  0.0128973,  0.0128964,  0.0128712,  0.0129035,\n",
       "         0.0128459,  0.0128768,  0.0128641,  0.0128703,  0.0129098,\n",
       "         0.0127678,  0.0128003,  0.0128784,  0.012824 ,  0.012861 ,\n",
       "         0.012845 ,  0.0128296,  0.0128422,  0.0128885,  0.0128645,\n",
       "         0.012848 ,  0.0128508,  0.0128341,  0.0128578,  0.0129282],\n",
       "       [ 0.0127861,  0.0128656,  0.0128201,  0.0128475,  0.0128328,\n",
       "         0.0128438,  0.0128728,  0.0128781,  0.0129004,  0.0128496,\n",
       "         0.0128932,  0.0128689,  0.0128535,  0.0128619,  0.012949 ,\n",
       "         0.0127467,  0.0128048,  0.0128431,  0.0128296,  0.0128422,\n",
       "         0.0128087,  0.012861 ,  0.0128229,  0.0128809,  0.0128761,\n",
       "         0.0129035,  0.0128798,  0.012853 ,  0.0128364,  0.0128212],\n",
       "       [ 0.0128094,  0.0128387,  0.0128222,  0.0128403,  0.0128598,\n",
       "         0.0128292,  0.0128313,  0.0128296,  0.0128334,  0.0128218,\n",
       "         0.0128164,  0.0128492,  0.0128185,  0.0129107,  0.0129379,\n",
       "         0.0126629,  0.0127871,  0.0128034,  0.0128278,  0.0128317,\n",
       "         0.0128162,  0.0128057,  0.0127978,  0.0127934,  0.0128721,\n",
       "         0.0128499,  0.0128489,  0.0128276,  0.0128192,  0.0128189],\n",
       "       [ 0.0127744,  0.0128512,  0.0127768,  0.0128556,  0.0128217,\n",
       "         0.0128101,  0.012824 ,  0.0127886,  0.0128386,  0.0127989,\n",
       "         0.012813 ,  0.0128512,  0.0128426,  0.0128844,  0.0129239,\n",
       "         0.0126378,  0.0127575,  0.0127717,  0.0128386,  0.012851 ,\n",
       "         0.0128161,  0.0128163,  0.0128231,  0.0128284,  0.0128428,\n",
       "         0.0128251,  0.0128054,  0.0128337,  0.0128012,  0.0128119],\n",
       "       [ 0.0127462,  0.0127675,  0.012792 ,  0.0127999,  0.0128061,\n",
       "         0.0128249,  0.012765 ,  0.0128007,  0.0127954,  0.0128128,\n",
       "         0.0128289,  0.0127589,  0.0127622,  0.0129028,  0.0128862,\n",
       "         0.0125541,  0.0127699,  0.012768 ,  0.0127733,  0.012807 ,\n",
       "         0.0127973,  0.0127806,  0.0127708,  0.0127798,  0.012778 ,\n",
       "         0.0128029,  0.0128138,  0.0128263,  0.0128451,  0.0128035],\n",
       "       [ 0.0127712,  0.0127884,  0.0127908,  0.0127682,  0.0127987,\n",
       "         0.012764 ,  0.0127693,  0.0127766,  0.0127717,  0.0127522,\n",
       "         0.0127621,  0.0128117,  0.0128251,  0.0130733,  0.0127873,\n",
       "         0.012526 ,  0.0127438,  0.0127705,  0.0128116,  0.0128179,\n",
       "         0.0127726,  0.0127956,  0.012808 ,  0.0127891,  0.0127647,\n",
       "         0.0127835,  0.0127701,  0.0127585,  0.0127714,  0.0127533],\n",
       "       [ 0.0127432,  0.0127565,  0.0127781,  0.0127623,  0.0127741,\n",
       "         0.0127834,  0.0127932,  0.0127795,  0.0127528,  0.0128059,\n",
       "         0.0128146,  0.0128601,  0.0129065,  0.0133745,  0.012508 ,\n",
       "         0.0123649,  0.0127365,  0.0127994,  0.0127699,  0.012756 ,\n",
       "         0.0127372,  0.0127462,  0.0127844,  0.012749 ,  0.0127309,\n",
       "         0.0127579,  0.0127843,  0.0127697,  0.0127771,  0.012756 ],\n",
       "       [ 0.0127394,  0.0127919,  0.0127431,  0.0128069,  0.0127863,\n",
       "         0.0127809,  0.0128148,  0.0127797,  0.012787 ,  0.0127495,\n",
       "         0.0128193,  0.0128414,  0.0130628,  0.0135273,  0.0118761,\n",
       "         0.0123234,  0.0127298,  0.0127628,  0.0127416,  0.0127279,\n",
       "         0.0127707,  0.0127226,  0.0127802,  0.0127726,  0.0127844,\n",
       "         0.0127818,  0.0127563,  0.0127452,  0.0127505,  0.0127619],\n",
       "       [ 0.0127692,  0.0127826,  0.0127462,  0.0127415,  0.0127315,\n",
       "         0.0127592,  0.0127389,  0.0127452,  0.012768 ,  0.0127559,\n",
       "         0.0127745,  0.0128891,  0.0130868,  0.0129237,  0.0114431,\n",
       "         0.0120937,  0.0127164,  0.0127692,  0.0127389,  0.0127364,\n",
       "         0.0127548,  0.0127466,  0.012732 ,  0.0127499,  0.0127454,\n",
       "         0.0127457,  0.0127524,  0.012757 ,  0.012771 ,  0.0127153],\n",
       "       [ 0.0127258,  0.0127267,  0.012749 ,  0.0127478,  0.0127028,\n",
       "         0.0127227,  0.0127192,  0.0127552,  0.0128814,  0.0127134,\n",
       "         0.0127764,  0.0128114,  0.0127221,  0.0111119,  0.0110629,\n",
       "         0.0122693,  0.0127021,  0.0127546,  0.0129188,  0.01273  ,\n",
       "         0.0127096,  0.0127367,  0.0127365,  0.0127308,  0.0127148,\n",
       "         0.0127415,  0.0126983,  0.0127504,  0.0127651,  0.0127604],\n",
       "       [ 0.0127   ,  0.0127279,  0.012747 ,  0.012723 ,  0.0127325,\n",
       "         0.0127176,  0.0127721,  0.012686 ,  0.0127527,  0.0127047,\n",
       "         0.0126373,  0.0125199,  0.011979 ,  0.0098454,  0.0109596,\n",
       "         0.0122546,  0.0126594,  0.0126761,  0.0127377,  0.0127039,\n",
       "         0.0127197,  0.0126944,  0.0127397,  0.0127154,  0.0127307,\n",
       "         0.0127556,  0.0126868,  0.0126914,  0.0127104,  0.0127107],\n",
       "       [ 0.0126757,  0.0126595,  0.0127273,  0.0127403,  0.0127364,\n",
       "         0.012731 ,  0.0127164,  0.0126458,  0.0126492,  0.0125614,\n",
       "         0.0124817,  0.0123596,  0.0120898,  0.0108086,  0.0112552,\n",
       "         0.0124907,  0.0126871,  0.0127122,  0.0126958,  0.0126909,\n",
       "         0.012679 ,  0.0127036,  0.012686 ,  0.0126925,  0.0127109,\n",
       "         0.0126715,  0.0126974,  0.0127313,  0.0126974,  0.0127452],\n",
       "       [ 0.0126883,  0.0126821,  0.0126818,  0.0126906,  0.0126855,\n",
       "         0.012664 ,  0.0125819,  0.0125603,  0.0125417,  0.0125733,\n",
       "         0.0125148,  0.0124795,  0.0123818,  0.0121939,  0.0122579,\n",
       "         0.0125497,  0.0126598,  0.0126595,  0.0127108,  0.012728 ,\n",
       "         0.0126737,  0.0127573,  0.0127397,  0.0126723,  0.012695 ,\n",
       "         0.0126948,  0.012728 ,  0.0127294,  0.0127315,  0.0127285],\n",
       "       [ 0.012672 ,  0.0127201,  0.0126486,  0.0126862,  0.0126467,\n",
       "         0.012617 ,  0.0126054,  0.0126428,  0.0125696,  0.0125952,\n",
       "         0.01262  ,  0.0125751,  0.0126193,  0.0125803,  0.0125319,\n",
       "         0.0126009,  0.0126755,  0.0127044,  0.0126718,  0.0127597,\n",
       "         0.0127854,  0.012795 ,  0.0127581,  0.0126967,  0.012729 ,\n",
       "         0.0127285,  0.0127344,  0.012738 ,  0.0126969,  0.0127006],\n",
       "       [ 0.0126774,  0.0126461,  0.0126698,  0.0126384,  0.0126549,\n",
       "         0.0126154,  0.0126665,  0.0126583,  0.0126656,  0.0126576,\n",
       "         0.0126544,  0.01263  ,  0.0126647,  0.0126335,  0.0126579,\n",
       "         0.0126356,  0.0126904,  0.0126505,  0.01269  ,  0.0128451,\n",
       "         0.0130313,  0.0130487,  0.0128942,  0.0127668,  0.0126916,\n",
       "         0.0126795,  0.0126395,  0.0126702,  0.0126863,  0.0126849],\n",
       "       [ 0.0126548,  0.0126481,  0.0126556,  0.0126123,  0.0126388,\n",
       "         0.0126363,  0.0126504,  0.0126023,  0.0126453,  0.0126189,\n",
       "         0.012692 ,  0.0126595,  0.0126454,  0.0126326,  0.0126505,\n",
       "         0.0126706,  0.0126512,  0.0126797,  0.012742 ,  0.0132744,\n",
       "         0.0138622,  0.0132521,  0.012746 ,  0.0126428,  0.0126707,\n",
       "         0.0126686,  0.0126402,  0.012616 ,  0.0126442,  0.0126326],\n",
       "       [ 0.0126089,  0.01259  ,  0.0126425,  0.0126643,  0.0126767,\n",
       "         0.0126341,  0.0125789,  0.0126208,  0.0126499,  0.0126395,\n",
       "         0.0126316,  0.0126121,  0.0126282,  0.0126447,  0.0126177,\n",
       "         0.0126481,  0.0126207,  0.0126477,  0.0128922,  0.0140598,\n",
       "         0.0141474,  0.0128116,  0.012608 ,  0.0125921,  0.0126271,\n",
       "         0.0125978,  0.0126125,  0.0126038,  0.0126141,  0.01259  ],\n",
       "       [ 0.0125901,  0.0126269,  0.0125943,  0.0125814,  0.0126225,\n",
       "         0.0125358,  0.0126492,  0.0126429,  0.0126452,  0.0126081,\n",
       "         0.0126306,  0.0126111,  0.0125888,  0.0126043,  0.0126268,\n",
       "         0.0126241,  0.0126176,  0.0126245,  0.0129793,  0.0142107,\n",
       "         0.0132262,  0.01227  ,  0.0123868,  0.0124762,  0.012533 ,\n",
       "         0.0125539,  0.0126125,  0.0125679,  0.012592 ,  0.0126236],\n",
       "       [ 0.0125978,  0.0126209,  0.0125658,  0.0125672,  0.0125746,\n",
       "         0.0126241,  0.0125751,  0.0125874,  0.0125597,  0.0126076,\n",
       "         0.0125964,  0.0125758,  0.012612 ,  0.0126099,  0.0125772,\n",
       "         0.0125964,  0.012638 ,  0.012639 ,  0.0127507,  0.0137987,\n",
       "         0.0099739,  0.0095994,  0.011493 ,  0.0121667,  0.0124389,\n",
       "         0.01249  ,  0.0125914,  0.0125806,  0.012599 ,  0.0126086],\n",
       "       [ 0.0125916,  0.0125744,  0.0125915,  0.0125925,  0.0125981,\n",
       "         0.0126034,  0.0126234,  0.0125686,  0.0125795,  0.0125592,\n",
       "         0.0126159,  0.0125751,  0.0125922,  0.0125618,  0.0125544,\n",
       "         0.0125711,  0.0126232,  0.0126301,  0.0128014,  0.0131585,\n",
       "         0.0094514,  0.0083262,  0.0113995,  0.0123537,  0.0124601,\n",
       "         0.0125323,  0.0125906,  0.0125779,  0.0126045,  0.012626 ],\n",
       "       [ 0.0125507,  0.0125516,  0.0125474,  0.0125235,  0.0125476,\n",
       "         0.0125704,  0.01254  ,  0.0125493,  0.0125579,  0.0126023,\n",
       "         0.0125451,  0.0125611,  0.0126204,  0.0126074,  0.012549 ,\n",
       "         0.0125672,  0.0125964,  0.0126261,  0.0127821,  0.0126227,\n",
       "         0.0103234,  0.0105495,  0.0121601,  0.0123994,  0.0125031,\n",
       "         0.0125295,  0.0125753,  0.0125718,  0.0126178,  0.0125499],\n",
       "       [ 0.012524 ,  0.0125383,  0.0125288,  0.0125514,  0.0125353,\n",
       "         0.0125161,  0.0125506,  0.0125455,  0.0125351,  0.012583 ,\n",
       "         0.0125181,  0.0125028,  0.0125233,  0.0125388,  0.0125277,\n",
       "         0.0125225,  0.0125453,  0.0125704,  0.0127861,  0.0122885,\n",
       "         0.011116 ,  0.0115803,  0.0123817,  0.0124644,  0.0125451,\n",
       "         0.0125153,  0.0125611,  0.0125393,  0.0125325,  0.0125569]])"
      ]
     },
     "execution_count": 115,
     "metadata": {},
     "output_type": "execute_result"
    }
   ],
   "source": [
    "interpolated_data"
   ]
  },
  {
   "cell_type": "code",
   "execution_count": null,
   "metadata": {
    "collapsed": true
   },
   "outputs": [],
   "source": []
  }
 ],
 "metadata": {
  "kernelspec": {
   "display_name": "Python 3",
   "language": "python",
   "name": "python3"
  },
  "language_info": {
   "codemirror_mode": {
    "name": "ipython",
    "version": 3
   },
   "file_extension": ".py",
   "mimetype": "text/x-python",
   "name": "python",
   "nbconvert_exporter": "python",
   "pygments_lexer": "ipython3",
   "version": "3.6.1"
  }
 },
 "nbformat": 4,
 "nbformat_minor": 2
}
