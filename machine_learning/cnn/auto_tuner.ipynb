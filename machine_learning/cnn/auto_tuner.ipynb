{
 "cells": [
  {
   "cell_type": "code",
   "execution_count": 180,
   "metadata": {
    "collapsed": false
   },
   "outputs": [
    {
     "data": {
      "image/png": "[encoded data removed]",
      "text/plain": [
       "<matplotlib.figure.Figure at 0x11ed9b208>"
      ]
     },
     "metadata": {},
     "output_type": "display_data"
    }
   ],
   "source": [
    "# This notebook will be the auto-tuning routine that will find a single \n",
    "# dot window using the subimage classifier\n",
    "\n",
    "import matplotlib.pyplot as plt\n",
    "%matplotlib inline\n",
    "tf.logging.set_verbosity(tf.logging.ERROR)\n",
    "\n",
    "import numpy as np\n",
    "import tensorflow as tf\n",
    "import glob\n",
    "import os\n",
    "import time\n",
    "\n",
    "from tensorflow.contrib import learn\n",
    "from tensorflow.contrib.learn.python.learn.estimators import model_fn as model_fn_lib\n",
    "\n",
    "# application logic will be added here\n",
    "def cnn_model_fn(features,labels,mode):\n",
    "    '''Model function for CNN'''\n",
    "    #input layer\n",
    "    input_layer = tf.cast(tf.reshape(features,[-1,30,30,1]),tf.float32)\n",
    "    \n",
    "    conv1 = tf.layers.conv2d(inputs=input_layer,\n",
    "                            filters=32,\n",
    "                            kernel_size=[5,5],\n",
    "                            padding=\"same\",\n",
    "                            activation=tf.nn.relu)\n",
    "    pool1 = tf.layers.max_pooling2d(inputs=conv1, pool_size=[2,2],strides=2)\n",
    "    \n",
    "    conv2 = tf.layers.conv2d(inputs=pool1,\n",
    "                            filters=64,\n",
    "                            kernel_size=[5,5],\n",
    "                            padding=\"same\",\n",
    "                            activation=tf.nn.relu)\n",
    "    pool2 = tf.layers.max_pooling2d(inputs=conv2, pool_size=[2,2],strides=2)\n",
    "    \n",
    "    flat = tf.contrib.layers.flatten(inputs=pool2)\n",
    "    # dense output layer\n",
    "    out1 = tf.layers.dense(inputs=flat,units=1024,activation=tf.nn.relu)  \n",
    "    dropout1 = tf.layers.dropout(\n",
    "      inputs=out1, rate=0.4, training=mode == learn.ModeKeys.TRAIN)\n",
    "    \n",
    "    out = tf.layers.dense(inputs=dropout1, units=4)\n",
    "    \n",
    "    loss = None\n",
    "    train_op = None\n",
    "\n",
    "    # Calculate loss( for both TRAIN AND EVAL modes)\n",
    "    if mode != learn.ModeKeys.INFER:\n",
    "        loss = tf.losses.mean_squared_error(out,labels['prob'])\n",
    "\n",
    "    # Configure the training op (for TRAIN mode)\n",
    "    if mode == learn.ModeKeys.TRAIN:\n",
    "        train_op = tf.contrib.layers.optimize_loss(\n",
    "            loss=loss,\n",
    "            global_step=tf.contrib.framework.get_global_step(),\n",
    "            learning_rate=1e-3,\n",
    "            optimizer=tf.train.AdamOptimizer)\n",
    "\n",
    "    # Generate predictions\n",
    "    predictions= {\n",
    "        \"prob\" : out,\n",
    "        \"states\" : tf.argmax(out,axis=1),\n",
    "    }\n",
    "    \n",
    "    # Returna  ModelFnOps object\n",
    "    return model_fn_lib.ModelFnOps(mode=mode,predictions=predictions,loss=loss, train_op=train_op)\n",
    "dd_classifier = learn.Estimator(model_fn=cnn_model_fn,model_dir=\"/tmp/cnn_prob/\")\n",
    "\n",
    "\n",
    "def fitness(param,sub_size,dat,classifier):\n",
    "    x = int(param[0])\n",
    "    y = int(param[1])\n",
    "    sub_image = dat[(x - int(sub_size/2)) :\\\n",
    "                (x + int(sub_size/2)),(y - int(sub_size/2)):(y+int(sub_size/2))].flatten()\n",
    "    state = classifier.predict(x=np.array([sub_image],dtype=np.float32),as_iterable=False)\n",
    "    fitness = np.linalg.norm(state['prob'] - np.array([0,0,1,0]))\n",
    "    return fitness\n",
    "\n",
    "x_0 = 25\n",
    "y_0 = 25\n",
    "sub_size = 30\n",
    "data_folder_path = \"/Users/ssk4/Downloads/dataproc/\"\n",
    "files = glob.glob(data_folder_path + \"*.npy\")\n",
    "index = np.random.randint(len(files))\n",
    "dat = np.load(files[index]).item()['current_map']\n",
    "plt.pcolor(dat,vmax=1e-2)\n",
    "\n",
    "x_vec = np.arange(15,85,5)\n",
    "y_vec = np.arange(15,85,5)\n",
    "xx,yy = np.meshgrid(x_vec,y_vec)\n",
    "fit = np.zeros((len(x_vec),len(x_vec)))\n",
    "#for i in range(len(x_vec)):\n",
    "#    print(i)\n",
    "#    for j in range(len(y_vec)):\n",
    "#        x_0 = xx[i,j]\n",
    "#        y_0 = yy[i,j]\n",
    "#        fit[i,j] = fitness((x_0,y_0),sub_size,dat,dd_classifier)\n",
    "#print(fit)\n",
    "\n"
   ]
  },
  {
   "cell_type": "code",
   "execution_count": 182,
   "metadata": {
    "collapsed": false
   },
   "outputs": [
    {
     "name": "stdout",
     "output_type": "stream",
     "text": [
      "Initial fitness 1.29396168108\n",
      "     fun: 0.0053220488367122822\n",
      "   maxcv: 0.0\n",
      " message: 'Optimization terminated successfully.'\n",
      "    nfev: 25\n",
      "  status: 1\n",
      " success: True\n",
      "       x: array([ 68.1419403 ,  62.56994487])\n"
     ]
    },
    {
     "data": {
      "text/plain": [
       "<matplotlib.collections.PolyCollection at 0x11f4b1be0>"
      ]
     },
     "execution_count": 182,
     "metadata": {},
     "output_type": "execute_result"
    },
    {
     "data": {
      "image/png": "[encoded data removed]",
      "text/plain": [
       "<matplotlib.figure.Figure at 0x1206f9278>"
      ]
     },
     "metadata": {},
     "output_type": "display_data"
    }
   ],
   "source": [
    "\n",
    "def fitness(param,sub_size,dat,classifier):\n",
    "    x = int(param[0])\n",
    "    y = int(param[1])\n",
    "    sub_image = dat[(x - int(sub_size/2)) :\\\n",
    "                (x + int(sub_size/2)),(y - int(sub_size/2)):(y+int(sub_size/2))].flatten()\n",
    "    state = classifier.predict(x=np.array([sub_image],dtype=np.float32),as_iterable=False)\n",
    "    fitness = np.linalg.norm(state['prob'] - np.array([0,0,1,0]))\n",
    "    return fitness\n",
    "\n",
    "\n",
    "import scipy.optimize\n",
    "x_0 = 25\n",
    "y_0 = 25\n",
    "start_sub_image = dat[(x_0 - int(sub_size/2)) :\\\n",
    "                (x_0 + int(sub_size/2)),(y_0 - int(sub_size/2)):(y_0+int(sub_size/2))]\n",
    "print(\"Initial fitness\",fitness((x_0,y_0),sub_size,dat,dd_classifier))\n",
    "guess = np.array([x_0,y_0])\n",
    "cons = [{\"type\":\"ineq\",\"fun\":lambda x: x[0] - 16},\n",
    "        {\"type\":\"ineq\",\"fun\":lambda x: x[1] - 16},\n",
    "        {\"type\":\"ineq\",\"fun\":lambda x: 84 - x[0]},\n",
    "        {\"type\":\"ineq\",\"fun\":lambda x: 84 - x[1]}]\n",
    "\n",
    "res = scipy.optimize.minimize(fitness,x0=guess,args=(sub_size,dat,dd_classifier),method=\"cobyla\",\n",
    "                              options={\"rhobeg\":30.0,\"disp\":True},constraints=cons)\n",
    "print(res)\n",
    "x = int(res.x[0])\n",
    "y = int(res.x[1])\n",
    "sub_image = dat[(x - int(sub_size/2)) :\\\n",
    "                (x + int(sub_size/2)),(y - int(sub_size/2)):(y+int(sub_size/2))]\n",
    "plt.subplot(1,2,1)\n",
    "plt.pcolor(start_sub_image)\n",
    "plt.subplot(1,2,2)\n",
    "plt.pcolor(sub_image)"
   ]
  },
  {
   "cell_type": "code",
   "execution_count": 155,
   "metadata": {
    "collapsed": false,
    "scrolled": true
   },
   "outputs": [
    {
     "name": "stdout",
     "output_type": "stream",
     "text": [
      "basinhopping step 0: f 1.29451\n",
      "basinhopping step 1: f 1.29213 trial_f 1.29213 accepted 1  lowest_f 1.29213\n",
      "found new global minimum on step 1 with function value 1.29213\n",
      "basinhopping step 2: f 1.24172 trial_f 1.24172 accepted 1  lowest_f 1.24172\n",
      "found new global minimum on step 2 with function value 1.24172\n",
      "basinhopping step 3: f 1.20774 trial_f 1.20774 accepted 1  lowest_f 1.20774\n",
      "found new global minimum on step 3 with function value 1.20774\n",
      "basinhopping step 4: f 1.20774 trial_f 1.22207 accepted 0  lowest_f 1.20774\n",
      "basinhopping step 5: f 1.20606 trial_f 1.20606 accepted 1  lowest_f 1.20606\n",
      "found new global minimum on step 5 with function value 1.20606\n",
      "basinhopping step 6: f 1.20535 trial_f 1.20535 accepted 1  lowest_f 1.20535\n",
      "found new global minimum on step 6 with function value 1.20535\n",
      "basinhopping step 7: f 1.20535 trial_f 1.2103 accepted 0  lowest_f 1.20535\n",
      "basinhopping step 8: f 1.20213 trial_f 1.20213 accepted 1  lowest_f 1.20213\n",
      "found new global minimum on step 8 with function value 1.20213\n",
      "basinhopping step 9: f 1.20213 trial_f 1.26753 accepted 0  lowest_f 1.20213\n",
      "basinhopping step 10: f 1.20213 trial_f 1.21084 accepted 0  lowest_f 1.20213\n",
      "basinhopping step 11: f 1.20213 trial_f 1.28978 accepted 0  lowest_f 1.20213\n",
      "basinhopping step 12: f 1.20213 trial_f 1.20286 accepted 0  lowest_f 1.20213\n",
      "basinhopping step 13: f 1.19802 trial_f 1.19802 accepted 1  lowest_f 1.19802\n",
      "found new global minimum on step 13 with function value 1.19802\n",
      "basinhopping step 14: f 1.19802 trial_f 1.24726 accepted 0  lowest_f 1.19802\n",
      "basinhopping step 15: f 1.19802 trial_f 1.26488 accepted 0  lowest_f 1.19802\n",
      "basinhopping step 16: f 1.19802 trial_f 1.26549 accepted 0  lowest_f 1.19802\n",
      "basinhopping step 17: f 1.19802 trial_f 1.24302 accepted 0  lowest_f 1.19802\n",
      "basinhopping step 18: f 1.19802 trial_f 1.21521 accepted 0  lowest_f 1.19802\n",
      "basinhopping step 19: f 1.19802 trial_f 1.29451 accepted 0  lowest_f 1.19802\n",
      "basinhopping step 20: f 1.19802 trial_f 1.24406 accepted 0  lowest_f 1.19802\n",
      "basinhopping step 21: f 1.19802 trial_f 1.26175 accepted 0  lowest_f 1.19802\n",
      "basinhopping step 22: f 1.19802 trial_f 1.20406 accepted 0  lowest_f 1.19802\n",
      "basinhopping step 23: f 1.19802 trial_f 1.20272 accepted 0  lowest_f 1.19802\n",
      "basinhopping step 24: f 1.19802 trial_f 1.20089 accepted 0  lowest_f 1.19802\n",
      "basinhopping step 25: f 1.19802 trial_f 1.21369 accepted 0  lowest_f 1.19802\n",
      "                        fun: 1.1980247063374454\n",
      " lowest_optimization_result:       fun: 1.1980247063374454\n",
      " hess_inv: array([[1, 0],\n",
      "       [0, 1]])\n",
      "      jac: array([ 0.,  0.])\n",
      "  message: 'Optimization terminated successfully.'\n",
      "     nfev: 4\n",
      "      nit: 0\n",
      "     njev: 1\n",
      "   status: 0\n",
      "  success: True\n",
      "        x: array([ 23.91764352,  22.66741313])\n",
      "                    message: ['requested number of basinhopping iterations completed successfully']\n",
      "      minimization_failures: 0\n",
      "                       nfev: 104\n",
      "                        nit: 25\n",
      "                       njev: 26\n",
      "                          x: array([ 23.91764352,  22.66741313])\n"
     ]
    },
    {
     "data": {
      "text/plain": [
       "<matplotlib.collections.PolyCollection at 0x10f62bd30>"
      ]
     },
     "execution_count": 155,
     "metadata": {},
     "output_type": "execute_result"
    },
    {
     "data": {
      "image/png": "[encoded data removed]",
      "text/plain": [
       "<matplotlib.figure.Figure at 0x11fb2e5c0>"
      ]
     },
     "metadata": {},
     "output_type": "display_data"
    }
   ],
   "source": [
    "import scipy.optimize\n",
    "x_0 = 25\n",
    "y_0 = 25\n",
    "guess = np.array([x_0,y_0])\n",
    "res = scipy.optimize.basinhopping(fitness,x0=guess,minimizer_kwargs={\"args\":(sub_size,dat,dd_classifier)}\n",
    "                                 ,stepsize=5.0,T=1e-3,niter=25,disp=True)\n",
    "print(res)\n",
    "x = int(res.x[0])\n",
    "y = int(res.x[0])\n",
    "sub_image = dat[(x - int(sub_size/2)) :\\\n",
    "                (x + int(sub_size/2)),(y - int(sub_size/2)):(y+int(sub_size/2))]\n",
    "plt.pcolor(sub_image)"
   ]
  },
  {
   "cell_type": "code",
   "execution_count": 144,
   "metadata": {
    "collapsed": false
   },
   "outputs": [
    {
     "data": {
      "text/plain": [
       "55.924734758291116"
      ]
     },
     "execution_count": 144,
     "metadata": {},
     "output_type": "execute_result"
    }
   ],
   "source": [
    "res.x[0]"
   ]
  },
  {
   "cell_type": "code",
   "execution_count": 80,
   "metadata": {
    "collapsed": false
   },
   "outputs": [
    {
     "data": {
      "text/plain": [
       "84"
      ]
     },
     "execution_count": 80,
     "metadata": {},
     "output_type": "execute_result"
    }
   ],
   "source": [
    "xx[0,69]"
   ]
  },
  {
   "cell_type": "code",
   "execution_count": 86,
   "metadata": {
    "collapsed": false
   },
   "outputs": [
    {
     "data": {
      "text/plain": [
       "0.32660072586036004"
      ]
     },
     "execution_count": 86,
     "metadata": {},
     "output_type": "execute_result"
    }
   ],
   "source": [
    "x_0 = 15\n",
    "y_0 = 84\n",
    "fitness((x_0,y_0),sub_size,dat,dd_classifier)"
   ]
  },
  {
   "cell_type": "code",
   "execution_count": 84,
   "metadata": {
    "collapsed": false
   },
   "outputs": [
    {
     "data": {
      "text/plain": [
       "(100, 100)"
      ]
     },
     "execution_count": 84,
     "metadata": {},
     "output_type": "execute_result"
    }
   ],
   "source": [
    "dat.shape"
   ]
  },
  {
   "cell_type": "code",
   "execution_count": 189,
   "metadata": {
    "collapsed": false
   },
   "outputs": [
    {
     "data": {
      "image/png": "[encoded data removed]",
      "text/plain": [
       "<matplotlib.figure.Figure at 0x129c42eb8>"
      ]
     },
     "metadata": {},
     "output_type": "display_data"
    }
   ],
   "source": [
    "plt.pcolor(dat,vmax=1e-2)\n",
    "plt.xlabel(r'$V_{d1}$',fontsize=16)\n",
    "plt.ylabel(r'$V_{d2}$',fontsize=16)\n",
    "cb = plt.colorbar()\n",
    "cb.set_label('Condutance (arb. units)',fontsize=16)"
   ]
  },
  {
   "cell_type": "code",
   "execution_count": null,
   "metadata": {
    "collapsed": true
   },
   "outputs": [],
   "source": []
  }
 ],
 "metadata": {
  "kernelspec": {
   "display_name": "Python 3",
   "language": "python",
   "name": "python3"
  },
  "language_info": {
   "codemirror_mode": {
    "name": "ipython",
    "version": 3
   },
   "file_extension": ".py",
   "mimetype": "text/x-python",
   "name": "python",
   "nbconvert_exporter": "python",
   "pygments_lexer": "ipython3",
   "version": "3.6.1"
  }
 },
 "nbformat": 4,
 "nbformat_minor": 2
}
