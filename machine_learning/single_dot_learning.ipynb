{
 "cells": [
  {
   "cell_type": "code",
   "execution_count": 53,
   "metadata": {},
   "outputs": [
    {
     "name": "stdout",
     "output_type": "stream",
     "text": [
      "Number of inputs: 200\n",
      "Number of outputs: 100\n",
      "Total, Training, Test\n",
      "100 80 20\n",
      "Shh. The Machine is Learning! :  0 %\n",
      "Shh. The Machine is Learning! :  10 %\n",
      "Shh. The Machine is Learning! :  20 %\n",
      "Shh. The Machine is Learning! :  30 %\n",
      "Shh. The Machine is Learning! :  40 %\n",
      "Shh. The Machine is Learning! :  50 %\n",
      "Shh. The Machine is Learning! :  60 %\n",
      "Shh. The Machine is Learning! :  70 %\n",
      "Shh. The Machine is Learning! :  80 %\n",
      "Shh. The Machine is Learning! :  90 %\n",
      "\n",
      "Completed in 170.1993589401245 seconds.\n",
      "\n",
      "loss\n",
      "0.180817\n"
     ]
    }
   ],
   "source": [
    "# learn the (V,I) -> C relationship\n",
    "import tensorflow as tf\n",
    "import numpy as np\n",
    "import matplotlib.pyplot as plt\n",
    "import time\n",
    "import os\n",
    "%matplotlib inline\n",
    "st = time.time()\n",
    "\n",
    "# data is assumed to be [V_vec I_vec C_vec]\n",
    "# number of input_param is variable and is determined by the code\n",
    "\n",
    "\n",
    "# change the file name if using a different system\n",
    "data = np.loadtxt(os.path.expanduser('~/quantum-ml/data/var_K_I_V.txt'))\n",
    "\n",
    "# data randomly permuted to improve learning rate\n",
    "data = np.random.permutation(data)\n",
    "n_tot = data.shape[0]\n",
    "n_train = int(0.8*n_tot)\n",
    "n_test = n_tot - n_train\n",
    "\n",
    "# input parameters\n",
    "n_inp = 2*int(data.shape[1]/3)\n",
    "n_out = int(data.shape[1]/3)\n",
    "print(\"Number of inputs:\", n_inp)\n",
    "print(\"Number of outputs:\", n_out)\n",
    "\n",
    "x_train_data = data[:n_train,:n_inp].reshape((n_train,n_inp))\n",
    "y_train_data = data[:n_train,n_inp:].reshape((n_train,n_out))/5.0\n",
    "\n",
    "x_test_data = data[n_train:,:n_inp].reshape((n_test,n_inp))\n",
    "y_test_data = data[n_train:,n_inp:].reshape((n_test,n_out))/5.0                 \n",
    "\n",
    "\n",
    "print(\"Total, Training, Test\")\n",
    "print(n_tot, n_train, n_test)\n",
    "\n",
    "x = tf.placeholder(tf.float32,[None,n_inp])\n",
    "\n",
    "W = tf.Variable(tf.zeros([n_inp,n_out]))\n",
    "b = tf.Variable(tf.zeros([n_out]))\n",
    "\n",
    "y = tf.nn.softmax(tf.matmul(x, W) + b)\n",
    "\n",
    "y_ = tf.placeholder(tf.float32,[None,n_out])\n",
    "loss = tf.reduce_mean(tf.square(y_ - y))\n",
    "train_step = tf.train.GradientDescentOptimizer(0.01).minimize(loss)\n",
    "\n",
    "sess = tf.InteractiveSession()\n",
    "tf.global_variables_initializer().run()\n",
    "\n",
    "N_train = 100000\n",
    "for _ in range(N_train):\n",
    "    if (_ % (N_train/10) == 0):\n",
    "        print(\"Shh. The Machine is Learning! : \",int(_ * 100/ N_train),\"%\")\n",
    "    (batch_xs, batch_ys) = x_train_data,y_train_data\n",
    "    sess.run(train_step, feed_dict={x: batch_xs, y_: batch_ys})\n",
    "\n",
    "print(\"\\nCompleted in\",time.time()-st,\"seconds.\")\n",
    "\n",
    "print(\"\\nloss\")\n",
    "print(sess.run(loss, feed_dict={x: x_test_data, y_: y_test_data}))"
   ]
  },
  {
   "cell_type": "code",
   "execution_count": 55,
   "metadata": {},
   "outputs": [
    {
     "data": {
      "text/plain": [
       "<matplotlib.text.Text at 0x115f66898>"
      ]
     },
     "execution_count": 55,
     "metadata": {},
     "output_type": "execute_result"
    },
    {
     "data": {
      "image/png": "[encoded data removed]",
      "text/plain": [
       "<matplotlib.figure.Figure at 0x115f4c080>"
      ]
     },
     "metadata": {},
     "output_type": "display_data"
    }
   ],
   "source": [
    "z = y\n",
    "z_corr = y_\n",
    "output_model = sess.run([z,z_corr],{x:x_test_data,y_: y_test_data})\n",
    "\n",
    "#print(output_model)\n",
    "plt.plot(x_test_data[4,:n_out],output_model[1][4],'b+')\n",
    "plt.plot(x_test_data[4,:n_out],output_model[0][4],'rx')\n",
    "plt.legend(['Acutal','Prediction'])\n",
    "plt.xlabel('V_d',fontsize=16)\n",
    "plt.ylabel('Charge state',fontsize=16)"
   ]
  },
  {
   "cell_type": "code",
   "execution_count": 4,
   "metadata": {},
   "outputs": [
    {
     "data": {
      "text/plain": [
       "<matplotlib.legend.Legend at 0x11894a9d0>"
      ]
     },
     "execution_count": 4,
     "metadata": {},
     "output_type": "execute_result"
    },
    {
     "data": {
      "image/png": "[encoded data removed]",
      "text/plain": [
       "<matplotlib.figure.Figure at 0x116294350>"
      ]
     },
     "metadata": {},
     "output_type": "display_data"
    }
   ],
   "source": [
    "diff = np.abs(output_model[0]-output_model[1])\n",
    "corr = [i for i, ele in enumerate(diff) if ele == 0]\n",
    "err = [i for i, ele in enumerate(diff) if ele > 0]\n",
    "plt.plot(x_test_data[corr,0],diff[corr],'go')\n",
    "plt.plot(x_test_data[err,0],diff[err],'ro')\n",
    "plt.xlabel('V_d',fontsize=16)\n",
    "plt.ylabel('abs(Expected - Predicted)',fontsize=16)\n",
    "plt.legend(['Correct','Error'])"
   ]
  },
  {
   "cell_type": "code",
   "execution_count": null,
   "metadata": {
    "collapsed": true
   },
   "outputs": [],
   "source": []
  }
 ],
 "metadata": {
  "kernelspec": {
   "display_name": "Python 3",
   "language": "python",
   "name": "python3"
  },
  "language_info": {
   "codemirror_mode": {
    "name": "ipython",
    "version": 3
   },
   "file_extension": ".py",
   "mimetype": "text/x-python",
   "name": "python",
   "nbconvert_exporter": "python",
   "pygments_lexer": "ipython3",
   "version": "3.5.2"
  }
 },
 "nbformat": 4,
 "nbformat_minor": 2
}
