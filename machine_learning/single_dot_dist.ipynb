{
 "cells": [
  {
   "cell_type": "code",
   "execution_count": 262,
   "metadata": {
    "collapsed": false
   },
   "outputs": [
    {
     "name": "stdout",
     "output_type": "stream",
     "text": [
      "Total, Training, Test\n",
      "500 400 100\n",
      "Validation accuracy 0.6023\n",
      "Completed in 83.07342314720154 seconds.\n"
     ]
    }
   ],
   "source": [
    "import numpy as np\n",
    "import os\n",
    "import time\n",
    "import matplotlib.pyplot as plt\n",
    "import tensorflow as tf\n",
    "%matplotlib inline\n",
    "\n",
    "tf.logging.set_verbosity(tf.logging.ERROR)\n",
    "\n",
    "\n",
    "st = time.time()\n",
    "\n",
    "# data is an array of dicts where the array index stands for the sample number\n",
    "data = np.load(os.path.expanduser('~/quantum-ml/data/random_K_b_mu_h.npy'))\n",
    "\n",
    "n_tot = data.shape[0]\n",
    "# train_total_factor : size of training set in comparison to the total\n",
    "# 0.8 sound good\n",
    "train_total_factor = 0.8\n",
    "n_train = int(train_total_factor*n_tot)\n",
    "n_test = n_tot - n_train\n",
    "\n",
    "print(\"Total, Training, Test\")\n",
    "print(n_tot, n_train, n_test)\n",
    "\n",
    "# number of inputs is length of the current vector and number of parameters like K_onsite,b_mu,b_h and so on\n",
    "n_inp = len(data[0]['I'])\n",
    "\n",
    "# number of outputs\n",
    "n_out = len(data[0]['CS'])\n",
    "\n",
    "I_test_data = np.array([np.cumsum(x['I']) for x in data[n_train:]])\n",
    "Y_test_data = np.array([x['CS'] for x in data[n_train:]])\n",
    "\n",
    "#get data\n",
    "def get_train_inputs():\n",
    "    train_data = np.random.permutation(data[:n_train])\n",
    "    I_train_data = np.array([np.cumsum(x['I']) for x in train_data])\n",
    "    Y_train_data = np.array([x['CS'] for x in train_data])\n",
    "    x = tf.constant(I_train_data)\n",
    "    y = tf.constant(Y_train_data)\n",
    "    feature_cols = {\"I\": x}\n",
    "    return feature_cols,y\n",
    "\n",
    "def get_test_inputs():\n",
    "    x = tf.constant(I_test_data)\n",
    "    y = tf.constant(Y_test_data)\n",
    "    feature_cols = {\"I\": x}\n",
    "    return feature_cols,y\n",
    "\n",
    "# load datasets\n",
    "I = tf.contrib.layers.real_valued_column(\"I\",dimension=n_inp)\n",
    "features = [I]\n",
    "regressor = tf.contrib.learn.DNNRegressor(feature_columns=features,label_dimension=n_out,hidden_units=[100,50,24,12,6])\n",
    "\n",
    "# Magic happens here!\n",
    "\n",
    "regressor.fit(input_fn=get_train_inputs, steps=10000)\n",
    "\n",
    "\n",
    "predictions = np.rint(list(regressor.predict(input_fn=get_test_inputs)))\n",
    "y = tf.constant(predictions,tf.float32)\n",
    "y_ = tf.constant(Y_test_data,tf.float32)\n",
    "diff = tf.equal(y , y_)\n",
    "accuracy = tf.reduce_mean(tf.cast(diff, tf.float32))\n",
    "sess = tf.InteractiveSession()\n",
    "tf.global_variables_initializer().run()\n",
    "a = sess.run(accuracy)\n",
    "print(\"Validation accuracy\",a)\n",
    "\n",
    "print(\"Completed in\",time.time()-st, \"seconds.\")"
   ]
  },
  {
   "cell_type": "code",
   "execution_count": 259,
   "metadata": {
    "collapsed": false
   },
   "outputs": [
    {
     "name": "stdout",
     "output_type": "stream",
     "text": [
      "Validation accuracy 0.8291\n"
     ]
    },
    {
     "data": {
      "text/plain": [
       "[<matplotlib.lines.Line2D at 0x117c5cac8>]"
      ]
     },
     "execution_count": 259,
     "metadata": {},
     "output_type": "execute_result"
    },
    {
     "data": {
      "image/png": "[encoded data removed]",
      "text/plain": [
       "<matplotlib.figure.Figure at 0x117c5cef0>"
      ]
     },
     "metadata": {},
     "output_type": "display_data"
    }
   ],
   "source": [
    "predictions = np.rint(list(regressor.predict(input_fn=get_test_inputs)))\n",
    "y = tf.constant(predictions,tf.float32)\n",
    "y_ = tf.constant(Y_test_data,tf.float32)\n",
    "diff = tf.equal(y , y_)\n",
    "accuracy = tf.reduce_mean(tf.cast(diff, tf.float32))\n",
    "sess = tf.InteractiveSession()\n",
    "tf.global_variables_initializer().run()\n",
    "a = sess.run(accuracy)\n",
    "print(\"Validation accuracy\",a)\n",
    "\n",
    "i = 8\n",
    "plt.plot(Y_test_data[i])\n",
    "plt.plot(predictions[i])"
   ]
  },
  {
   "cell_type": "code",
   "execution_count": 223,
   "metadata": {
    "collapsed": false
   },
   "outputs": [
    {
     "data": {
      "text/plain": [
       "<matplotlib.collections.PolyCollection at 0x118cbb128>"
      ]
     },
     "execution_count": 223,
     "metadata": {},
     "output_type": "execute_result"
    },
    {
     "data": {
      "image/png": "[encoded data removed]",
      "text/plain": [
       "<matplotlib.figure.Figure at 0x11887a240>"
      ]
     },
     "metadata": {},
     "output_type": "display_data"
    }
   ],
   "source": [
    "plt.pcolor(Y_test_data)\n"
   ]
  },
  {
   "cell_type": "code",
   "execution_count": 225,
   "metadata": {
    "collapsed": false
   },
   "outputs": [
    {
     "data": {
      "text/plain": [
       "<matplotlib.collections.PolyCollection at 0x118390b38>"
      ]
     },
     "execution_count": 225,
     "metadata": {},
     "output_type": "execute_result"
    },
    {
     "data": {
      "image/png": "[encoded data removed]",
      "text/plain": [
       "<matplotlib.figure.Figure at 0x1182cf5f8>"
      ]
     },
     "metadata": {},
     "output_type": "display_data"
    }
   ],
   "source": [
    "plt.pcolor(predictions)"
   ]
  },
  {
   "cell_type": "code",
   "execution_count": 233,
   "metadata": {
    "collapsed": false
   },
   "outputs": [
    {
     "data": {
      "text/plain": [
       "<matplotlib.colorbar.Colorbar at 0x11cd324e0>"
      ]
     },
     "execution_count": 233,
     "metadata": {},
     "output_type": "execute_result"
    },
    {
     "data": {
      "image/png": "[encoded data removed]",
      "text/plain": [
       "<matplotlib.figure.Figure at 0x11c5d7470>"
      ]
     },
     "metadata": {},
     "output_type": "display_data"
    }
   ],
   "source": [
    "plt.pcolor(predictions-Y_test_data,cmap='bwr')\n",
    "plt.colorbar()"
   ]
  },
  {
   "cell_type": "code",
   "execution_count": null,
   "metadata": {
    "collapsed": true
   },
   "outputs": [],
   "source": []
  }
 ],
 "metadata": {
  "kernelspec": {
   "display_name": "Python 3",
   "language": "python",
   "name": "python3"
  },
  "language_info": {
   "codemirror_mode": {
    "name": "ipython",
    "version": 3
   },
   "file_extension": ".py",
   "mimetype": "text/x-python",
   "name": "python",
   "nbconvert_exporter": "python",
   "pygments_lexer": "ipython3",
   "version": "3.6.1"
  }
 },
 "nbformat": 4,
 "nbformat_minor": 2
}
