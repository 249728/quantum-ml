{
 "cells": [
  {
   "cell_type": "code",
   "execution_count": null,
   "metadata": {
    "collapsed": false
   },
   "outputs": [
    {
     "name": "stdout",
     "output_type": "stream",
     "text": [
      "Number of inputs: 100\n",
      "Number of outputs: 100\n",
      "Number of classes:  10\n",
      "Total, Training, Test\n",
      "1000 800 200\n",
      "0\n",
      "10000\n",
      "20000\n",
      "30000\n",
      "40000\n",
      "50000\n",
      "60000\n",
      "70000\n",
      "80000\n",
      "90000\n"
     ]
    }
   ],
   "source": [
    "import numpy as np\n",
    "import os\n",
    "import tensorflow as tf\n",
    "import time\n",
    "import matplotlib.pyplot as plt\n",
    "\n",
    "%matplotlib inline\n",
    "st = time.time()\n",
    "\n",
    "# data is assumed to be [V_vec I_vec C_vec]\n",
    "# all vec are of the same size\n",
    "\n",
    "# change the file name if using a different set\n",
    "data = np.loadtxt(os.path.expanduser('~/quantum-ml/data/var_K_I_V_1000_3_10meV.txt'))\n",
    "\n",
    "# data randomly permuted to avoid bias in the way the data is generated.\n",
    "data = np.random.permutation(data)\n",
    "n_tot = data.shape[0]\n",
    "# train_total_factor : size of training set in comparison to the total\n",
    "# 0.8 sound good\n",
    "train_total_factor = 0.8\n",
    "n_train = int(train_total_factor*n_tot)\n",
    "n_test = n_tot - n_train\n",
    "\n",
    "# input parameters\n",
    "n_inp = int(data.shape[1]/3)\n",
    "n_out = int(data.shape[1]/3)\n",
    "print(\"Number of inputs:\", n_inp)\n",
    "print(\"Number of outputs:\", n_out)\n",
    "\n",
    "max_charge_state = int(np.max(data[:,n_inp:]))\n",
    "num_classes = max_charge_state + 1\n",
    "print(\"Number of classes: \",num_classes)\n",
    "\n",
    "x_train_data = data[:n_train,n_inp:2*n_inp].reshape((n_train,n_inp))\n",
    "# convert the y_data into the form of the output of a classifier\n",
    "y_train_data = np.zeros((n_train,n_out,num_classes))\n",
    "for i in range(n_train):\n",
    "    charge_state_vec = data[i,2*n_inp:].astype(int)\n",
    "    for j in range(len(charge_state_vec)):\n",
    "        y_train_data[i,j,charge_state_vec[j]] = 1.0\n",
    "x_test_data = data[n_train:,n_inp:2*n_inp].reshape((n_test,n_inp))\n",
    "y_test_data = np.zeros((n_test,n_out,num_classes))\n",
    "for i in range(n_train,n_tot):\n",
    "    charge_state_vec = data[i,2*n_inp:].astype(int)\n",
    "    for j in range(len(charge_state_vec)):\n",
    "        y_test_data[i - n_train,j,charge_state_vec[j]] = 1.0\n",
    "\n",
    "print(\"Total, Training, Test\")\n",
    "print(n_tot, n_train, n_test)\n",
    "\n",
    "x = tf.placeholder(tf.float32, [None, n_inp])\n",
    "\n",
    "W = tf.Variable(tf.zeros([n_inp,n_out,num_classes]))\n",
    "b = tf.Variable(tf.zeros([n_out,num_classes]))\n",
    "\n",
    "\n",
    "W_mul = tf.reshape(W,[n_inp,n_out*num_classes])\n",
    "prod = tf.matmul(x, W_mul)\n",
    "Wx = tf.reshape(prod,[-1,n_out,num_classes])\n",
    "y = tf.nn.softmax(Wx + b)\n",
    "\n",
    "# this node holds the expected output data\n",
    "y_ = tf.placeholder(tf.float32, [None, n_out, num_classes])\n",
    "\n",
    "cross_entropy = tf.nn.softmax_cross_entropy_with_logits(logits=y,labels=y_)\n",
    "cost = tf.reduce_mean(cross_entropy)\n",
    "\n",
    "train_step = tf.train.GradientDescentOptimizer(100).minimize(cost)\n",
    "sess = tf.InteractiveSession()\n",
    "tf.global_variables_initializer().run()\n",
    "\n",
    "N_steps = 100000\n",
    "for _ in range(N_steps):\n",
    "    batch_xs, batch_ys = x_train_data,y_train_data\n",
    "    sess.run(train_step, feed_dict={x: batch_xs, y_: batch_ys})\n",
    "    if (_ % (N_steps/10) == 0):\n",
    "        print(_)\n",
    "\n",
    "correct_prediction = tf.equal(tf.argmax(y,-1), tf.argmax(y_,-1))\n",
    "accuracy = tf.reduce_mean(tf.cast(correct_prediction, tf.float32))\n",
    "print(sess.run(accuracy, feed_dict={x: x_test_data, y_: y_test_data}))\n",
    "print(\"Completed in \",time.time()-st,\"seconds.\")"
   ]
  },
  {
   "cell_type": "code",
   "execution_count": 46,
   "metadata": {
    "collapsed": false
   },
   "outputs": [
    {
     "data": {
      "text/plain": [
       "<matplotlib.text.Text at 0x11223da90>"
      ]
     },
     "execution_count": 46,
     "metadata": {},
     "output_type": "execute_result"
    },
    {
     "data": {
      "image/png": "[encoded data removed]",
      "text/plain": [
       "<matplotlib.figure.Figure at 0x11aeed5f8>"
      ]
     },
     "metadata": {},
     "output_type": "display_data"
    }
   ],
   "source": [
    "z = tf.argmax(y,-1)\n",
    "z_corr = tf.argmax(y_,-1)\n",
    "output_model = sess.run([z,z_corr],{x:x_test_data,y_: y_test_data})\n",
    "\n",
    "i = 2\n",
    "plt.plot(output_model[1][i],'b+')\n",
    "plt.plot(output_model[0][i],'rx')\n",
    "plt.legend(['Acutal','Prediction'])\n",
    "plt.xlabel('V_d',fontsize=16)\n",
    "plt.ylabel('Charge state',fontsize=16)"
   ]
  },
  {
   "cell_type": "code",
   "execution_count": 30,
   "metadata": {
    "collapsed": false
   },
   "outputs": [
    {
     "name": "stdout",
     "output_type": "stream",
     "text": [
      "(800, 200)\n"
     ]
    }
   ],
   "source": [
    "print(x_train_data.shape)"
   ]
  },
  {
   "cell_type": "code",
   "execution_count": 31,
   "metadata": {
    "collapsed": false
   },
   "outputs": [
    {
     "name": "stdout",
     "output_type": "stream",
     "text": [
      "[array([[0, 0, 0, ..., 3, 3, 3],\n",
      "       [0, 0, 0, ..., 3, 3, 3],\n",
      "       [0, 0, 0, ..., 3, 3, 3],\n",
      "       ..., \n",
      "       [0, 0, 0, ..., 3, 3, 3],\n",
      "       [0, 0, 0, ..., 3, 3, 3],\n",
      "       [0, 0, 0, ..., 3, 3, 3]]), array([[0, 0, 0, ..., 3, 3, 3],\n",
      "       [0, 0, 0, ..., 6, 6, 6],\n",
      "       [0, 0, 0, ..., 3, 3, 3],\n",
      "       ..., \n",
      "       [0, 0, 0, ..., 3, 3, 3],\n",
      "       [0, 0, 0, ..., 3, 3, 3],\n",
      "       [0, 0, 0, ..., 3, 3, 3]])]\n"
     ]
    }
   ],
   "source": [
    "print(output_model\n",
    "     )"
   ]
  },
  {
   "cell_type": "code",
   "execution_count": null,
   "metadata": {
    "collapsed": true
   },
   "outputs": [],
   "source": []
  }
 ],
 "metadata": {
  "kernelspec": {
   "display_name": "Python 3",
   "language": "python",
   "name": "python3"
  },
  "language_info": {
   "codemirror_mode": {
    "name": "ipython",
    "version": 3
   },
   "file_extension": ".py",
   "mimetype": "text/x-python",
   "name": "python",
   "nbconvert_exporter": "python",
   "pygments_lexer": "ipython3",
   "version": "3.6.1"
  }
 },
 "nbformat": 4,
 "nbformat_minor": 2
}
