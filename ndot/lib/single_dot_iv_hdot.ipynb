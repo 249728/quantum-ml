{
 "cells": [
  {
   "cell_type": "code",
   "execution_count": 50,
   "metadata": {
    "collapsed": false
   },
   "outputs": [
    {
     "name": "stdout",
     "output_type": "stream",
     "text": [
      "0\n",
      "(11, 1)\n",
      "1\n",
      "(11, 1)\n",
      "2\n",
      "(10, 1)\n",
      "3\n",
      "(10, 1)\n",
      "4\n",
      "(10, 1)\n",
      "5\n",
      "(9, 1)\n",
      "6\n",
      "(9, 1)\n",
      "7\n",
      "(9, 1)\n",
      "8\n",
      "(9, 1)\n",
      "9\n",
      "(9, 1)\n",
      "10\n",
      "(9, 1)\n",
      "11\n",
      "(8, 1)\n",
      "12\n",
      "(8, 1)\n",
      "13\n",
      "(8, 1)\n",
      "14\n",
      "(7, 1)\n",
      "15\n",
      "(7, 1)\n",
      "16\n",
      "(7, 1)\n",
      "17\n",
      "(7, 1)\n",
      "18\n",
      "(7, 1)\n",
      "19\n",
      "(7, 1)\n",
      "20\n",
      "(6, 1)\n",
      "21\n",
      "(6, 1)\n",
      "22\n",
      "(6, 1)\n",
      "23\n",
      "(5, 1)\n",
      "24\n",
      "(5, 1)\n"
     ]
    }
   ],
   "source": [
    "# (V_d,h_dot,I) for a single dot\n",
    "\n",
    "import numpy as np\n",
    "import networkx as nx\n",
    "import matplotlib.pyplot as plt\n",
    "%matplotlib inline\n",
    "\n",
    "import dot_classifier\n",
    "reload(dot_classifier)\n",
    "import dot_classifier_tf\n",
    "reload(dot_classifier_tf)\n",
    "import thomas_fermi\n",
    "reload(thomas_fermi)\n",
    "import markov_graph\n",
    "reload(markov_graph)\n",
    "import potential_profile\n",
    "reload(potential_profile)\n",
    "import tunneling\n",
    "reload(tunneling)\n",
    "import rank_nullspace\n",
    "reload(rank_nullspace)\n",
    "\n",
    "import time\n",
    "\n",
    "st = time.time()\n",
    "N_v_points = 100\n",
    "V_d_vec = np.linspace(200e-3,170e-3,N_v_points)\n",
    "\n",
    "N_grid= 100\n",
    "x = np.linspace(-1,1,N_grid)\n",
    "K = thomas_fermi.create_K_matrix(x,E_scale=1e-3,sigma= (x[1] - x[0]),x_0= (x[1] - x[0]))\n",
    "\n",
    "battery_ind = []\n",
    "max_prob_node = []\n",
    "\n",
    "h_points = 25\n",
    "h_vec = np.linspace(0.9,1.1,h_points)\n",
    "\n",
    "I_vec = np.zeros((h_points,N_v_points))\n",
    "charge_state = np.zeros((h_points,N_v_points))\n",
    "\n",
    "for i in range(h_points):\n",
    "    print i\n",
    "    for j in range(N_v_points):\n",
    "        d = (V_d_vec[j],0,0.1,1)\n",
    "        b1 = (-200e-3,0.4,0.1,1)\n",
    "        b2 = (-200e-3*h_vec[i],-0.4,0.1,1)\n",
    "\n",
    "        V = potential_profile.single_dot_V_x_wire(x,d,b1,b2)                       \n",
    "        mu_l = (0.05,0.05+0.001)\n",
    "    \n",
    "        graph_model = (25,1)\n",
    "        battery_weight = 10000\n",
    "        kT = 400e-6\n",
    "        physics = (x,V,K,mu_l,battery_weight,kT)\n",
    "\n",
    "        if(j==0):\n",
    "            G = markov_graph.generate_graph(graph_model, physics)\n",
    "            battery_ind = markov_graph.get_battery_nodes(G)\n",
    "            max_prob_node_trial  = markov_graph.get_max_prob_node(G)[0][1]\n",
    "            graph_model = (max_prob_node_trial,1)\n",
    "            print graph_model\n",
    "            G = markov_graph.generate_graph(graph_model, physics)\n",
    "            battery_ind = markov_graph.get_battery_nodes(G)\n",
    "        else:\n",
    "            G = markov_graph.recalculate_weights(G,physics)  \n",
    "   \n",
    "        I_vec[i,j] = markov_graph.get_current(G,battery_ind)\n",
    "        charge_state[i,j] = markov_graph.get_max_prob_node(G)[0][1]\n"
   ]
  },
  {
   "cell_type": "code",
   "execution_count": 55,
   "metadata": {
    "collapsed": false
   },
   "outputs": [
    {
     "data": {
      "text/plain": [
       "<matplotlib.text.Text at 0x11883ed90>"
      ]
     },
     "execution_count": 55,
     "metadata": {},
     "output_type": "execute_result"
    },
    {
     "data": {
      "image/png": "[encoded data removed]",
      "text/plain": [
       "<matplotlib.figure.Figure at 0x118814950>"
      ]
     },
     "metadata": {},
     "output_type": "display_data"
    }
   ],
   "source": [
    "XX,YY = np.meshgrid(V_d_vec,h_vec) \n",
    "plt.pcolor(XX,YY,I_vec,cmap='RdBu')\n",
    "plt.colorbar(label='Conductance')\n",
    "plt.xlabel('V_d',fontsize=16)\n",
    "plt.ylabel('h',fontsize=16)"
   ]
  },
  {
   "cell_type": "code",
   "execution_count": 54,
   "metadata": {
    "collapsed": false
   },
   "outputs": [
    {
     "data": {
      "text/plain": [
       "<matplotlib.text.Text at 0x118507390>"
      ]
     },
     "execution_count": 54,
     "metadata": {},
     "output_type": "execute_result"
    },
    {
     "data": {
      "image/png": "[encoded data removed]",
      "text/plain": [
       "<matplotlib.figure.Figure at 0x118517210>"
      ]
     },
     "metadata": {},
     "output_type": "display_data"
    }
   ],
   "source": [
    "XX,YY = np.meshgrid(V_d_vec,h_vec) \n",
    "plt.pcolor(XX,YY,charge_state)\n",
    "plt.colorbar(label='charge_state')\n",
    "plt.xlabel('V_d',fontsize=16)\n",
    "plt.ylabel('h',fontsize=16)"
   ]
  },
  {
   "cell_type": "code",
   "execution_count": null,
   "metadata": {
    "collapsed": true
   },
   "outputs": [],
   "source": []
  },
  {
   "cell_type": "code",
   "execution_count": null,
   "metadata": {
    "collapsed": true
   },
   "outputs": [],
   "source": []
  }
 ],
 "metadata": {
  "kernelspec": {
   "display_name": "Python 2",
   "language": "python",
   "name": "python2"
  },
  "language_info": {
   "codemirror_mode": {
    "name": "ipython",
    "version": 2
   },
   "file_extension": ".py",
   "mimetype": "text/x-python",
   "name": "python",
   "nbconvert_exporter": "python",
   "pygments_lexer": "ipython2",
   "version": "2.7.13"
  }
 },
 "nbformat": 4,
 "nbformat_minor": 2
}
