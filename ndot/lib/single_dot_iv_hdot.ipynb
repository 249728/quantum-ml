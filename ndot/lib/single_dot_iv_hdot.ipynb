{
 "cells": [
  {
   "cell_type": "code",
   "execution_count": 7,
   "metadata": {
    "collapsed": false
   },
   "outputs": [
    {
     "name": "stdout",
     "output_type": "stream",
     "text": [
      "Automatic pdb calling has been turned ON\n",
      "0\n",
      "0.08 (15, 1)\n",
      "1\n",
      "0.08125 (14, 1)\n",
      "2\n",
      "0.0825 (14, 1)\n",
      "3\n",
      "0.08375 (13, 1)\n",
      "4\n",
      "0.085 (13, 1)\n",
      "5\n",
      "0.08625 (12, 1)\n",
      "6\n",
      "0.0875 (11, 1)\n",
      "7\n",
      "0.08875 (11, 1)\n",
      "8\n",
      "0.09 (10, 1)\n",
      "9\n",
      "0.09125 (9, 1)\n",
      "10\n",
      "0.0925 (9, 1)\n",
      "11\n",
      "0.09375 (8, 1)\n",
      "12\n",
      "0.095 (8, 1)\n",
      "13\n",
      "0.09625 (7, 1)\n",
      "14\n",
      "0.0975 (7, 1)\n",
      "15\n",
      "0.09875 (6, 1)\n",
      "16\n",
      "0.1 (5, 1)\n",
      "17\n",
      "0.10125 (5, 1)\n",
      "18\n",
      "0.1025 (4, 1)\n",
      "19\n",
      "0.10375 (4, 1)\n",
      "20\n",
      "0.105 (3, 1)\n",
      "21\n",
      "0.10625 (2, 1)\n",
      "22\n",
      "0.1075 (2, 1)\n",
      "23\n",
      "0.10875 (1, 1)\n",
      "24\n",
      "0.11 (1, 1)\n"
     ]
    }
   ],
   "source": [
    "# (V_d,h_dot,I) for a single dot\n",
    "\n",
    "import numpy as np\n",
    "import networkx as nx\n",
    "import matplotlib.pyplot as plt\n",
    "%matplotlib inline\n",
    "\n",
    "import dot_classifier\n",
    "reload(dot_classifier)\n",
    "import dot_classifier_tf\n",
    "reload(dot_classifier_tf)\n",
    "import thomas_fermi\n",
    "reload(thomas_fermi)\n",
    "import markov_graph\n",
    "reload(markov_graph)\n",
    "import potential_profile\n",
    "reload(potential_profile)\n",
    "import tunneling\n",
    "reload(tunneling)\n",
    "import rank_nullspace\n",
    "reload(rank_nullspace)\n",
    "%pdb\n",
    "\n",
    "import time\n",
    "\n",
    "st = time.time()\n",
    "N_v_points = 100\n",
    "V_d_vec = np.linspace(123e-3,119e-3,N_v_points)\n",
    "\n",
    "N_grid= 100\n",
    "x = np.linspace(-1,1,N_grid)\n",
    "K = thomas_fermi.create_K_matrix(x,E_scale=0.0001,sigma= (x[1] - x[0]))\n",
    "\n",
    "battery_ind = []\n",
    "max_prob_node = []\n",
    "\n",
    "h_d_points = 25\n",
    "h_d_vec = np.linspace(0.08,0.11,h_d_points)\n",
    "\n",
    "I_vec = np.zeros((h_d_points,N_v_points))\n",
    "charge_state = np.zeros((h_d_points,N_v_points))\n",
    "\n",
    "for i in range(h_d_points):\n",
    "    print i\n",
    "    for j in range(N_v_points):\n",
    "        d = (V_d_vec[j],0,h_d_vec[i],1)\n",
    "        b1 = (-100e-3,0.3,0.1,1)\n",
    "        b2 = (-100e-3,-0.3,0.1,1)\n",
    "\n",
    "        V = potential_profile.single_dot_V_x_wire(x,d,b1,b2)                       \n",
    "        mu_l = (0.05,0.05+0.001)\n",
    "    \n",
    "        graph_model = (25,1)\n",
    "        battery_weight = 200\n",
    "        kT = 100e-6\n",
    "        physics = (x,V,K,mu_l,battery_weight,kT)\n",
    "\n",
    "        if(j==0):\n",
    "            G = markov_graph.generate_graph(graph_model, physics)\n",
    "            battery_ind = markov_graph.get_battery_nodes(G)\n",
    "            max_prob_node_trial  = markov_graph.get_max_prob_node(G)[0][1]\n",
    "            graph_model = (max_prob_node_trial,1)\n",
    "            print h_d_vec[i],graph_model\n",
    "            G = markov_graph.generate_graph(graph_model, physics)\n",
    "            battery_ind = markov_graph.get_battery_nodes(G)\n",
    "        else:\n",
    "            G = markov_graph.recalculate_weights(G,physics)  \n",
    "   \n",
    "        I_vec[i,j] = markov_graph.get_current(G,battery_ind)\n",
    "        charge_state[i,j] = markov_graph.get_max_prob_node(G)[0][1]\n"
   ]
  },
  {
   "cell_type": "code",
   "execution_count": 23,
   "metadata": {
    "collapsed": false
   },
   "outputs": [
    {
     "data": {
      "text/plain": [
       "<matplotlib.text.Text at 0x114384390>"
      ]
     },
     "execution_count": 23,
     "metadata": {},
     "output_type": "execute_result"
    },
    {
     "data": {
      "image/png": "[encoded data removed]",
      "text/plain": [
       "<matplotlib.figure.Figure at 0x114a6ae90>"
      ]
     },
     "metadata": {},
     "output_type": "display_data"
    }
   ],
   "source": [
    "XX,YY = np.meshgrid(V_d_vec,h_d_vec) \n",
    "plt.pcolor(XX,YY,I_vec,cmap='RdBu')\n",
    "plt.colorbar(label='Conductance')\n",
    "plt.xlabel('V_d',fontsize=16)\n",
    "plt.ylabel('h_dot',fontsize=16)"
   ]
  },
  {
   "cell_type": "code",
   "execution_count": 22,
   "metadata": {
    "collapsed": false
   },
   "outputs": [
    {
     "data": {
      "text/plain": [
       "<matplotlib.text.Text at 0x114508550>"
      ]
     },
     "execution_count": 22,
     "metadata": {},
     "output_type": "execute_result"
    },
    {
     "data": {
      "image/png": "[encoded data removed]",
      "text/plain": [
       "<matplotlib.figure.Figure at 0x11475a810>"
      ]
     },
     "metadata": {},
     "output_type": "display_data"
    }
   ],
   "source": [
    "XX,YY = np.meshgrid(V_d_vec,h_d_vec) \n",
    "plt.pcolor(XX,YY,charge_state)\n",
    "plt.colorbar(label='charge_state')\n",
    "plt.xlabel('V_d',fontsize=16)\n",
    "plt.ylabel('h_dot',fontsize=16)"
   ]
  },
  {
   "cell_type": "code",
   "execution_count": null,
   "metadata": {
    "collapsed": true
   },
   "outputs": [],
   "source": []
  }
 ],
 "metadata": {
  "kernelspec": {
   "display_name": "Python 2",
   "language": "python",
   "name": "python2"
  },
  "language_info": {
   "codemirror_mode": {
    "name": "ipython",
    "version": 2
   },
   "file_extension": ".py",
   "mimetype": "text/x-python",
   "name": "python",
   "nbconvert_exporter": "python",
   "pygments_lexer": "ipython2",
   "version": "2.7.13"
  }
 },
 "nbformat": 4,
 "nbformat_minor": 2
}
