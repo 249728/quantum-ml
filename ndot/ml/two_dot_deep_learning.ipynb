{
 "cells": [
  {
   "cell_type": "code",
   "execution_count": 5,
   "metadata": {},
   "outputs": [
    {
     "name": "stdout",
     "output_type": "stream",
     "text": [
      "Once deleted, variables cannot be recovered. Proceed (y/[n])? y\n",
      "Number of inputs: 3\n",
      "Number of charge states: 8\n",
      "\n",
      "Test Accuracy: 0.854000\n",
      "\n",
      "Completed in 75.95031189918518 seconds.\n"
     ]
    }
   ],
   "source": [
    "# using tf.contrib.learn deep neural network\n",
    "%reset\n",
    "\n",
    "import numpy as np\n",
    "import tensorflow as tf\n",
    "from datetime import datetime\n",
    "tf.logging.set_verbosity(tf.logging.ERROR)\n",
    "\n",
    "import matplotlib.pyplot as plt\n",
    "import time\n",
    "st = time.time()\n",
    "\n",
    "# data is assumed to be [input_params, output_param]\n",
    "# number of input_param is variable and is determined by the code\n",
    "# there is supposed to be only one output param, the charge state of the \n",
    "# single dot\n",
    "\n",
    "# change the file name if using a different system\n",
    "data = np.loadtxt('/Users/Sandesh/quantum-ml/ndot/ml/data/two_dot.txt')\n",
    "\n",
    "# learn charge state of first dot\n",
    "data = data[:,:-1] + np.append(data[:,:-2],data[:,-1].reshape((-1,1)),axis=1)\n",
    "\n",
    "# data randomly permuted to improve learning rate\n",
    "data = np.random.permutation(data)\n",
    "n_tot = data.shape[0]\n",
    "n_train = int(0.8*n_tot)\n",
    "n_test = n_tot - n_train\n",
    "\n",
    "# count the number of states, +1 because 0 is also a state\n",
    "charge_max = int(np.max(data[:,-1]))\n",
    "n_out = charge_max + 1\n",
    "# there is only one output for a single dot, the charge state\n",
    "# represnted as prob vector\n",
    "\n",
    "# input parameters\n",
    "n_inp = data.shape[1] - 1\n",
    "\n",
    "print(\"Number of inputs:\", n_inp)\n",
    "print(\"Number of charge states:\", n_out)\n",
    "\n",
    "x_train_data = data[:n_train,:-1].reshape((n_train,n_inp))\n",
    "#generate the prob vector\n",
    "y_train_data = data[:n_train,-1].astype(int)\n",
    "\n",
    "x_test_data = data[n_train:,:-1].reshape((n_test,n_inp))\n",
    "y_test_data = data[n_train:,-1].astype(int)\n",
    "\n",
    "#get data\n",
    "def get_train_inputs():\n",
    "    x = tf.constant(x_train_data)\n",
    "    y = tf.constant(y_train_data)\n",
    "    return x,y\n",
    "\n",
    "def get_test_inputs():\n",
    "    x = tf.constant(x_test_data)\n",
    "    y = tf.constant(y_test_data)\n",
    "    return x,y\n",
    "\n",
    "# load datasets\n",
    "features = [tf.contrib.layers.real_valued_column(\"\",dimension=n_inp)]\n",
    "\n",
    "classifier = tf.contrib.learn.DNNClassifier(feature_columns=features,\\\n",
    "                                            hidden_units=[n_out,2*n_out,n_out],n_classes=n_out,\\\n",
    "                                            model_dir=\"/tmp/dot_learning\" \\\n",
    "                                            + str(datetime.now()))\n",
    "\n",
    "# Magic happens here!\n",
    "\n",
    "classifier.fit(input_fn=get_train_inputs, steps=20000)\n",
    "\n",
    "accuracy_score = classifier.evaluate(input_fn=get_test_inputs,\n",
    "                                       steps=1)[\"accuracy\"]\n",
    "\n",
    "print(\"\\nTest Accuracy: {0:f}\\n\".format(accuracy_score))\n",
    "\n",
    "\n",
    "predictions = list(classifier.predict(input_fn=get_test_inputs))\n",
    "\n",
    "print(\"Completed in\",time.time()-st, \"seconds.\")"
   ]
  },
  {
   "cell_type": "code",
   "execution_count": null,
   "metadata": {},
   "outputs": [
    {
     "name": "stdout",
     "output_type": "stream",
     "text": [
      "Using matplotlib backend: MacOSX\n"
     ]
    },
    {
     "data": {
      "text/plain": [
       "<matplotlib.text.Text at 0x114674320>"
      ]
     },
     "execution_count": 6,
     "metadata": {},
     "output_type": "execute_result"
    }
   ],
   "source": [
    "import matplotlib.pyplot as plt\n",
    "from mpl_toolkits.mplot3d import Axes3D\n",
    "%matplotlib\n",
    "\n",
    "fig = plt.figure(1)\n",
    "ax = fig.add_subplot(111, projection='3d')\n",
    "ax.scatter(x_test_data[:,0],x_test_data[:,1],y_test_data,marker='^',color=\"r\")\n",
    "ax.scatter(x_test_data[:,0],x_test_data[:,1],predictions,marker='o',color=\"b\")\n",
    "ax.legend(('Actual','Prediction'))\n",
    "ax.set_xlabel('Vd1')\n",
    "ax.set_ylabel('Vd2')\n",
    "ax.set_zlabel('Charge state')\n",
    "\n",
    "fig1 = plt.figure(2)\n",
    "ax1 = fig1.add_subplot(111, projection='3d')\n",
    "diff = y_test_data-predictions\n",
    "col = [\"g\" if x == 0 else \"r\" for x in diff]\n",
    "ax1.scatter(x_test_data[:,0],x_test_data[:,1],y_test_data-predictions,marker='^',color=col)\n",
    "ax1.set_xlabel('Vd1')\n",
    "ax1.set_ylabel('Vd2')\n",
    "ax1.set_zlabel('Error')\n",
    "\n",
    "\n"
   ]
  },
  {
   "cell_type": "code",
   "execution_count": 8,
   "metadata": {},
   "outputs": [
    {
     "name": "stdout",
     "output_type": "stream",
     "text": [
      "[0, 4, 0, 0, 1, 2, 1, 0, 1, 1, 1, 0, 2, 2, 2, 1, 0, 4, 3, 4, 2, 3, 0, 1, 1, 1, 3, 4, 0, 3, 3, 1, 4, 2, 1, 0, 2, 2, 0, 0, 0, 0, 4, 3, 0, 1, 0, 1, 1, 2, 2, 1, 1, 4, 2, 0, 3, 1, 0, 0, 1, 2, 4, 1, 2, 1, 3, 4, 3, 1, 0, 0, 0, 1, 4, 0, 0, 3, 4, 4, 0, 0, 0, 0, 1, 0, 1, 1, 3, 0, 2, 3, 3, 0, 1, 4, 1, 0, 4, 0, 3, 3, 0, 4, 0, 2, 1, 0, 0, 2, 2, 3, 3, 3, 0, 0, 0, 3, 3, 2, 0, 2, 3, 1, 1, 3, 2, 2, 4, 2, 3, 0, 0, 1, 2, 0, 3, 1, 3, 0, 2, 3, 0, 0, 0, 0, 0, 3, 2, 2, 3, 3, 0, 0, 2, 0, 0, 2, 2, 3, 0, 2, 1, 1, 2, 2, 2, 0, 2, 2, 2, 0, 1, 3, 0, 4, 4, 0, 0, 3, 4, 0, 3, 3, 0, 0, 1, 2, 0, 4, 1, 0, 1, 3, 2, 2, 3, 0, 0, 1, 2, 4, 2, 4, 1, 0, 0, 1, 3, 1, 2, 0, 3, 2, 3, 2, 1, 2, 3, 1, 0, 0, 1, 4, 2, 0, 0, 2, 0, 1, 1, 0, 2, 1, 0, 0, 2, 4, 2, 1, 3, 3, 4, 1, 2, 4, 3, 4, 1, 2, 0, 0, 1, 2, 3, 2, 2, 1, 0, 0, 2, 2, 1, 0, 3, 2, 2, 2, 4, 2, 2, 1, 2, 2, 3, 4, 1, 4, 0, 0, 2, 0, 0, 4, 0, 4, 0, 4, 1, 3, 3, 1, 4, 0, 1, 1, 0, 3, 3, 2, 0, 0, 1, 1, 0, 2, 2, 0, 2, 1, 2, 3, 4, 4, 0, 2, 2, 0, 0, 1, 1, 2, 4, 1, 2, 0, 4, 1, 4, 4, 3, 2, 0, 4, 2, 0, 2, 2, 2, 2, 0, 1, 4, 1, 2, 2, 3, 1, 1, 3, 3, 0, 4, 0, 4, 2, 2, 2, 4, 0, 4, 1, 1, 2, 4, 1, 2, 0, 0, 3, 0, 3, 2, 0, 0, 3, 0, 0, 3, 2, 3, 1, 4, 3, 1, 1, 3, 0, 0, 2, 0, 4, 1, 0, 2, 0, 1, 1, 1, 3, 2, 2, 2, 3, 0, 0, 0, 3, 0, 1, 0, 3, 1, 1, 0, 1, 4, 3, 2, 3, 2, 4, 1, 0, 2, 3, 0, 3, 1, 1, 4, 0, 1, 3, 3, 3, 4, 2, 0, 3, 3, 0, 3, 1, 0, 3, 2, 1, 4, 2, 1, 2, 1, 1, 0, 3, 1, 2, 4, 2, 0, 2, 2, 2, 4, 3, 3, 0, 3, 3, 0, 1, 0, 3, 3, 0, 2, 2, 3, 0, 4, 4, 0, 2, 1, 1, 4, 1, 3, 4, 2, 3, 2, 0, 4, 1, 4, 2, 2, 2]\n"
     ]
    }
   ],
   "source": [
    "print(predictions)"
   ]
  },
  {
   "cell_type": "code",
   "execution_count": 9,
   "metadata": {},
   "outputs": [
    {
     "name": "stdout",
     "output_type": "stream",
     "text": [
      "[0 4 0 0 1 2 1 0 1 1 1 0 2 2 3 1 0 4 3 4 2 3 0 0 1 1 3 4 0 3 3 1 4 2 1 0 2\n",
      " 2 1 0 0 0 3 3 0 1 0 1 1 2 2 2 2 5 2 0 3 1 0 0 0 2 4 1 2 1 3 4 3 1 0 0 0 1\n",
      " 4 0 0 3 4 4 0 0 0 0 1 0 1 1 3 0 2 3 3 0 1 4 1 0 4 0 3 3 0 4 0 3 1 0 0 2 2\n",
      " 3 3 3 0 0 0 3 3 2 0 2 3 1 1 4 2 2 3 2 3 0 0 1 2 0 3 1 3 0 2 3 0 0 0 0 0 3\n",
      " 2 2 2 2 0 0 1 0 0 2 1 3 0 1 1 1 2 2 2 0 3 2 2 0 1 3 0 4 4 0 0 3 4 0 3 2 0\n",
      " 0 1 3 0 4 0 0 0 3 2 2 3 0 0 1 2 4 2 4 1 0 0 1 3 1 2 0 3 2 3 2 2 2 3 1 0 0\n",
      " 1 4 2 0 0 2 0 1 1 0 2 1 0 0 2 4 2 1 3 3 4 1 2 4 3 4 1 2 0 0 1 2 3 1 2 1 0\n",
      " 0 2 2 1 0 3 2 2 2 3 2 2 1 2 2 3 5 2 4 0 0 2 1 0 4 0 4 0 4 1 3 3 1 3 1 0 0\n",
      " 0 3 3 1 0 0 1 1 0 3 1 0 2 1 2 2 3 4 0 2 2 0 0 1 1 2 4 1 2 0 4 1 4 4 3 2 0\n",
      " 5 2 0 2 2 2 2 0 0 4 1 2 2 3 1 1 3 2 0 4 0 4 2 2 2 4 0 4 2 1 2 4 1 2 0 0 3\n",
      " 0 3 2 0 0 2 0 0 2 1 3 1 5 3 1 1 3 0 0 2 0 4 1 0 2 0 1 1 1 3 2 2 3 3 0 0 0\n",
      " 4 0 1 0 3 1 1 0 1 4 3 1 3 1 4 1 0 1 3 0 3 1 2 4 0 1 3 2 3 4 2 1 3 3 0 3 1\n",
      " 0 3 1 1 4 3 1 1 1 1 0 3 1 2 4 2 0 2 2 2 4 3 3 0 3 3 0 2 0 3 3 0 2 2 2 0 4\n",
      " 3 0 2 1 1 4 1 3 4 1 3 2 1 3 1 4 2 2 2]\n"
     ]
    }
   ],
   "source": [
    "print(y_test_data)"
   ]
  },
  {
   "cell_type": "code",
   "execution_count": 33,
   "metadata": {},
   "outputs": [
    {
     "data": {
      "text/plain": [
       "(2500, 3)"
      ]
     },
     "execution_count": 33,
     "metadata": {},
     "output_type": "execute_result"
    }
   ],
   "source": [
    "data[:,:-2].shape"
   ]
  },
  {
   "cell_type": "code",
   "execution_count": 38,
   "metadata": {},
   "outputs": [
    {
     "data": {
      "text/plain": [
       "(2500, 1)"
      ]
     },
     "execution_count": 38,
     "metadata": {},
     "output_type": "execute_result"
    }
   ],
   "source": [
    "data[:,-1].reshape((-1,1)).shape"
   ]
  },
  {
   "cell_type": "code",
   "execution_count": null,
   "metadata": {
    "collapsed": true
   },
   "outputs": [],
   "source": []
  }
 ],
 "metadata": {
  "kernelspec": {
   "display_name": "Python 3",
   "language": "python",
   "name": "python3"
  }
 },
 "nbformat": 4,
 "nbformat_minor": 2
}
