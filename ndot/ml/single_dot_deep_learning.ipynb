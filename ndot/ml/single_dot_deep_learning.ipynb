{
 "cells": [
  {
   "cell_type": "code",
   "execution_count": 34,
   "metadata": {},
   "outputs": [
    {
     "name": "stdout",
     "output_type": "stream",
     "text": [
      "Once deleted, variables cannot be recovered. Proceed (y/[n])? y\n",
      "Number of inputs: 2\n",
      "Number of charge states: 6\n",
      "\n",
      "Test Accuracy: 1.000000\n",
      "\n",
      "Completed in 45.7156920433 seconds.\n"
     ]
    },
    {
     "data": {
      "text/plain": [
       "<matplotlib.text.Text at 0x122510b10>"
      ]
     },
     "execution_count": 34,
     "metadata": {},
     "output_type": "execute_result"
    },
    {
     "data": {
      "image/png": "[encoded data removed]",
      "text/plain": [
       "<matplotlib.figure.Figure at 0x121d14c10>"
      ]
     },
     "metadata": {},
     "output_type": "display_data"
    }
   ],
   "source": [
    "# using tf.contrib.learn deep neural network\n",
    "%reset\n",
    "\n",
    "import numpy as np\n",
    "import tensorflow as tf\n",
    "from datetime import datetime\n",
    "tf.logging.set_verbosity(tf.logging.ERROR)\n",
    "\n",
    "import matplotlib.pyplot as plt\n",
    "import time\n",
    "%matplotlib inline\n",
    "st = time.time()\n",
    "\n",
    "# data is assumed to be [input_params, output_param]\n",
    "# number of input_param is variable and is determined by the code\n",
    "# there is supposed to be only one output param, the charge state of the \n",
    "# single dot\n",
    "\n",
    "# change the file name if using a different system\n",
    "data = np.loadtxt('/Users/ssk4/quantum-ml/ndot/ml/data/single_dot.txt')\n",
    "\n",
    "# data randomly permuted to improve learning rate\n",
    "data = np.random.permutation(data)\n",
    "n_tot = data.shape[0]\n",
    "n_train = int(0.8*n_tot)\n",
    "n_test = n_tot - n_train\n",
    "\n",
    "# count the number of states, +1 because 0 is also a state\n",
    "charge_max = int(np.max(data[:,-1]))\n",
    "n_out = charge_max + 1\n",
    "# there is only one output for a single dot, the charge state\n",
    "# represnted as prob vector\n",
    "\n",
    "# input parameters\n",
    "n_inp = data.shape[1] - 1\n",
    "\n",
    "print \"Number of inputs:\", n_inp\n",
    "print \"Number of charge states:\", n_out\n",
    "\n",
    "x_train_data = data[:n_train,:-1].reshape((n_train,n_inp))\n",
    "#generate the prob vector\n",
    "y_train_data = data[:n_train,-1].astype(int)\n",
    "\n",
    "x_test_data = data[n_train:,:-1].reshape((n_test,n_inp))\n",
    "y_test_data = data[n_train:,-1].astype(int)\n",
    "\n",
    "#get data\n",
    "def get_train_inputs():\n",
    "    x = tf.constant(x_train_data)\n",
    "    y = tf.constant(y_train_data)\n",
    "    return x,y\n",
    "\n",
    "def get_test_inputs():\n",
    "    x = tf.constant(x_test_data)\n",
    "    y = tf.constant(y_test_data)\n",
    "    return x,y\n",
    "\n",
    "# load datasets\n",
    "features = [tf.contrib.layers.real_valued_column(\"\",dimension=n_inp)]\n",
    "\n",
    "classifier = tf.contrib.learn.DNNClassifier(feature_columns=features,\\\n",
    "                                            hidden_units=[6,6],n_classes=n_out,\\\n",
    "                                            model_dir=\"/tmp/dot_learning\" \\\n",
    "                                            + str(datetime.now()))\n",
    "\n",
    "# Magic happens here!\n",
    "\n",
    "classifier.fit(input_fn=get_train_inputs, steps=20000)\n",
    "\n",
    "accuracy_score = classifier.evaluate(input_fn=get_test_inputs,\n",
    "                                       steps=1)[\"accuracy\"]\n",
    "\n",
    "print(\"\\nTest Accuracy: {0:f}\\n\".format(accuracy_score))\n",
    "\n",
    "\n",
    "predictions = list(classifier.predict(input_fn=get_test_inputs))\n",
    "\n",
    "print \"Completed in\",time.time()-st, \"seconds.\"\n",
    "\n",
    "plt.plot(x_test_data[:,0],y_test_data,'x')\n",
    "plt.plot(x_test_data[:,0],predictions,'+')\n",
    "plt.legend(['Acutal','Prediction'])\n",
    "plt.xlabel('V_d',fontsize=16)\n",
    "plt.ylabel('Charge state',fontsize=16)"
   ]
  },
  {
   "cell_type": "code",
   "execution_count": null,
   "metadata": {
    "collapsed": true
   },
   "outputs": [],
   "source": []
  }
 ],
 "metadata": {
  "kernelspec": {
   "display_name": "Python 3",
   "language": "python",
   "name": "python3"
  },
  "language_info": {
   "codemirror_mode": {
    "name": "ipython",
    "version": 3
   },
   "file_extension": ".py",
   "mimetype": "text/x-python",
   "name": "python",
   "nbconvert_exporter": "python",
   "pygments_lexer": "ipython3",
   "version": "3.5.2"
  }
 },
 "nbformat": 4,
 "nbformat_minor": 2
}
