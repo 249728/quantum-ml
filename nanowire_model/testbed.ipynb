{
 "cells": [
  {
   "cell_type": "code",
   "execution_count": null,
   "metadata": {
    "scrolled": true
   },
   "outputs": [],
   "source": [
    "import mask\n",
    "import imp\n",
    "imp.reload(mask)\n",
    "n = [1.0,2.0,-3.0,2.0,2.0,-3.4,2.0,-2.0,1.0]\n",
    "my_mask = mask.Mask(n)\n",
    "\n",
    "print(my_mask.mask)\n",
    "print(my_mask.mask_info)\n",
    "\n",
    "my_mask.calculate_new_mask_turning_points([0.,1.0,0.0],(0.5,0.5),())"
   ]
  },
  {
   "cell_type": "code",
   "execution_count": null,
   "metadata": {},
   "outputs": [],
   "source": [
    "# testbed for the standalone mask module\n",
    "import mask\n",
    "import imp\n",
    "imp.reload(mask)\n",
    "\n",
    "n = [1.0,2.0,-3.0,2.0,2.0,-3.4,2.0,-2.0,1.0]\n",
    "my_mask = mask.Mask(n)\n",
    "imp.reload(mask)\n",
    "my_mask.calculate_new_mask_turning_points([0.,1.0,0.0,3.0,0.0],[0.5,0.5],[2])\n",
    "print(my_mask.mask)"
   ]
  },
  {
   "cell_type": "code",
   "execution_count": null,
   "metadata": {},
   "outputs": [],
   "source": [
    "# testbed for the standalone physics module\n",
    "import mask\n",
    "import imp\n",
    "imp.reload(mask)\n",
    "import numpy as np\n",
    "import matplotlib.pyplot as plt\n",
    "%matplotlib inline\n",
    "import imp\n",
    "import potential_profile\n",
    "imp.reload(potential_profile)\n",
    "import physics\n",
    "imp.reload(physics)\n",
    "import thomas_fermi\n",
    "imp.reload(thomas_fermi)\n",
    "\n",
    "\n",
    "model_physics = (E_scale,dx_scale,kT,x,V,K_onsite,sigma,mu_l,100)\n",
    "plt.plot(x,V)\n",
    "\n",
    "import markov\n",
    "imp.reload(markov)\n",
    "graph_model = (1,1)\n",
    "graph = markov.Markov(graph_model,model_physics)\n",
    "\n",
    "graph.generate_graph()\n",
    "print(graph.get_current())\n",
    "print(graph.get_max_prob_node())\n",
    "\n",
    "import networkx as nx\n",
    "plt.figure(2)\n",
    "nx.draw_networkx(graph.G)\n"
   ]
  },
  {
   "cell_type": "code",
   "execution_count": null,
   "metadata": {},
   "outputs": [],
   "source": [
    "# testbed for the ThomasFermi module\n",
    "import thomas_fermi\n",
    "imp.reload(thomas_fermi)\n",
    "\n",
    "my_tf = thomas_fermi.ThomasFermi(model_physics)\n",
    "num_dot,prelim_mask = my_tf.find_n_dot_estimate())\n",
    "\n",
    "mu_d = [my_tf.mu_l[0]]*num_dot\n",
    "n,N_d = my_tf.tf_iterative_solver_fixed_mu(prelim_mask,mu_d)\n",
    "print(N_d)\n",
    "N_est = [int(x) for x in N_d]\n",
    "print(N_est)\n",
    "n,mu_d = my_tf.tf_iterative_solver_fixed_N(prelim_mask,N_est)\n",
    "print(mu_d)\n",
    "\n",
    "plt.plot(my_tf.x,n)"
   ]
  },
  {
   "cell_type": "code",
   "execution_count": null,
   "metadata": {},
   "outputs": [],
   "source": [
    "# testbed for potential_profile\n",
    "\n",
    "import matplotlib.pyplot as plt\n",
    "%matplotlib inline\n",
    "\n",
    "\n",
    "\n",
    "plt.plot(x,V)"
   ]
  },
  {
   "cell_type": "code",
   "execution_count": null,
   "metadata": {},
   "outputs": [],
   "source": [
    "%pdb"
   ]
  },
  {
   "cell_type": "code",
   "execution_count": 33,
   "metadata": {},
   "outputs": [
    {
     "data": {
      "text/plain": [
       "[<matplotlib.lines.Line2D at 0x1126cca90>]"
      ]
     },
     "execution_count": 33,
     "metadata": {},
     "output_type": "execute_result"
    },
    {
     "data": {
      "image/png": "[encoded data removed]",
      "text/plain": [
       "<matplotlib.figure.Figure at 0x11222dc88>"
      ]
     },
     "metadata": {},
     "output_type": "display_data"
    },
    {
     "data": {
      "image/png": "[encoded data removed]",
      "text/plain": [
       "<matplotlib.figure.Figure at 0x1124e0eb8>"
      ]
     },
     "metadata": {},
     "output_type": "display_data"
    }
   ],
   "source": [
    "# 1 point dot\n",
    "\n",
    "import markov\n",
    "imp.reload(markov)\n",
    "\n",
    "V_d_vec = np.linspace(-35e-3,0,100)\n",
    "current = np.zeros(len(V_d_vec))\n",
    "charge_state = np.zeros(len(V_d_vec))\n",
    "\n",
    "E_scale = 'eV'\n",
    "dx_scale = '1e-9'\n",
    "\n",
    "kT = 400e-6\n",
    "#x = np.linspace(-1,1,100)\n",
    "x = np.array([1,2,3,4,5])\n",
    "#V = potential_profile.V_x_wire(x,[b1,d,b2])\n",
    "V = np.array([0.0,100e-3,5e-3,100e-3,0.0])\n",
    "K_onsite = 10e-3\n",
    "sigma = x[1] - x[0]\n",
    "\n",
    "mu_l = (50.0e-3,50.1e-3)\n",
    "\n",
    "for i in range(len(V_d_vec)):\n",
    "    #b1 = (-200e-3,-0.3,0.1,1)\n",
    "    #d = (V_d_vec[i],0.0,0.1,1)\n",
    "    #b2 = (-200e-3,0.3,0.1,1)\n",
    "    #V = potential_profile.V_x_wire(x,[b1,d,b2])\n",
    "    V[2] = V_d_vec[i]\n",
    "    model_physics = (E_scale,dx_scale,kT,x,V,K_onsite,sigma,mu_l,100)\n",
    "    \n",
    "    graph_model = (2,1)\n",
    "    graph = markov.Markov(graph_model,model_physics)\n",
    "\n",
    "    graph.generate_graph()\n",
    "    current[i] = graph.get_current()\n",
    "    charge_state[i] = graph.get_max_prob_node()[1]\n",
    "\n",
    "plt.figure(1)\n",
    "plt.plot(V_d_vec,current)\n",
    "plt.figure(2)\n",
    "plt.plot(V_d_vec,charge_state)"
   ]
  },
  {
   "cell_type": "code",
   "execution_count": 34,
   "metadata": {},
   "outputs": [
    {
     "name": "stdout",
     "output_type": "stream",
     "text": [
      "0\n",
      "1\n",
      "2\n",
      "3\n",
      "4\n",
      "5\n",
      "6\n",
      "7\n",
      "8\n",
      "9\n",
      "10\n",
      "11\n",
      "12\n",
      "13\n",
      "14\n",
      "15\n",
      "16\n",
      "17\n",
      "18\n",
      "19\n",
      "20\n",
      "21\n",
      "22\n",
      "23\n",
      "24\n",
      "25\n",
      "26\n",
      "27\n",
      "28\n",
      "29\n",
      "30\n",
      "31\n",
      "32\n",
      "33\n",
      "34\n",
      "35\n",
      "36\n",
      "37\n",
      "38\n",
      "39\n",
      "40\n",
      "41\n",
      "42\n",
      "43\n",
      "44\n",
      "45\n",
      "46\n",
      "47\n",
      "48\n",
      "49\n"
     ]
    }
   ],
   "source": [
    "# 2 dots (point dots)\n",
    "import numpy as np\n",
    "import matplotlib.pyplot as plt\n",
    "import imp\n",
    "%matplotlib inline\n",
    "\n",
    "import markov\n",
    "imp.reload(markov)\n",
    "\n",
    "V_d_vec = np.linspace(-35e-3,0,50)\n",
    "current = np.zeros((len(V_d_vec),len(V_d_vec)))\n",
    "charge_state = np.zeros((2,len(V_d_vec),len(V_d_vec)))\n",
    "\n",
    "E_scale = 'eV'\n",
    "dx_scale = '1e-9'\n",
    "\n",
    "kT = 400e-6\n",
    "#x = np.linspace(-1,1,100)\n",
    "x = np.array([1,2,3,4,5,6,7])\n",
    "#V = potential_profile.V_x_wire(x,[b1,d,b2])\n",
    "V = np.array([0.0,100e-3,0.0,100e-3,0.0,100e-3,0.0])\n",
    "K_onsite = 10e-3\n",
    "sigma = x[1] - x[0]\n",
    "\n",
    "mu_l = (50e-3,50.1e-3)\n",
    "\n",
    "for i in range(len(V_d_vec)):\n",
    "    print(i)\n",
    "    for j in range(len(V_d_vec)):\n",
    "    #b1 = (-200e-3,-0.3,0.1,1)\n",
    "    #d = (V_d_vec[i],0.0,0.1,1)\n",
    "    #b2 = (-200e-3,0.3,0.1,1)\n",
    "    #V = potential_profile.V_x_wire(x,[b1,d,b2])\n",
    "        V[2] = V_d_vec[i]\n",
    "        V[4] = V_d_vec[j]\n",
    "        model_physics = (E_scale,dx_scale,kT,x,V,K_onsite,sigma,mu_l,100)\n",
    "    \n",
    "        graph_model = (2,1)\n",
    "        graph = markov.Markov(graph_model,model_physics)\n",
    "\n",
    "        graph.generate_graph()\n",
    "        current[i,j] = graph.get_current()\n",
    "        charge_state[0,i,j] = graph.get_max_prob_node()[1]\n",
    "        charge_state[1,i,j] = graph.get_max_prob_node()[2]\n"
   ]
  },
  {
   "cell_type": "code",
   "execution_count": 35,
   "metadata": {},
   "outputs": [
    {
     "data": {
      "text/plain": [
       "<matplotlib.collections.PolyCollection at 0x111f6b198>"
      ]
     },
     "execution_count": 35,
     "metadata": {},
     "output_type": "execute_result"
    },
    {
     "data": {
      "image/png": "[encoded data removed]",
      "text/plain": [
       "<matplotlib.figure.Figure at 0x111dcb5f8>"
      ]
     },
     "metadata": {},
     "output_type": "display_data"
    }
   ],
   "source": [
    "plt.pcolor(current)"
   ]
  },
  {
   "cell_type": "code",
   "execution_count": 51,
   "metadata": {},
   "outputs": [
    {
     "data": {
      "text/plain": [
       "<matplotlib.collections.PolyCollection at 0x111ebbd68>"
      ]
     },
     "execution_count": 51,
     "metadata": {},
     "output_type": "execute_result"
    },
    {
     "data": {
      "image/png": "[encoded data removed]",
      "text/plain": [
       "<matplotlib.figure.Figure at 0x112abae80>"
      ]
     },
     "metadata": {},
     "output_type": "display_data"
    }
   ],
   "source": [
    "plt.pcolor(charge_state[1]+charge_state[0])\n"
   ]
  },
  {
   "cell_type": "code",
   "execution_count": 53,
   "metadata": {},
   "outputs": [],
   "source": [
    "dot0_charge_data = charge_state[0].flatten()\n",
    "dot1_charge_data = charge_state[1].flatten()\n",
    "current_data = current.flatten()\n",
    "dat_size = len(current_data)\n",
    "n_inp = 3\n",
    "n_out = 2\n",
    "n = n_inp + n_out\n",
    "data = np.zeros((dat_size,n))\n",
    "for i in range(len(V_d_vec)):\n",
    "    for j in range(len(V_d_vec)):\n",
    "        data[j + i*len(V_d_vec),0] = V_d_vec[i]\n",
    "        data[j + i*len(V_d_vec),1] = V_d_vec[j]\n",
    "        data[j + i*len(V_d_vec),2] = current[i,j]\n",
    "        data[j + i*len(V_d_vec),3] = charge_state[0,i,j]\n",
    "        data[j + i*len(V_d_vec),4] = charge_state[1,i,j]\n",
    "        \n",
    "np.savetxt('/Users/sandesh/quantum-ml/ndot/ml/two_data.txt',data)"
   ]
  },
  {
   "cell_type": "code",
   "execution_count": 44,
   "metadata": {},
   "outputs": [
    {
     "data": {
      "text/plain": [
       "2500"
      ]
     },
     "execution_count": 44,
     "metadata": {},
     "output_type": "execute_result"
    }
   ],
   "source": []
  },
  {
   "cell_type": "code",
   "execution_count": 45,
   "metadata": {},
   "outputs": [
    {
     "data": {
      "text/plain": [
       "3.0"
      ]
     },
     "execution_count": 45,
     "metadata": {},
     "output_type": "execute_result"
    }
   ],
   "source": [
    "dot2_charge_data[0]\n"
   ]
  },
  {
   "cell_type": "code",
   "execution_count": null,
   "metadata": {
    "collapsed": true
   },
   "outputs": [],
   "source": []
  }
 ],
 "metadata": {
  "kernelspec": {
   "display_name": "Python 3",
   "language": "python",
   "name": "python3"
  },
  "language_info": {
   "codemirror_mode": {
    "name": "ipython",
    "version": 3
   },
   "file_extension": ".py",
   "mimetype": "text/x-python",
   "name": "python",
   "nbconvert_exporter": "python",
   "pygments_lexer": "ipython3",
   "version": "3.5.2"
  }
 },
 "nbformat": 4,
 "nbformat_minor": 2
}
