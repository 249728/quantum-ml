{
 "cells": [
  {
   "cell_type": "code",
   "execution_count": 21,
   "metadata": {},
   "outputs": [
    {
     "name": "stdout",
     "output_type": "stream",
     "text": [
      "time 375.3808650970459\n"
     ]
    }
   ],
   "source": [
    "# This is a script to generate a single 2D map of double dot system \n",
    "\n",
    "import numpy as np\n",
    "import imp\n",
    "import sys\n",
    "import os\n",
    "import time\n",
    "import copy\n",
    "import multiprocessing as mp\n",
    "\n",
    "sys.path.append(os.path.expanduser('~/quantum-ml/nanowire_model'))\n",
    "import potential_profile\n",
    "import markov\n",
    "import exceptions\n",
    "\n",
    "# wrapper around the base markov class functions\n",
    "# this function also handles the NoBarrier and InvalidChargeState exceptions\n",
    "def calculate_current(param):\n",
    "    graph = param[0]\n",
    "    physics_model = param[1]\n",
    "    try:\n",
    "        graph.physics = physics_model\n",
    "        graph.tf.__init__(physics_model)\n",
    "        graph.find_n_dot_estimate()\n",
    "        graph.find_start_node()\n",
    "        graph.generate_graph()\n",
    "        return graph.get_output()\n",
    "    except exceptions.NoBarrierState:\n",
    "        output = {}\n",
    "        output['current'] = graph.tf.short_circuit_current\n",
    "        output['charge_state'] = (0,)\n",
    "        output['prob_dist'] = (0,)\n",
    "        output['num_dot'] = 0\n",
    "        output['state'] = 'ShortCircuit'\n",
    "        return output\n",
    "    except exceptions.InvalidChargeState:\n",
    "        output = {}\n",
    "        output['current'] = 0\n",
    "        output['charge_state'] = (0,)\n",
    "        output['prob_dist'] = (0,)\n",
    "        output['num_dot'] = 0\n",
    "        output['state'] = 'NoDot'\n",
    "        return output\n",
    "\n",
    "physics_model = {}\n",
    "# multiple of eV\n",
    "physics_model['E_scale'] = 1\n",
    "# multiple of nm\n",
    "physics_model['dx_scale'] = 1\n",
    "physics_model['kT'] = 1500e-6\n",
    "\n",
    "# just initial param to generate the graph object\n",
    "b1 = [-200e-3,get_random(-0.6),get_random(0.05),1]\n",
    "d1 = [200e-3,get_random(-0.2),get_random(0.05),1]\n",
    "b2 = [-250e-3,get_random(0.0),get_random(0.05),1]\n",
    "d2 = [200e-3,get_random(0.2),get_random(0.05),1]\n",
    "b3 = [-200e-3,get_random(0.6),get_random(0.05),1]\n",
    "\n",
    "x = np.linspace(-1,1,100)\n",
    "physics_model['x'] = x\n",
    "physics_model['list_b'] = [b1,d1,b2,d2,b3]\n",
    "physics_model['V'] = potential_profile.V_x_wire(x,physics_model['list_b'])\n",
    "\n",
    "\n",
    "physics_model['K_onsite'] = get_random(25e-3)\n",
    "physics_model['sigma'] = x[1] - x[0]\n",
    "physics_model['x_0'] = 0.1*(x[1] - x[0])\n",
    "physics_model['mu_l'] = (300.0e-3,300.1e-3)\n",
    "physics_model['battery_weight'] = 10\n",
    "physics_model['short_circuit_current'] = 1\n",
    "\n",
    "graph_model = (2,1)\n",
    "tf_strategy = 'simple'\n",
    "\n",
    "graph = markov.Markov(graph_model,physics_model,tf_strategy)\n",
    "graph.find_n_dot_estimate()\n",
    "\n",
    "def get_random(mean,sigma_mean = 0.01):\n",
    "    return np.random.normal(mean,sigma_mean*np.abs(mean))\n",
    "\n",
    "N_v = 100\n",
    "V_d_vec = np.linspace(50e-3,400e-3,N_v)\n",
    "output_vec = []\n",
    "input_vec = []\n",
    "st = time.time()\n",
    "for i in range(N_v):\n",
    "    for j in range(N_v):\n",
    "        d1[0] = V_d_vec[i]\n",
    "        d2[0] = V_d_vec[j]\n",
    "        physics_model['list_b'] = [b1,d1,b2,d2,b3]\n",
    "        V = potential_profile.V_x_wire(x,physics_model['list_b'])\n",
    "        physics_model['V'] = potential_profile.V_x_wire(x,[b1,b2,b3,d1,d2])\n",
    "        input_vec += [physics_model.copy()]\n",
    "        output_vec += [calculate_current((graph,physics_model))]\n",
    "print(\"time\",time.time() - st)\n",
    "\n",
    "# store the data\n",
    "# data is a list of dictonaries, with two keys : 'input' , 'output'\n",
    "# input is a dict with three keys '\n",
    "data = []\n",
    "for i in range(len(output_vec)):\n",
    "    inp = {}\n",
    "    inp['graph_model'] = graph_model\n",
    "    inp['tf_strategy'] = tf_strategy\n",
    "    inp['physics_model'] = input_vec[i]\n",
    "    data += [{'input' : inp,'output' : output_vec[i]}]\n",
    "\n",
    "import datetime\n",
    "dt = str(datetime.datetime.now()) \n",
    "np.save(os.path.expanduser('~/datadump/double_dot_' + str(N_v) + '_grid_' + dt + '.npy'),data)\n"
   ]
  },
  {
   "cell_type": "code",
   "execution_count": 4,
   "metadata": {},
   "outputs": [
    {
     "data": {
      "text/plain": [
       "<matplotlib.collections.PolyCollection at 0x1112326a0>"
      ]
     },
     "execution_count": 4,
     "metadata": {},
     "output_type": "execute_result"
    },
    {
     "data": {
      "image/png": "[encoded data removed]",
      "text/plain": [
       "<matplotlib.figure.Figure at 0x1109fae48>"
      ]
     },
     "metadata": {},
     "output_type": "display_data"
    }
   ],
   "source": [
    "import numpy as np\n",
    "import os\n",
    "import matplotlib.pyplot as plt\n",
    "%matplotlib inline\n",
    "N_v = 100\n",
    "data = np.load(os.path.join(\"/Users/sandesh/datadump/double_dot_100_grid_2017-06-26 00:28:38.456959.npy\"))\n",
    "plt.pcolor(np.array([np.sum(x['output']['charge_state']) for x in data]).reshape((N_v,N_v)))\n",
    "#plt.pcolor(np.array([x['output']['current'] for x in data]).reshape((N_v,N_v)),vmax=1e-2)"
   ]
  },
  {
   "cell_type": "code",
   "execution_count": 36,
   "metadata": {},
   "outputs": [
    {
     "data": {
      "text/plain": [
       "{'E_scale': 1,\n",
       " 'K_onsite': 0.025145650379316292,\n",
       " 'V': array([ 0.09229866,  0.10835777,  0.12508351,  0.14254401,  0.16081889,\n",
       "         0.18000199,  0.20020489,  0.22156151,  0.24423415,  0.26842146,\n",
       "         0.29436893,  0.32238212,  0.35284218,  0.38621945,  0.42306871,\n",
       "         0.46394963,  0.50908557,  0.55718901,  0.60225569,  0.62976149,\n",
       "         0.62661266,  0.60071542,  0.56834784,  0.53789586,  0.51161777,\n",
       "         0.48956888,  0.47124516,  0.45608622,  0.44360269,  0.43339346,\n",
       "         0.42513359,  0.41855705,  0.41344062,  0.40959068,  0.40683485,\n",
       "         0.40502455,  0.40407097,  0.40408611,  0.40582951,  0.41170655,\n",
       "         0.4259702 ,  0.45043627,  0.48205904,  0.51789684,  0.55716452,\n",
       "         0.60020027,  0.64744241,  0.69817857,  0.74762252,  0.78192114,\n",
       "         0.78214761,  0.74830606,  0.69933174,  0.64908653,  0.60236486,\n",
       "         0.55988259,  0.52118456,  0.48584538,  0.45438042,  0.42933156,\n",
       "         0.41408378,  0.40782396,  0.40637362,  0.40696257,  0.40863552,\n",
       "         0.41122122,  0.41480239,  0.41954025,  0.425628  ,  0.4332857 ,\n",
       "         0.44276903,  0.45438344,  0.46850044,  0.48557069,  0.50611704,\n",
       "         0.53065081,  0.55932933,  0.5908139 ,  0.619248  ,  0.63079948,\n",
       "         0.61286195,  0.57241926,  0.52504361,  0.47915793,  0.43717664,\n",
       "         0.39924735,  0.36490793,  0.3336145 ,  0.30488319,  0.27831468,\n",
       "         0.25358658,  0.2304393 ,  0.20866275,  0.1880855 ,  0.16856632,\n",
       "         0.14998776,  0.13225123,  0.11527324,  0.09898251,  0.08331769]),\n",
       " 'battery_weight': 10,\n",
       " 'dx_scale': 1,\n",
       " 'kT': 0.0015,\n",
       " 'list_b': [[-0.2, -0.6131236341040591, 0.0492286195480723, 1],\n",
       "  [0.40000000000000002, -0.19651401807380764, 0.04965824942998291, 1],\n",
       "  [-0.25, 0.0, 0.05041052944023856, 1],\n",
       "  [0.40000000000000002, 0.20012815639548193, 0.04996858206945649, 1],\n",
       "  [-0.2, 0.5994322296237029, 0.0501905571235777, 1]],\n",
       " 'mu_l': (0.3, 0.3001),\n",
       " 'short_circuit_current': 1,\n",
       " 'sigma': 0.020202020202020221,\n",
       " 'x': array([-1.        , -0.97979798, -0.95959596, -0.93939394, -0.91919192,\n",
       "        -0.8989899 , -0.87878788, -0.85858586, -0.83838384, -0.81818182,\n",
       "        -0.7979798 , -0.77777778, -0.75757576, -0.73737374, -0.71717172,\n",
       "        -0.6969697 , -0.67676768, -0.65656566, -0.63636364, -0.61616162,\n",
       "        -0.5959596 , -0.57575758, -0.55555556, -0.53535354, -0.51515152,\n",
       "        -0.49494949, -0.47474747, -0.45454545, -0.43434343, -0.41414141,\n",
       "        -0.39393939, -0.37373737, -0.35353535, -0.33333333, -0.31313131,\n",
       "        -0.29292929, -0.27272727, -0.25252525, -0.23232323, -0.21212121,\n",
       "        -0.19191919, -0.17171717, -0.15151515, -0.13131313, -0.11111111,\n",
       "        -0.09090909, -0.07070707, -0.05050505, -0.03030303, -0.01010101,\n",
       "         0.01010101,  0.03030303,  0.05050505,  0.07070707,  0.09090909,\n",
       "         0.11111111,  0.13131313,  0.15151515,  0.17171717,  0.19191919,\n",
       "         0.21212121,  0.23232323,  0.25252525,  0.27272727,  0.29292929,\n",
       "         0.31313131,  0.33333333,  0.35353535,  0.37373737,  0.39393939,\n",
       "         0.41414141,  0.43434343,  0.45454545,  0.47474747,  0.49494949,\n",
       "         0.51515152,  0.53535354,  0.55555556,  0.57575758,  0.5959596 ,\n",
       "         0.61616162,  0.63636364,  0.65656566,  0.67676768,  0.6969697 ,\n",
       "         0.71717172,  0.73737374,  0.75757576,  0.77777778,  0.7979798 ,\n",
       "         0.81818182,  0.83838384,  0.85858586,  0.87878788,  0.8989899 ,\n",
       "         0.91919192,  0.93939394,  0.95959596,  0.97979798,  1.        ]),\n",
       " 'x_0': 0.0020202020202020224}"
      ]
     },
     "execution_count": 36,
     "metadata": {},
     "output_type": "execute_result"
    }
   ],
   "source": [
    "data[0]['input']['physics_model']"
   ]
  },
  {
   "cell_type": "code",
   "execution_count": null,
   "metadata": {
    "collapsed": true
   },
   "outputs": [],
   "source": []
  }
 ],
 "metadata": {
  "kernelspec": {
   "display_name": "Python 3",
   "language": "python",
   "name": "python3"
  },
  "language_info": {
   "codemirror_mode": {
    "name": "ipython",
    "version": 3
   },
   "file_extension": ".py",
   "mimetype": "text/x-python",
   "name": "python",
   "nbconvert_exporter": "python",
   "pygments_lexer": "ipython3",
   "version": "3.5.2"
  }
 },
 "nbformat": 4,
 "nbformat_minor": 2
}
