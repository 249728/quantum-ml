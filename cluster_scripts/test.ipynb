{
 "cells": [
  {
   "cell_type": "code",
   "execution_count": 21,
   "metadata": {
    "collapsed": false
   },
   "outputs": [
    {
     "name": "stdout",
     "output_type": "stream",
     "text": [
      "time 375.3808650970459\n"
     ]
    }
   ],
   "source": [
    "# This is a script to generate a single 2D map of double dot system \n",
    "\n",
    "import numpy as np\n",
    "import imp\n",
    "import sys\n",
    "import os\n",
    "import time\n",
    "import copy\n",
    "import multiprocessing as mp\n",
    "\n",
    "sys.path.append(os.path.expanduser('~/quantum-ml/nanowire_model'))\n",
    "import potential_profile\n",
    "import markov\n",
    "import exceptions\n",
    "\n",
    "# wrapper around the base markov class functions\n",
    "# this function also handles the NoBarrier and InvalidChargeState exceptions\n",
    "def calculate_current(param):\n",
    "    graph = param[0]\n",
    "    physics_model = param[1]\n",
    "    try:\n",
    "        graph.physics = physics_model\n",
    "        graph.tf.__init__(physics_model)\n",
    "        graph.find_n_dot_estimate()\n",
    "        graph.find_start_node()\n",
    "        graph.generate_graph()\n",
    "        return graph.get_output()\n",
    "    except exceptions.NoBarrierState:\n",
    "        output = {}\n",
    "        output['current'] = graph.tf.short_circuit_current\n",
    "        output['charge_state'] = (0,)\n",
    "        output['prob_dist'] = (0,)\n",
    "        output['num_dot'] = 0\n",
    "        output['state'] = 'ShortCircuit'\n",
    "        return output\n",
    "    except exceptions.InvalidChargeState:\n",
    "        output = {}\n",
    "        output['current'] = 0\n",
    "        output['charge_state'] = (0,)\n",
    "        output['prob_dist'] = (0,)\n",
    "        output['num_dot'] = 0\n",
    "        output['state'] = 'NoDot'\n",
    "        return output\n",
    "\n",
    "physics_model = {}\n",
    "# multiple of eV\n",
    "physics_model['E_scale'] = 1\n",
    "# multiple of nm\n",
    "physics_model['dx_scale'] = 1\n",
    "physics_model['kT'] = 1500e-6\n",
    "\n",
    "# just initial param to generate the graph object\n",
    "b1 = [-200e-3,get_random(-0.6),get_random(0.05),1]\n",
    "d1 = [200e-3,get_random(-0.2),get_random(0.05),1]\n",
    "b2 = [-250e-3,get_random(0.0),get_random(0.05),1]\n",
    "d2 = [200e-3,get_random(0.2),get_random(0.05),1]\n",
    "b3 = [-200e-3,get_random(0.6),get_random(0.05),1]\n",
    "\n",
    "x = np.linspace(-1,1,100)\n",
    "physics_model['x'] = x\n",
    "physics_model['list_b'] = [b1,d1,b2,d2,b3]\n",
    "physics_model['V'] = potential_profile.V_x_wire(x,physics_model['list_b'])\n",
    "\n",
    "\n",
    "physics_model['K_onsite'] = get_random(25e-3)\n",
    "physics_model['sigma'] = x[1] - x[0]\n",
    "physics_model['x_0'] = 0.1*(x[1] - x[0])\n",
    "physics_model['mu_l'] = (300.0e-3,300.1e-3)\n",
    "physics_model['battery_weight'] = 10\n",
    "physics_model['short_circuit_current'] = 1\n",
    "\n",
    "graph_model = (2,1)\n",
    "tf_strategy = 'simple'\n",
    "\n",
    "graph = markov.Markov(graph_model,physics_model,tf_strategy)\n",
    "graph.find_n_dot_estimate()\n",
    "\n",
    "def get_random(mean,sigma_mean = 0.01):\n",
    "    return np.random.normal(mean,sigma_mean*np.abs(mean))\n",
    "\n",
    "N_v = 100\n",
    "V_d_vec = np.linspace(50e-3,400e-3,N_v)\n",
    "output_vec = []\n",
    "input_vec = []\n",
    "st = time.time()\n",
    "for i in range(N_v):\n",
    "    for j in range(N_v):\n",
    "        d1[0] = V_d_vec[i]\n",
    "        d2[0] = V_d_vec[j]\n",
    "        physics_model['list_b'] = [b1,d1,b2,d2,b3]\n",
    "        V = potential_profile.V_x_wire(x,physics_model['list_b'])\n",
    "        physics_model['V'] = potential_profile.V_x_wire(x,[b1,b2,b3,d1,d2])\n",
    "        input_vec += [physics_model.copy()]\n",
    "        output_vec += [calculate_current((graph,physics_model))]\n",
    "print(\"time\",time.time() - st)\n",
    "\n",
    "# store the data\n",
    "# data is a list of dictonaries, with two keys : 'input' , 'output'\n",
    "# input is a dict with three keys '\n",
    "data = []\n",
    "for i in range(len(output_vec)):\n",
    "    inp = {}\n",
    "    inp['graph_model'] = graph_model\n",
    "    inp['tf_strategy'] = tf_strategy\n",
    "    inp['physics_model'] = input_vec[i]\n",
    "    data += [{'input' : inp,'output' : output_vec[i]}]\n",
    "\n",
    "import datetime\n",
    "dt = str(datetime.datetime.now()) \n",
    "np.save(os.path.expanduser('~/datadump/double_dot_' + str(N_v) + '_grid_' + dt + '.npy'),data)\n"
   ]
  },
  {
   "cell_type": "code",
   "execution_count": 50,
   "metadata": {
    "collapsed": false
   },
   "outputs": [
    {
     "data": {
      "text/plain": [
       "<matplotlib.collections.PolyCollection at 0x118f37e10>"
      ]
     },
     "execution_count": 50,
     "metadata": {},
     "output_type": "execute_result"
    },
    {
     "data": {
      "image/png": "[encoded data removed]",
      "text/plain": [
       "<matplotlib.figure.Figure at 0x118e0f668>"
      ]
     },
     "metadata": {},
     "output_type": "display_data"
    }
   ],
   "source": [
    "import numpy as np\n",
    "import os\n",
    "import matplotlib.pyplot as plt\n",
    "%matplotlib inline\n",
    "N_v = 100\n",
    "data = np.load(os.path.join(\"/Users/ssk4/dataproc/double_dot_100_grid_2017-06-27 14:06:18.757203.npy\"))\n",
    "#plt.pcolor(data.item()['net_charge_map'])\n",
    "plt.pcolor(data.item()['current_map'],vmax=1e-2)"
   ]
  },
  {
   "cell_type": "code",
   "execution_count": 27,
   "metadata": {
    "collapsed": false
   },
   "outputs": [
    {
     "data": {
      "text/plain": [
       "array([[  0.,   0.,   0., ...,  14.,  14.,  14.],\n",
       "       [  0.,   0.,   0., ...,  14.,  14.,  14.],\n",
       "       [  0.,   0.,   0., ...,  14.,  14.,  15.],\n",
       "       ..., \n",
       "       [  0.,   0.,   0., ...,   0.,   0.,   0.],\n",
       "       [  0.,   0.,   0., ...,   0.,   0.,   0.],\n",
       "       [  0.,   0.,   0., ...,   0.,   0.,   0.]])"
      ]
     },
     "execution_count": 27,
     "metadata": {},
     "output_type": "execute_result"
    }
   ],
   "source": [
    "data.item()['net_charge_map']"
   ]
  },
  {
   "cell_type": "code",
   "execution_count": null,
   "metadata": {
    "collapsed": true
   },
   "outputs": [],
   "source": []
  }
 ],
 "metadata": {
  "kernelspec": {
   "display_name": "Python 3",
   "language": "python",
   "name": "python3"
  },
  "language_info": {
   "codemirror_mode": {
    "name": "ipython",
    "version": 3
   },
   "file_extension": ".py",
   "mimetype": "text/x-python",
   "name": "python",
   "nbconvert_exporter": "python",
   "pygments_lexer": "ipython3",
   "version": "3.6.1"
  }
 },
 "nbformat": 4,
 "nbformat_minor": 2
}
