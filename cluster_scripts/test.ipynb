{
 "cells": [
  {
   "cell_type": "code",
   "execution_count": 103,
   "metadata": {},
   "outputs": [
    {
     "name": "stdout",
     "output_type": "stream",
     "text": [
      "0\n",
      "1\n",
      "2\n",
      "3\n",
      "4\n",
      "5\n",
      "6\n",
      "7\n",
      "8\n",
      "9\n",
      "10\n",
      "11\n",
      "12\n",
      "13\n",
      "14\n",
      "15\n",
      "16\n",
      "17\n",
      "18\n",
      "19\n",
      "20\n",
      "21\n",
      "22\n",
      "23\n",
      "24\n",
      "25\n",
      "26\n",
      "27\n",
      "28\n",
      "29\n",
      "30\n",
      "31\n",
      "32\n",
      "33\n",
      "34\n",
      "35\n",
      "36\n",
      "37\n",
      "38\n",
      "39\n",
      "40\n",
      "41\n",
      "42\n",
      "43\n",
      "44\n",
      "45\n",
      "46\n",
      "47\n",
      "48\n",
      "49\n",
      "50\n",
      "51\n",
      "52\n",
      "53\n",
      "54\n",
      "55\n",
      "56\n",
      "57\n",
      "58\n",
      "59\n",
      "60\n",
      "61\n",
      "62\n",
      "63\n",
      "64\n",
      "65\n",
      "66\n",
      "67\n",
      "68\n",
      "69\n",
      "70\n",
      "71\n",
      "72\n",
      "73\n",
      "74\n",
      "75\n",
      "76\n",
      "77\n",
      "78\n",
      "79\n",
      "80\n",
      "81\n",
      "82\n",
      "83\n",
      "84\n",
      "85\n",
      "86\n",
      "87\n",
      "88\n",
      "89\n",
      "90\n",
      "91\n",
      "92\n",
      "93\n",
      "94\n",
      "95\n",
      "96\n",
      "97\n",
      "98\n",
      "99\n",
      "time 1492.3535649776459\n"
     ]
    }
   ],
   "source": [
    "# This is a script to generate a single 2D map of double dot system \n",
    "\n",
    "import numpy as np\n",
    "import imp\n",
    "import sys\n",
    "import os\n",
    "import time\n",
    "import copy\n",
    "import multiprocessing as mp\n",
    "\n",
    "sys.path.append(os.path.expanduser('~/quantum-ml/nanowire_model'))\n",
    "import potential_profile\n",
    "imp.reload(markov)\n",
    "import markov\n",
    "import exceptions\n",
    "\n",
    "# wrapper around the base markov class functions\n",
    "# this function also handles the NoBarrier and InvalidChargeState exceptions\n",
    "def calculate_current(param):\n",
    "    graph = param[0]\n",
    "    physics_model = param[1]\n",
    "    try:\n",
    "        graph.physics = physics_model\n",
    "        graph.tf.__init__(physics_model)\n",
    "        graph.find_n_dot_estimate()\n",
    "        graph.find_start_node()\n",
    "        graph.generate_graph()\n",
    "        return graph.get_output()\n",
    "    except exceptions.NoBarrierState:\n",
    "        output = {}\n",
    "        output['current'] = graph.tf.short_circuit_current\n",
    "        output['charge_state'] = (0,)\n",
    "        output['prob_dist'] = (0,)\n",
    "        output['num_dot'] = 0\n",
    "        output['state'] = 'ShortCircuit'\n",
    "        return output\n",
    "    except exceptions.InvalidChargeState:\n",
    "        output = {}\n",
    "        output['current'] = 0\n",
    "        output['charge_state'] = (0,)\n",
    "        output['prob_dist'] = (0,)\n",
    "        output['num_dot'] = 0\n",
    "        output['state'] = 'NoDot'\n",
    "        return output\n",
    "\n",
    "def get_random(mean,sigma_mean = 0.05):\n",
    "    return np.random.normal(mean,sigma_mean*np.abs(mean))\n",
    "    \n",
    "physics_model = {}\n",
    "# multiple of eV\n",
    "physics_model['E_scale'] = 1\n",
    "# multiple of nm\n",
    "physics_model['dx_scale'] = 1\n",
    "physics_model['kT'] = 2000e-6\n",
    "\n",
    "# just initial param to generate the graph object\n",
    "b1 = [-200e-3,-0.6,0.05,1]\n",
    "d1 = [200e-3,-0.1,0.05,1]\n",
    "b2 = [-350e-3,0.0,0.05,1]\n",
    "d2 = [200e-3,0.1,0.05,1]\n",
    "b3 = [-200e-3,0.6,0.05,1]\n",
    "\n",
    "\n",
    "x = np.linspace(-1,1,100)\n",
    "physics_model['x'] = x\n",
    "physics_model['list_b'] = [b1,d1,b2,d2,b3]\n",
    "physics_model['V'] = potential_profile.V_x_wire(x,physics_model['list_b'])\n",
    "\n",
    "\n",
    "physics_model['K_onsite'] = 5e-3\n",
    "physics_model['sigma'] = x[1] - x[0]\n",
    "physics_model['x_0'] = 0.01*(x[1] - x[0])\n",
    "physics_model['mu_l'] = (200.0e-3,200.1e-3)\n",
    "physics_model['battery_weight'] = 10\n",
    "physics_model['short_circuit_current'] = 1\n",
    "\n",
    "graph_model = (2,1)\n",
    "tf_strategy = 'simple'\n",
    "\n",
    "graph = markov.Markov(graph_model,physics_model,tf_strategy)\n",
    "graph.find_n_dot_estimate()\n",
    "\n",
    "\n",
    "N_v = 100\n",
    "V_d_vec = np.linspace(150e-3,250e-3,N_v)\n",
    "output_vec = []\n",
    "input_vec = []\n",
    "st = time.time()\n",
    "for i in range(N_v):\n",
    "    print(i)\n",
    "    for j in range(N_v):\n",
    "        d1[0] = V_d_vec[i]\n",
    "        d2[0] = V_d_vec[j]\n",
    "        physics_model['list_b'] = [b1,d1,b2,d2,b3]\n",
    "        V = potential_profile.V_x_wire(x,physics_model['list_b'])\n",
    "        physics_model['V'] = potential_profile.V_x_wire(x,[b1,b2,b3,d1,d2])\n",
    "        output_vec += [calculate_current((graph,physics_model))]\n",
    "print(\"time\",time.time() - st)\n",
    "\n",
    "# store the data\n",
    "# data is a list of dictonaries, with key 'output'\n",
    "data = []\n",
    "for i in range(len(output_vec)):\n",
    "    data += [{'output' : output_vec[i]}]\n",
    "\n",
    "import datetime\n",
    "dt = str(datetime.datetime.now()) \n",
    "np.save(os.path.expanduser('~/datadump/double_dot_' + str(N_v) + '_grid_' + dt + '.npy'),data)\n"
   ]
  },
  {
   "cell_type": "code",
   "execution_count": 89,
   "metadata": {},
   "outputs": [],
   "source": [
    "import numpy as np\n",
    "import os\n",
    "import matplotlib.pyplot as plt\n",
    "%matplotlib inline\n",
    "N_v = 100\n",
    "#plt.pcolor(data.item()['net_charge_map'])\n",
    "current_map = np.array([x['output']['current'] for x in data]).reshape((N_v,N_v))\n"
   ]
  },
  {
   "cell_type": "code",
   "execution_count": 100,
   "metadata": {},
   "outputs": [
    {
     "data": {
      "text/plain": [
       "<matplotlib.collections.PolyCollection at 0x161f2d358>"
      ]
     },
     "execution_count": 100,
     "metadata": {},
     "output_type": "execute_result"
    },
    {
     "data": {
      "image/png": "[encoded data removed]",
      "text/plain": [
       "<matplotlib.figure.Figure at 0x163535780>"
      ]
     },
     "metadata": {},
     "output_type": "display_data"
    }
   ],
   "source": [
    "plt.pcolor(current_map,vmax=1e-3)"
   ]
  },
  {
   "cell_type": "code",
   "execution_count": 101,
   "metadata": {},
   "outputs": [
    {
     "data": {
      "text/plain": [
       "<matplotlib.collections.PolyCollection at 0x18fe96a20>"
      ]
     },
     "execution_count": 101,
     "metadata": {},
     "output_type": "execute_result"
    },
    {
     "data": {
      "image/png": "[encoded data removed]",
      "text/plain": [
       "<matplotlib.figure.Figure at 0x1901007f0>"
      ]
     },
     "metadata": {},
     "output_type": "display_data"
    }
   ],
   "source": [
    "plt.pcolor(np.array([np.sum(x['output']['charge_state']) for x in data]).reshape((N_v,N_v)))"
   ]
  },
  {
   "cell_type": "code",
   "execution_count": 13,
   "metadata": {},
   "outputs": [
    {
     "data": {
      "text/plain": [
       "0.0040211419251779245"
      ]
     },
     "execution_count": 13,
     "metadata": {},
     "output_type": "execute_result"
    }
   ],
   "source": [
    "data[50000]['output']['current']"
   ]
  },
  {
   "cell_type": "code",
   "execution_count": null,
   "metadata": {
    "collapsed": true
   },
   "outputs": [],
   "source": []
  }
 ],
 "metadata": {
  "kernelspec": {
   "display_name": "Python 3",
   "language": "python",
   "name": "python3"
  },
  "language_info": {
   "codemirror_mode": {
    "name": "ipython",
    "version": 3
   },
   "file_extension": ".py",
   "mimetype": "text/x-python",
   "name": "python",
   "nbconvert_exporter": "python",
   "pygments_lexer": "ipython3",
   "version": "3.5.2"
  }
 },
 "nbformat": 4,
 "nbformat_minor": 2
}
