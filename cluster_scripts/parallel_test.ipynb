{
 "cells": [
  {
   "cell_type": "code",
   "execution_count": 1,
   "metadata": {},
   "outputs": [
    {
     "name": "stdout",
     "output_type": "stream",
     "text": [
      "time 415.3870539665222\n",
      "time 493.0191180706024\n",
      "time 458.62651896476746\n",
      "time 447.4484279155731\n",
      "time 457.48859000205994\n",
      "time 351.04855704307556\n",
      "time 369.3041970729828\n",
      "time 451.2391519546509\n",
      "time 538.8534379005432\n",
      "time 418.1090087890625\n",
      "time 901.991219997406\n",
      "time 843.8623509407043\n",
      "time 782.866240978241\n",
      "time 507.1653161048889\n",
      "time 639.1163651943207\n"
     ]
    }
   ],
   "source": [
    "import imp\n",
    "import double_dot\n",
    "imp.reload(double_dot)\n",
    "import multiprocessing as mpl\n",
    "\n",
    "#with mpl.Pool(mpl.cpu_count()) as p:\n",
    "#    res1 = p.apply_async(double_dot.calculate_2d_map)\n",
    "#    res2 = p.apply_async(double_dot.calculate_2d_map)\n",
    "#out1 = res1.get()\n",
    "#out2 = res2.get()\n",
    "res = [double_dot.calculate_2d_map(x) for x in range(15)]"
   ]
  },
  {
   "cell_type": "code",
   "execution_count": 17,
   "metadata": {},
   "outputs": [
    {
     "data": {
      "text/plain": [
       "1.875"
      ]
     },
     "execution_count": 17,
     "metadata": {},
     "output_type": "execute_result"
    }
   ],
   "source": [
    "450*15/3600"
   ]
  },
  {
   "cell_type": "code",
   "execution_count": null,
   "metadata": {
    "collapsed": true
   },
   "outputs": [],
   "source": []
  }
 ],
 "metadata": {
  "kernelspec": {
   "display_name": "Python 3",
   "language": "python",
   "name": "python3"
  },
  "language_info": {
   "codemirror_mode": {
    "name": "ipython",
    "version": 3
   },
   "file_extension": ".py",
   "mimetype": "text/x-python",
   "name": "python",
   "nbconvert_exporter": "python",
   "pygments_lexer": "ipython3",
   "version": "3.5.2"
  }
 },
 "nbformat": 4,
 "nbformat_minor": 2
}
