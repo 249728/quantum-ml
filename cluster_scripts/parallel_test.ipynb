{
 "cells": [
  {
   "cell_type": "code",
   "execution_count": 4,
   "metadata": {},
   "outputs": [
    {
     "name": "stdout",
     "output_type": "stream",
     "text": [
      "time 176.4911711215973\n",
      "time 157.64077806472778\n",
      "time 204.5873281955719\n",
      "time 288.95709919929504\n",
      "time 263.2275650501251\n",
      "time 247.59587001800537\n",
      "time 292.8347771167755\n",
      "time 239.13020706176758\n",
      "time 251.1297631263733\n",
      "time 242.17498087882996\n",
      "time 210.80933904647827\n",
      "time 235.86086320877075\n",
      "time 262.357892036438\n",
      "time 208.33892011642456\n",
      "time 239.13893795013428\n",
      "time 242.4557728767395\n",
      "time 170.04104113578796\n",
      "time 178.89999294281006\n",
      "time 182.53407502174377\n",
      "time 180.70933198928833\n",
      "time 178.32606601715088\n",
      "time 278.709361076355\n",
      "time 167.90971994400024\n",
      "time 180.59960889816284\n",
      "time 172.4492268562317\n",
      "time 183.9212191104889\n",
      "time 168.92951798439026\n",
      "time 163.1596121788025\n",
      "time 187.68402910232544\n",
      "time 167.39796996116638\n",
      "time 174.65302109718323\n",
      "time 201.69078993797302\n",
      "time 185.88529205322266\n",
      "time 185.5971450805664\n",
      "time 181.1239309310913\n",
      "time 164.64146494865417\n",
      "time 191.26700091362\n",
      "time 197.36657810211182\n",
      "time 157.6879370212555\n",
      "time 181.25852799415588\n",
      "time 163.98772382736206\n",
      "time 185.6297252178192\n",
      "time 188.42309188842773\n",
      "time 191.75381088256836\n",
      "time 170.38916301727295\n",
      "time 169.12339901924133\n",
      "time 184.95953512191772\n",
      "time 187.86471509933472\n",
      "time 185.4044530391693\n",
      "time 191.1849181652069\n"
     ]
    }
   ],
   "source": [
    "import imp\n",
    "import double_dot\n",
    "imp.reload(double_dot)\n",
    "import multiprocessing as mpl\n",
    "\n",
    "#with mpl.Pool(mpl.cpu_count()) as p:\n",
    "#    res1 = p.apply_async(double_dot.calculate_2d_map)\n",
    "#    res2 = p.apply_async(double_dot.calculate_2d_map)\n",
    "#out1 = res1.get()\n",
    "#out2 = res2.get()\n",
    "res = [double_dot.calculate_2d_map(x) for x in range(50)]"
   ]
  },
  {
   "cell_type": "code",
   "execution_count": 17,
   "metadata": {},
   "outputs": [
    {
     "data": {
      "text/plain": [
       "1.875"
      ]
     },
     "execution_count": 17,
     "metadata": {},
     "output_type": "execute_result"
    }
   ],
   "source": [
    "450*15/3600"
   ]
  },
  {
   "cell_type": "code",
   "execution_count": 2,
   "metadata": {},
   "outputs": [
    {
     "data": {
      "text/plain": [
       "43.2"
      ]
     },
     "execution_count": 2,
     "metadata": {},
     "output_type": "execute_result"
    }
   ],
   "source": [
    "6*3600/500"
   ]
  },
  {
   "cell_type": "code",
   "execution_count": null,
   "metadata": {
    "collapsed": true
   },
   "outputs": [],
   "source": []
  }
 ],
 "metadata": {
  "kernelspec": {
   "display_name": "Python 3",
   "language": "python",
   "name": "python3"
  },
  "language_info": {
   "codemirror_mode": {
    "name": "ipython",
    "version": 3
   },
   "file_extension": ".py",
   "mimetype": "text/x-python",
   "name": "python",
   "nbconvert_exporter": "python",
   "pygments_lexer": "ipython3",
   "version": "3.5.2"
  }
 },
 "nbformat": 4,
 "nbformat_minor": 2
}
