{
 "cells": [
  {
   "cell_type": "code",
   "execution_count": 15,
   "metadata": {
    "collapsed": false
   },
   "outputs": [
    {
     "name": "stdout",
     "output_type": "stream",
     "text": [
      "Once deleted, variables cannot be recovered. Proceed (y/[n])? y\n",
      "0\n",
      "1\n",
      "2\n",
      "3\n",
      "4\n",
      "5\n",
      "6\n",
      "7\n",
      "8\n",
      "9\n",
      "10\n",
      "11\n",
      "12\n",
      "13\n",
      "14\n",
      "15\n",
      "16\n",
      "17\n",
      "18\n",
      "19\n",
      "20\n",
      "21\n",
      "22\n",
      "23\n",
      "24\n",
      "55.09910011291504\n"
     ]
    }
   ],
   "source": [
    "# This notebook is used to test double_dot scripts\n",
    "%reset\n",
    "import imp\n",
    "import dd\n",
    "import sys\n",
    "sys.path.append('/Users/ssk4/quantum-ml/nanowire_model')\n",
    "import physics\n",
    "import potential_profile\n",
    "import markov\n",
    "import exceptions\n",
    "import thomas_fermi\n",
    "imp.reload(physics)\n",
    "imp.reload(potential_profile)\n",
    "imp.reload(markov)\n",
    "imp.reload(exceptions)\n",
    "imp.reload(thomas_fermi)\n",
    "\n",
    "imp.reload(dd)\n",
    "\n",
    "print(dd.calculate_2d_map())\n",
    "\n"
   ]
  },
  {
   "cell_type": "code",
   "execution_count": 19,
   "metadata": {
    "collapsed": false
   },
   "outputs": [
    {
     "data": {
      "text/plain": [
       "<matplotlib.collections.PolyCollection at 0x10af7eba8>"
      ]
     },
     "execution_count": 19,
     "metadata": {},
     "output_type": "execute_result"
    },
    {
     "data": {
      "image/png": "[encoded data removed]",
      "text/plain": [
       "<matplotlib.figure.Figure at 0x10ed79860>"
      ]
     },
     "metadata": {},
     "output_type": "display_data"
    }
   ],
   "source": [
    "import numpy as np\n",
    "dat = np.load('/Users/ssk4/data/double_dot_test1.npy').item()\n",
    "\n",
    "import matplotlib.pyplot as plt\n",
    "%matplotlib inline\n",
    "\n",
    "curr_map = np.array([x['current'] for x in dat['output']]).reshape((len(dat['input']['V_d1_vec']),len(dat['input']['V_d2_vec'])))\n",
    "\n",
    "XX,YY = np.meshgrid(dat['input']['V_d1_vec'],dat['input']['V_d2_vec'])\n",
    "plt.subplot(1,2,1)\n",
    "\n",
    "plt.pcolor(curr_map,vmax=1e-3)\n",
    "plt.subplot(1,2,2)\n",
    "charge_map = np.array([np.sum(x['charge_state']) for x in dat['output']]).reshape((len(dat['input']['V_d1_vec']),\n",
    "                                                                                   len(dat['input']['V_d2_vec'])))\n",
    "\n",
    "XX,YY = np.meshgrid(dat['input']['V_d1_vec'],dat['input']['V_d2_vec'])\n",
    "plt.pcolor(charge_map)"
   ]
  },
  {
   "cell_type": "code",
   "execution_count": 101,
   "metadata": {
    "collapsed": false
   },
   "outputs": [
    {
     "name": "stdout",
     "output_type": "stream",
     "text": [
      "Once deleted, variables cannot be recovered. Proceed (y/[n])? y\n",
      "0\n",
      "1\n",
      "2\n",
      "3\n",
      "4\n",
      "5\n",
      "6\n",
      "7\n",
      "8\n",
      "9\n",
      "461.1974320411682\n"
     ]
    }
   ],
   "source": [
    "# This notebook is used to test double_dot 3d scripts\n",
    "%reset\n",
    "import imp\n",
    "import dd\n",
    "import sys\n",
    "sys.path.append('/Users/ssk4/quantum-ml/nanowire_model')\n",
    "import physics\n",
    "import potential_profile\n",
    "import markov\n",
    "import exceptions\n",
    "import thomas_fermi\n",
    "imp.reload(physics)\n",
    "imp.reload(potential_profile)\n",
    "imp.reload(markov)\n",
    "imp.reload(exceptions)\n",
    "imp.reload(thomas_fermi)\n",
    "\n",
    "imp.reload(dd)\n",
    "\n",
    "print(dd.calculate_3d_map())"
   ]
  },
  {
   "cell_type": "code",
   "execution_count": 102,
   "metadata": {
    "collapsed": false
   },
   "outputs": [],
   "source": [
    "import numpy as np\n",
    "dat = np.load('/Users/ssk4/data/double_dot_3d50_grid_2017-07-08 16:55:25.542132.npy').item()\n",
    "\n",
    "import matplotlib.pyplot as plt\n",
    "%matplotlib inline\n",
    "\n",
    "curr_map = np.array([x['current'] for x in dat['output']]).reshape((len(dat['input']['V_b2_vec']),\n",
    "                                                                    len(dat['input']['V_b1_vec']),\n",
    "                                                                    len(dat['input']['V_b3_vec'])))\n"
   ]
  },
  {
   "cell_type": "code",
   "execution_count": 64,
   "metadata": {
    "collapsed": true
   },
   "outputs": [],
   "source": [
    "cc = np.zeros((50,50,50))\n",
    "for i in range(50):\n",
    "    for j in range(50):\n",
    "        for k in range(50):\n",
    "            cc[k,i,j] = curr_map[j,i,k]\n",
    "            \n",
    "            "
   ]
  },
  {
   "cell_type": "code",
   "execution_count": 113,
   "metadata": {
    "collapsed": false
   },
   "outputs": [
    {
     "ename": "IndexError",
     "evalue": "index 10 is out of bounds for axis 0 with size 10",
     "output_type": "error",
     "traceback": [
      "\u001b[0;31m---------------------------------------------------------------------------\u001b[0m",
      "\u001b[0;31mIndexError\u001b[0m                                Traceback (most recent call last)",
      "\u001b[0;32m<ipython-input-113-879faf4365f7>\u001b[0m in \u001b[0;36m<module>\u001b[0;34m()\u001b[0m\n\u001b[0;32m----> 1\u001b[0;31m \u001b[0mplt\u001b[0m\u001b[0;34m.\u001b[0m\u001b[0mpcolor\u001b[0m\u001b[0;34m(\u001b[0m\u001b[0mcurr_map\u001b[0m\u001b[0;34m[\u001b[0m\u001b[0;36m10\u001b[0m\u001b[0;34m]\u001b[0m\u001b[0;34m,\u001b[0m\u001b[0mvmax\u001b[0m\u001b[0;34m=\u001b[0m\u001b[0;36m1e-6\u001b[0m\u001b[0;34m)\u001b[0m\u001b[0;34m\u001b[0m\u001b[0m\n\u001b[0m",
      "\u001b[0;31mIndexError\u001b[0m: index 10 is out of bounds for axis 0 with size 10"
     ]
    }
   ],
   "source": [
    "plt.pcolor(curr_map[10],vmax=1e-6)"
   ]
  },
  {
   "cell_type": "code",
   "execution_count": 85,
   "metadata": {
    "collapsed": false
   },
   "outputs": [
    {
     "data": {
      "text/plain": [
       "{'charge_state': (),\n",
       " 'current': 1.0861971650001733e-28,\n",
       " 'edges': [((0, 1),\n",
       "   (1, 0),\n",
       "   {'battery_edge': True, 'weight': 5930969606400161.0}),\n",
       "  ((1, 0), (0, 1), {'battery_edge': False, 'weight': 1.3851694344244335e-08})],\n",
       " 'nodes': [((0, 1), {'battery_node': True}), ((1, 0), {})],\n",
       " 'num_dot': 0,\n",
       " 'prob_dist': matrix([[  1.08619717e-28],\n",
       "         [  1.00000000e+00]]),\n",
       " 'state': 'QPC'}"
      ]
     },
     "execution_count": 85,
     "metadata": {},
     "output_type": "execute_result"
    }
   ],
   "source": [
    "dat['output'][100]"
   ]
  },
  {
   "cell_type": "code",
   "execution_count": null,
   "metadata": {
    "collapsed": true
   },
   "outputs": [],
   "source": []
  }
 ],
 "metadata": {
  "kernelspec": {
   "display_name": "Python 3",
   "language": "python",
   "name": "python3"
  },
  "language_info": {
   "codemirror_mode": {
    "name": "ipython",
    "version": 3
   },
   "file_extension": ".py",
   "mimetype": "text/x-python",
   "name": "python",
   "nbconvert_exporter": "python",
   "pygments_lexer": "ipython3",
   "version": "3.6.1"
  }
 },
 "nbformat": 4,
 "nbformat_minor": 2
}
