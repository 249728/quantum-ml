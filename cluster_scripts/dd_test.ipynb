{
 "cells": [
  {
   "cell_type": "code",
   "execution_count": 15,
   "metadata": {
    "collapsed": false
   },
   "outputs": [
    {
     "name": "stdout",
     "output_type": "stream",
     "text": [
      "Once deleted, variables cannot be recovered. Proceed (y/[n])? y\n",
      "0\n",
      "1\n",
      "2\n",
      "3\n",
      "4\n",
      "5\n",
      "6\n",
      "7\n",
      "8\n",
      "9\n",
      "10\n",
      "11\n",
      "12\n",
      "13\n",
      "14\n",
      "15\n",
      "16\n",
      "17\n",
      "18\n",
      "19\n",
      "20\n",
      "21\n",
      "22\n",
      "23\n",
      "24\n",
      "55.09910011291504\n"
     ]
    }
   ],
   "source": [
    "# This notebook is used to test double_dot scripts\n",
    "%reset\n",
    "import imp\n",
    "import dd\n",
    "import sys\n",
    "sys.path.append('/Users/ssk4/quantum-ml/nanowire_model')\n",
    "import physics\n",
    "import potential_profile\n",
    "import markov\n",
    "import exceptions\n",
    "import thomas_fermi\n",
    "imp.reload(physics)\n",
    "imp.reload(potential_profile)\n",
    "imp.reload(markov)\n",
    "imp.reload(exceptions)\n",
    "imp.reload(thomas_fermi)\n",
    "\n",
    "imp.reload(dd)\n",
    "\n",
    "print(dd.calculate_2d_map())\n",
    "\n"
   ]
  },
  {
   "cell_type": "code",
   "execution_count": 19,
   "metadata": {
    "collapsed": false
   },
   "outputs": [
    {
     "data": {
      "text/plain": [
       "<matplotlib.collections.PolyCollection at 0x10af7eba8>"
      ]
     },
     "execution_count": 19,
     "metadata": {},
     "output_type": "execute_result"
    },
    {
     "data": {
      "image/png": "[encoded data removed]",
      "text/plain": [
       "<matplotlib.figure.Figure at 0x10ed79860>"
      ]
     },
     "metadata": {},
     "output_type": "display_data"
    }
   ],
   "source": [
    "import numpy as np\n",
    "dat = np.load('/Users/ssk4/data/double_dot_test1.npy').item()\n",
    "\n",
    "import matplotlib.pyplot as plt\n",
    "%matplotlib inline\n",
    "\n",
    "curr_map = np.array([x['current'] for x in dat['output']]).reshape((len(dat['input']['V_d1_vec']),len(dat['input']['V_d2_vec'])))\n",
    "\n",
    "XX,YY = np.meshgrid(dat['input']['V_d1_vec'],dat['input']['V_d2_vec'])\n",
    "plt.subplot(1,2,1)\n",
    "\n",
    "plt.pcolor(curr_map,vmax=1e-3)\n",
    "plt.subplot(1,2,2)\n",
    "charge_map = np.array([np.sum(x['charge_state']) for x in dat['output']]).reshape((len(dat['input']['V_d1_vec']),\n",
    "                                                                                   len(dat['input']['V_d2_vec'])))\n",
    "\n",
    "XX,YY = np.meshgrid(dat['input']['V_d1_vec'],dat['input']['V_d2_vec'])\n",
    "plt.pcolor(charge_map)"
   ]
  },
  {
   "cell_type": "code",
   "execution_count": 125,
   "metadata": {
    "collapsed": false
   },
   "outputs": [
    {
     "name": "stdout",
     "output_type": "stream",
     "text": [
      "Once deleted, variables cannot be recovered. Proceed (y/[n])? y\n",
      "0\n",
      "1\n",
      "2\n",
      "3\n",
      "4\n",
      "5\n",
      "6\n",
      "7\n",
      "8\n",
      "9\n",
      "10\n",
      "11\n",
      "12\n",
      "13\n",
      "14\n",
      "15\n",
      "16\n",
      "17\n",
      "18\n",
      "19\n",
      "20\n",
      "21\n",
      "22\n",
      "23\n",
      "24\n",
      "25\n",
      "26\n",
      "27\n",
      "28\n",
      "29\n",
      "30\n",
      "31\n",
      "32\n",
      "33\n",
      "34\n",
      "35\n",
      "36\n",
      "37\n",
      "38\n",
      "39\n",
      "40\n",
      "41\n",
      "42\n",
      "43\n",
      "44\n",
      "45\n",
      "46\n",
      "47\n",
      "48\n",
      "49\n",
      "1800.0121989250183\n"
     ]
    }
   ],
   "source": [
    "# This notebook is used to test double_dot 3d scripts\n",
    "%reset\n",
    "import imp\n",
    "import dd\n",
    "import sys\n",
    "sys.path.append('/Users/ssk4/quantum-ml/nanowire_model')\n",
    "import physics\n",
    "import potential_profile\n",
    "import markov\n",
    "import exceptions\n",
    "import thomas_fermi\n",
    "imp.reload(physics)\n",
    "imp.reload(potential_profile)\n",
    "imp.reload(markov)\n",
    "imp.reload(exceptions)\n",
    "imp.reload(thomas_fermi)\n",
    "\n",
    "imp.reload(dd)\n",
    "\n",
    "print(dd.calculate_3d_map())"
   ]
  },
  {
   "cell_type": "code",
   "execution_count": 126,
   "metadata": {
    "collapsed": false
   },
   "outputs": [],
   "source": [
    "import numpy as np\n",
    "dat = np.load('/Users/ssk4/data/double_dot_3d50_grid_2017-07-08 19:12:11.106115.npy').item()\n",
    "\n",
    "import matplotlib.pyplot as plt\n",
    "%matplotlib inline\n",
    "\n",
    "curr_map = np.array([x['current'] for x in dat['output']]).reshape((len(dat['input']['V_b2_vec']),\n",
    "                                                                    len(dat['input']['V_b1_vec']),\n",
    "                                                                    len(dat['input']['V_b3_vec'])))\n"
   ]
  },
  {
   "cell_type": "code",
   "execution_count": 64,
   "metadata": {
    "collapsed": true
   },
   "outputs": [],
   "source": [
    "cc = np.zeros((50,50,50))\n",
    "for i in range(50):\n",
    "    for j in range(50):\n",
    "        for k in range(50):\n",
    "            cc[k,i,j] = curr_map[j,i,k]\n",
    "            \n",
    "            "
   ]
  },
  {
   "cell_type": "code",
   "execution_count": 146,
   "metadata": {
    "collapsed": false
   },
   "outputs": [
    {
     "data": {
      "text/plain": [
       "<matplotlib.collections.PolyCollection at 0x11a42a2e8>"
      ]
     },
     "execution_count": 146,
     "metadata": {},
     "output_type": "execute_result"
    },
    {
     "data": {
      "image/png": "[encoded data removed]",
      "text/plain": [
       "<matplotlib.figure.Figure at 0x12ad4d7f0>"
      ]
     },
     "metadata": {},
     "output_type": "display_data"
    }
   ],
   "source": [
    "plt.pcolor(curr_map[49],vmax=1e-8)"
   ]
  },
  {
   "cell_type": "code",
   "execution_count": 139,
   "metadata": {
    "collapsed": false
   },
   "outputs": [
    {
     "data": {
      "text/plain": [
       "{'V_b1_vec': array([-0.3       , -0.29693878, -0.29387755, -0.29081633, -0.2877551 ,\n",
       "        -0.28469388, -0.28163265, -0.27857143, -0.2755102 , -0.27244898,\n",
       "        -0.26938776, -0.26632653, -0.26326531, -0.26020408, -0.25714286,\n",
       "        -0.25408163, -0.25102041, -0.24795918, -0.24489796, -0.24183673,\n",
       "        -0.23877551, -0.23571429, -0.23265306, -0.22959184, -0.22653061,\n",
       "        -0.22346939, -0.22040816, -0.21734694, -0.21428571, -0.21122449,\n",
       "        -0.20816327, -0.20510204, -0.20204082, -0.19897959, -0.19591837,\n",
       "        -0.19285714, -0.18979592, -0.18673469, -0.18367347, -0.18061224,\n",
       "        -0.17755102, -0.1744898 , -0.17142857, -0.16836735, -0.16530612,\n",
       "        -0.1622449 , -0.15918367, -0.15612245, -0.15306122, -0.15      ]),\n",
       " 'V_b2_vec': array([-0.5       , -0.49591837, -0.49183673, -0.4877551 , -0.48367347,\n",
       "        -0.47959184, -0.4755102 , -0.47142857, -0.46734694, -0.46326531,\n",
       "        -0.45918367, -0.45510204, -0.45102041, -0.44693878, -0.44285714,\n",
       "        -0.43877551, -0.43469388, -0.43061224, -0.42653061, -0.42244898,\n",
       "        -0.41836735, -0.41428571, -0.41020408, -0.40612245, -0.40204082,\n",
       "        -0.39795918, -0.39387755, -0.38979592, -0.38571429, -0.38163265,\n",
       "        -0.37755102, -0.37346939, -0.36938776, -0.36530612, -0.36122449,\n",
       "        -0.35714286, -0.35306122, -0.34897959, -0.34489796, -0.34081633,\n",
       "        -0.33673469, -0.33265306, -0.32857143, -0.3244898 , -0.32040816,\n",
       "        -0.31632653, -0.3122449 , -0.30816327, -0.30408163, -0.3       ]),\n",
       " 'V_b3_vec': array([-0.3       , -0.29693878, -0.29387755, -0.29081633, -0.2877551 ,\n",
       "        -0.28469388, -0.28163265, -0.27857143, -0.2755102 , -0.27244898,\n",
       "        -0.26938776, -0.26632653, -0.26326531, -0.26020408, -0.25714286,\n",
       "        -0.25408163, -0.25102041, -0.24795918, -0.24489796, -0.24183673,\n",
       "        -0.23877551, -0.23571429, -0.23265306, -0.22959184, -0.22653061,\n",
       "        -0.22346939, -0.22040816, -0.21734694, -0.21428571, -0.21122449,\n",
       "        -0.20816327, -0.20510204, -0.20204082, -0.19897959, -0.19591837,\n",
       "        -0.19285714, -0.18979592, -0.18673469, -0.18367347, -0.18061224,\n",
       "        -0.17755102, -0.1744898 , -0.17142857, -0.16836735, -0.16530612,\n",
       "        -0.1622449 , -0.15918367, -0.15612245, -0.15306122, -0.15      ]),\n",
       " 'graph_model': (1, 1),\n",
       " 'physics_model': {'E_scale': 1,\n",
       "  'K_onsite': 0.014157253383270282,\n",
       "  'QPC_current_scale': 0.0001,\n",
       "  'V': array([ 0.02593523,  0.03146264,  0.03718267,  0.04311037,  0.04926266,\n",
       "          0.05565863,  0.06231992,  0.06927117,  0.07654062,  0.08416078,\n",
       "          0.09216939,  0.10061047,  0.10953578,  0.11900668,  0.12909646,\n",
       "          0.13989351,  0.15150533,  0.16406391,  0.17773269,  0.19271533,\n",
       "          0.20926598,  0.2276983 ,  0.24838335,  0.27170252,  0.29784693,\n",
       "          0.32613368,  0.35309041,  0.36953601,  0.36461718,  0.3404054 ,\n",
       "          0.30853133,  0.27648592,  0.24666032,  0.2193037 ,  0.19403066,\n",
       "          0.1703205 ,  0.14765119,  0.12551904,  0.10342631,  0.08086998,\n",
       "          0.0573671 ,  0.03261617,  0.0071131 , -0.01587921, -0.02600268,\n",
       "         -0.00596278,  0.04855507,  0.12110817,  0.19258191,  0.24008311,\n",
       "          0.23672884,  0.18242741,  0.10406471,  0.02543547, -0.03166033,\n",
       "         -0.04962364, -0.03677219, -0.01273296,  0.0124813 ,  0.03613772,\n",
       "          0.05799661,  0.07844882,  0.0979818 ,  0.11705302,  0.13607704,\n",
       "          0.15544242,  0.17553541,  0.19676474,  0.21958477,  0.24450896,\n",
       "          0.27208253,  0.30270265,  0.33591211,  0.36818133,  0.38903   ,\n",
       "          0.38572294,  0.36180961,  0.33114456,  0.30148619,  0.27492937,\n",
       "          0.25154042,  0.23089358,  0.21252187,  0.19602455,  0.18107931,\n",
       "          0.16743113,  0.15487816,  0.14325948,  0.13244555,  0.12233103,\n",
       "          0.11282935,  0.10386865,  0.09538878,  0.08733891,  0.07967575,\n",
       "          0.07236218,  0.06536613,  0.05865976,  0.05221869,  0.04602152]),\n",
       "  'battery_weight': 10,\n",
       "  'dx_scale': 2,\n",
       "  'kT': 0.00035,\n",
       "  'list_b': [[-0.14999999999999999,\n",
       "    -0.44704880131710456,\n",
       "    0.05037966354275036,\n",
       "    1],\n",
       "   [0.19346172277812923, -0.09762752380970689, 0.048497943374591936, 1],\n",
       "   [-0.29999999999999999, 0.0, 0.04847357072304615, 1],\n",
       "   [0.2033035168185286, 0.09520277832412499, 0.04676543593745243, 1],\n",
       "   [-0.14999999999999999, 0.5015013991862876, 0.047273639590239766, 1]],\n",
       "  'mu_l': (0.3001, 0.3),\n",
       "  'short_circuit_current': 1,\n",
       "  'sigma': 0.020202020202020221,\n",
       "  'x': array([-1.        , -0.97979798, -0.95959596, -0.93939394, -0.91919192,\n",
       "         -0.8989899 , -0.87878788, -0.85858586, -0.83838384, -0.81818182,\n",
       "         -0.7979798 , -0.77777778, -0.75757576, -0.73737374, -0.71717172,\n",
       "         -0.6969697 , -0.67676768, -0.65656566, -0.63636364, -0.61616162,\n",
       "         -0.5959596 , -0.57575758, -0.55555556, -0.53535354, -0.51515152,\n",
       "         -0.49494949, -0.47474747, -0.45454545, -0.43434343, -0.41414141,\n",
       "         -0.39393939, -0.37373737, -0.35353535, -0.33333333, -0.31313131,\n",
       "         -0.29292929, -0.27272727, -0.25252525, -0.23232323, -0.21212121,\n",
       "         -0.19191919, -0.17171717, -0.15151515, -0.13131313, -0.11111111,\n",
       "         -0.09090909, -0.07070707, -0.05050505, -0.03030303, -0.01010101,\n",
       "          0.01010101,  0.03030303,  0.05050505,  0.07070707,  0.09090909,\n",
       "          0.11111111,  0.13131313,  0.15151515,  0.17171717,  0.19191919,\n",
       "          0.21212121,  0.23232323,  0.25252525,  0.27272727,  0.29292929,\n",
       "          0.31313131,  0.33333333,  0.35353535,  0.37373737,  0.39393939,\n",
       "          0.41414141,  0.43434343,  0.45454545,  0.47474747,  0.49494949,\n",
       "          0.51515152,  0.53535354,  0.55555556,  0.57575758,  0.5959596 ,\n",
       "          0.61616162,  0.63636364,  0.65656566,  0.67676768,  0.6969697 ,\n",
       "          0.71717172,  0.73737374,  0.75757576,  0.77777778,  0.7979798 ,\n",
       "          0.81818182,  0.83838384,  0.85858586,  0.87878788,  0.8989899 ,\n",
       "          0.91919192,  0.93939394,  0.95959596,  0.97979798,  1.        ]),\n",
       "  'x_0': 0.00020202020202020221},\n",
       " 'tf_strategy': 'simple'}"
      ]
     },
     "execution_count": 139,
     "metadata": {},
     "output_type": "execute_result"
    }
   ],
   "source": [
    "dat['input']"
   ]
  },
  {
   "cell_type": "code",
   "execution_count": null,
   "metadata": {
    "collapsed": true
   },
   "outputs": [],
   "source": []
  }
 ],
 "metadata": {
  "kernelspec": {
   "display_name": "Python 3",
   "language": "python",
   "name": "python3"
  },
  "language_info": {
   "codemirror_mode": {
    "name": "ipython",
    "version": 3
   },
   "file_extension": ".py",
   "mimetype": "text/x-python",
   "name": "python",
   "nbconvert_exporter": "python",
   "pygments_lexer": "ipython3",
   "version": "3.6.1"
  }
 },
 "nbformat": 4,
 "nbformat_minor": 2
}
