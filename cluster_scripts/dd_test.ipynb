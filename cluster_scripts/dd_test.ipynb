{
 "cells": [
  {
   "cell_type": "code",
   "execution_count": null,
   "metadata": {},
   "outputs": [
    {
     "name": "stdout",
     "output_type": "stream",
     "text": [
      "Once deleted, variables cannot be recovered. Proceed (y/[n])? y\n",
      "0\n",
      "1\n",
      "2\n",
      "3\n",
      "4\n",
      "5\n",
      "6\n",
      "7\n"
     ]
    }
   ],
   "source": [
    "# This notebook is used to test double_dot scripts\n",
    "%reset\n",
    "import imp\n",
    "import dd\n",
    "import sys\n",
    "sys.path.append('/Users/sandesh/quantum-ml/nanowire_model')\n",
    "import physics\n",
    "import potential_profile\n",
    "import markov\n",
    "import exceptions\n",
    "import thomas_fermi\n",
    "imp.reload(physics)\n",
    "imp.reload(potential_profile)\n",
    "imp.reload(markov)\n",
    "imp.reload(exceptions)\n",
    "imp.reload(thomas_fermi)\n",
    "\n",
    "imp.reload(dd)\n",
    "\n",
    "print(dd.calculate_2d_map())\n",
    "\n"
   ]
  },
  {
   "cell_type": "code",
   "execution_count": null,
   "metadata": {},
   "outputs": [],
   "source": [
    "import numpy as np\n",
    "dat = np.load('/Users/sandesh/data/double_dot_test1.npy').item()\n",
    "\n",
    "import matplotlib.pyplot as plt\n",
    "%matplotlib inline\n",
    "\n",
    "curr_map = np.array([x['current'] for x in dat['output']]).reshape((len(dat['input']['V_d1_vec']),len(dat['input']['V_d2_vec'])))\n",
    "\n",
    "XX,YY = np.meshgrid(dat['input']['V_d1_vec'],dat['input']['V_d2_vec'])\n",
    "plt.pcolor(XX,YY,curr_map,vmax=1e-8)\n"
   ]
  },
  {
   "cell_type": "code",
   "execution_count": null,
   "metadata": {},
   "outputs": [],
   "source": [
    "# This notebook is used to test double_dot 3d scripts\n",
    "%reset\n",
    "import imp\n",
    "import dd\n",
    "import sys\n",
    "sys.path.append('/Users/ssk4/quantum-ml/nanowire_model')\n",
    "import physics\n",
    "import potential_profile\n",
    "import markov\n",
    "import exceptions\n",
    "import thomas_fermi\n",
    "imp.reload(physics)\n",
    "imp.reload(potential_profile)\n",
    "imp.reload(markov)\n",
    "imp.reload(exceptions)\n",
    "imp.reload(thomas_fermi)\n",
    "\n",
    "imp.reload(dd)\n",
    "\n",
    "print(dd.calculate_3d_map())"
   ]
  },
  {
   "cell_type": "code",
   "execution_count": null,
   "metadata": {},
   "outputs": [],
   "source": [
    "import numpy as np\n",
    "dat = np.load('/Users/ssk4/data/double_dot_3d50_grid_2017-07-08 19:12:11.106115.npy').item()\n",
    "\n",
    "import matplotlib.pyplot as plt\n",
    "%matplotlib inline\n",
    "\n",
    "curr_map = np.array([x['current'] for x in dat['output']]).reshape((len(dat['input']['V_b2_vec']),\n",
    "                                                                    len(dat['input']['V_b1_vec']),\n",
    "                                                                    len(dat['input']['V_b3_vec'])))\n"
   ]
  },
  {
   "cell_type": "code",
   "execution_count": null,
   "metadata": {
    "collapsed": true
   },
   "outputs": [],
   "source": [
    "cc = np.zeros((50,50,50))\n",
    "for i in range(50):\n",
    "    for j in range(50):\n",
    "        for k in range(50):\n",
    "            cc[k,i,j] = curr_map[j,i,k]\n",
    "            \n",
    "            "
   ]
  },
  {
   "cell_type": "code",
   "execution_count": null,
   "metadata": {},
   "outputs": [],
   "source": [
    "plt.pcolor(curr_map[49],vmax=1e-8)"
   ]
  },
  {
   "cell_type": "code",
   "execution_count": null,
   "metadata": {},
   "outputs": [],
   "source": [
    "dat['input']"
   ]
  },
  {
   "cell_type": "code",
   "execution_count": null,
   "metadata": {},
   "outputs": [],
   "source": [
    "%pdb"
   ]
  },
  {
   "cell_type": "code",
   "execution_count": null,
   "metadata": {
    "collapsed": true
   },
   "outputs": [],
   "source": []
  }
 ],
 "metadata": {
  "kernelspec": {
   "display_name": "Python 3",
   "language": "python",
   "name": "python3"
  },
  "language_info": {
   "codemirror_mode": {
    "name": "ipython",
    "version": 3
   },
   "file_extension": ".py",
   "mimetype": "text/x-python",
   "name": "python",
   "nbconvert_exporter": "python",
   "pygments_lexer": "ipython3",
   "version": "3.5.2"
  }
 },
 "nbformat": 4,
 "nbformat_minor": 2
}
