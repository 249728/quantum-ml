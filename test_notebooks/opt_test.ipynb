{
 "cells": [
  {
   "cell_type": "code",
   "execution_count": 52,
   "metadata": {},
   "outputs": [
    {
     "name": "stdout",
     "output_type": "stream",
     "text": [
      "1\n",
      "(0, 3, 0)\n",
      "True\n",
      "0.00250075335873\n",
      "(3,)\n",
      "time 0.07898283004760742\n"
     ]
    }
   ],
   "source": [
    "import numpy as np\n",
    "import imp\n",
    "import sys\n",
    "import os\n",
    "import time\n",
    "sys.path.append(os.path.expanduser('~/quantum-ml/nanowire_model'))\n",
    "import copy\n",
    "import potential_profile\n",
    "\n",
    "import multiprocessing as mp\n",
    "\n",
    "import markov\n",
    "import physics\n",
    "import thomas_fermi\n",
    "import mask\n",
    "import tunneling\n",
    "import exceptions\n",
    "\n",
    "imp.reload(tunneling)\n",
    "imp.reload(markov)\n",
    "imp.reload(physics)\n",
    "imp.reload(thomas_fermi)\n",
    "imp.reload(mask)\n",
    "imp.reload(potential_profile)\n",
    "imp.reload(exceptions)\n",
    "\n",
    "physics_model = {}\n",
    "# multiple of eV\n",
    "physics_model['E_scale'] = 1\n",
    "# multiple of nm\n",
    "physics_model['dx_scale'] = 1\n",
    "\n",
    "physics_model['kT'] = 1000e-6\n",
    "\n",
    "b1 = [-200e-3,-0.3,0.1,1]\n",
    "d = [200e-3,0.0,0.1,1]\n",
    "b2 = [-200e-3,0.3,0.1,1]\n",
    "physics_model['list_b'] = [b1,d,b2]\n",
    "x = np.linspace(-1,1,100)\n",
    "physics_model['x'] = x\n",
    "physics_model['V'] = potential_profile.V_x_wire(x,[b1,d,b2])\n",
    "\n",
    "physics_model['K_onsite'] = 5e-3\n",
    "physics_model['sigma'] = x[1] - x[0]\n",
    "physics_model['x_0'] = 0.1*(x[1] - x[0])\n",
    "physics_model['mu_l'] = (100.0e-3,100.1e-3)\n",
    "physics_model['battery_weight'] = 10\n",
    "physics_model['short_circuit_current'] = 1\n",
    "\n",
    "graph_model = (5,1)\n",
    "tf_strategy = 'simple'\n",
    "\n",
    "#timeit my_phys = physics.Physics(physics_model)\n",
    "#%lprun -f physics.Physics.__init__ my_phys = physics.Physics(physics_model)\n",
    "\n",
    "#timeit graph = markov.Markov(graph_model,physics_model,tf_strategy)\n",
    "#%lprun -f thomas_fermi.ThomasFermi.tf_solver_fixed_mu graph = markov.Markov(graph_model,physics_model,tf_strategy)\n",
    "\n",
    "st = time.time()\n",
    "graph = markov.Markov(graph_model,physics_model,tf_strategy)\n",
    "print(graph.find_n_dot_estimate())\n",
    "print(graph.find_start_node())\n",
    "print(graph.recalculate_graph)\n",
    "graph.generate_graph()\n",
    "print(graph.get_current())\n",
    "print(graph.get_charge_state())\n",
    "print(\"time\",time.time()-st)\n",
    "\n"
   ]
  },
  {
   "cell_type": "code",
   "execution_count": 53,
   "metadata": {},
   "outputs": [
    {
     "data": {
      "text/plain": [
       "[<matplotlib.lines.Line2D at 0x114687f98>]"
      ]
     },
     "execution_count": 53,
     "metadata": {},
     "output_type": "execute_result"
    },
    {
     "data": {
      "image/png": "[encoded data removed]",
      "text/plain": [
       "<matplotlib.figure.Figure at 0x1145cb048>"
      ]
     },
     "metadata": {},
     "output_type": "display_data"
    }
   ],
   "source": [
    "V_d_vec = np.linspace(200e-3,250e-3,1000)\n",
    "I_vec = np.zeros(1000)\n",
    "for i in range(len(V_d_vec)):\n",
    "    d[0] = V_d_vec[i]\n",
    "    physics_model['list_b'] = [b1,d,b2]\n",
    "    V = potential_profile.V_x_wire(x,physics_model['list_b'])\n",
    "    physics_model['V'] = potential_profile.V_x_wire(x,[b1,d,b2]) \n",
    "    I_vec[i] = np.sum(calculate_current((graph,physics_model))['current'])\n",
    " \n",
    "import matplotlib.pyplot as plt\n",
    "%matplotlib inline\n",
    "plt.plot(I_vec)"
   ]
  },
  {
   "cell_type": "code",
   "execution_count": 42,
   "metadata": {},
   "outputs": [
    {
     "data": {
      "text/plain": [
       "5.9309696064001614"
      ]
     },
     "execution_count": 42,
     "metadata": {},
     "output_type": "execute_result"
    }
   ],
   "source": [
    "graph.tf.attempt_rate_scale/1e14"
   ]
  },
  {
   "cell_type": "code",
   "execution_count": null,
   "metadata": {
    "collapsed": true
   },
   "outputs": [],
   "source": [
    "plt.plot(graph.tf.V)"
   ]
  },
  {
   "cell_type": "code",
   "execution_count": 4,
   "metadata": {
    "collapsed": true
   },
   "outputs": [],
   "source": [
    "def calculate_current(param):\n",
    "    graph = param[0]\n",
    "    physics_model = param[1]\n",
    "    try:\n",
    "        graph.physics = physics_model\n",
    "        graph.tf.__init__(physics_model)\n",
    "        graph.find_n_dot_estimate(fix_mask=False)\n",
    "        graph.find_start_node()\n",
    "        graph.generate_graph()\n",
    "        return graph.get_output()\n",
    "    except exceptions.NoBarrierState:\n",
    "        output = {}\n",
    "        output['current'] = graph.tf.short_circuit_current\n",
    "        output['charge_state'] = (0,)\n",
    "        output['prob_dist'] = (0,)\n",
    "        output['num_dot'] = 0\n",
    "        output['state'] = 'ShortCircuit'\n",
    "        return output\n",
    "    except exceptions.InvalidChargeState:\n",
    "        output = {}\n",
    "        output['current'] = 0\n",
    "        output['charge_state'] = (0,)\n",
    "        output['prob_dist'] = (0,)\n",
    "        output['num_dot'] = 0\n",
    "        output['state'] = 'NoDot'\n",
    "        return output\n",
    "    \n",
    "def calculate_curr_parr(physics_model):\n",
    "    graph_model = (10,1)\n",
    "    tf_strategy = 'simple_iter'\n",
    "    \n",
    "    try: \n",
    "        graph = markov.Markov(graph_model,physics_model,tf_strategy)\n",
    "        graph.physics = physics_model\n",
    "        graph.tf.__init__(physics_model)\n",
    "        graph.find_n_dot_estimate(fix_mask=False)\n",
    "        graph.find_start_node()\n",
    "        graph.generate_graph()\n",
    "        I = graph.get_output()\n",
    "        del graph\n",
    "        return I\n",
    "    except exceptions.NoBarrierState:\n",
    "        return graph.tf.short_circuit_current"
   ]
  },
  {
   "cell_type": "code",
   "execution_count": null,
   "metadata": {},
   "outputs": [],
   "source": [
    "\n"
   ]
  },
  {
   "cell_type": "code",
   "execution_count": null,
   "metadata": {},
   "outputs": [],
   "source": [
    "XX,YY = np.meshgrid(V_d_vec,V_d_vec)\n",
    "plt.pcolor(XX,YY,np.array([x['current'] if x['current'] != None else 0.0 for x in output_vec]).reshape((N_v,N_v)),\\\n",
    "           cmap='coolwarm',vmax=1e-3)\n",
    "plt.xlabel(r'$V_{d1} (V)$',fontsize=16)\n",
    "plt.ylabel(r'$V_{d2} (V)$',fontsize=16)\n",
    "cbar = plt.colorbar()\n",
    "cbar.set_label(\"Current (arb. units)\",fontsize=16)"
   ]
  },
  {
   "cell_type": "code",
   "execution_count": null,
   "metadata": {},
   "outputs": [],
   "source": [
    "XX,YY = np.meshgrid(V_d_vec,V_d_vec)\n",
    "def map_state_to_color(param):\n",
    "    (state,num_dot) = param\n",
    "    if state == 'QPC':\n",
    "        return 0\n",
    "    elif state == 'Dot' and num_dot == 1:\n",
    "        return 1\n",
    "    elif state == 'Dot' and num_dot == 2:\n",
    "        return 2\n",
    "    elif state == 'ShortCircuit':\n",
    "        return 3\n",
    "    else:\n",
    "        return 4\n",
    "C = [map_state_to_color(x) for x in zip([y['state'] for y in output_vec],[y['num_dot'] for y in output_vec])]\n",
    "import matplotlib as mpl\n",
    "my_cmap = mpl.colors.ListedColormap([[0., .4, 1.], [0., .8, 1.],\n",
    "                                  [1., .8, 0.], [1., .4, 0.]])\n",
    "C_new = [C[N_v*i : N_v*(i+1)] for i in range(N_v)]\n",
    "plt.pcolor(XX,YY,C_new,cmap = my_cmap,alpha=0.9)\n",
    "plt.xlabel(r'$V_{d1} (V)$',fontsize=16)\n",
    "plt.ylabel(r'$V_{d2} (V)$',fontsize=16)\n",
    "cbar = plt.colorbar(cmap=my_cmap,ticks=[0,1,2,3])\n",
    "cbar.set_ticklabels([\"QPC\",\"SingleDot\",\"DoubleDot\",\"ShortCircuit\"])\n",
    "cbar.set_ticks([0.5,1.5,2.5,3.5])"
   ]
  },
  {
   "cell_type": "code",
   "execution_count": null,
   "metadata": {},
   "outputs": [],
   "source": [
    "plt.pcolor(XX,YY,np.array([np.sum(x['charge_state']) if x['charge_state'] != None else 0.0 for x in output_vec]).reshape((N_v,N_v)),alpha=0.9)\n",
    "plt.xlabel(r'$V_{d1} (V)$',fontsize=16)\n",
    "plt.ylabel(r'$V_{d2} (V)$',fontsize=16)\n",
    "cbar = plt.colorbar()\n",
    "cbar.set_label('Total Charge',fontsize=16)"
   ]
  }
 ],
 "metadata": {
  "kernelspec": {
   "display_name": "Python 3",
   "language": "python",
   "name": "python3"
  },
  "language_info": {
   "codemirror_mode": {
    "name": "ipython",
    "version": 3
   },
   "file_extension": ".py",
   "mimetype": "text/x-python",
   "name": "python",
   "nbconvert_exporter": "python",
   "pygments_lexer": "ipython3",
   "version": "3.5.2"
  }
 },
 "nbformat": 4,
 "nbformat_minor": 2
}
