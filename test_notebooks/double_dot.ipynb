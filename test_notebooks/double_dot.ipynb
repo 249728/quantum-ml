{
 "cells": [
  {
   "cell_type": "code",
   "execution_count": 53,
   "metadata": {},
   "outputs": [],
   "source": [
    "# IV for a double dot\n",
    "\n",
    "import numpy as np\n",
    "import imp\n",
    "import sys\n",
    "import os\n",
    "import matplotlib.pyplot as plt\n",
    "%matplotlib inline\n",
    "\n",
    "sys.path.append(os.path.expanduser('~/quantum-ml/nanowire_model'))\n",
    "\n",
    "import potential_profile\n",
    "import markov\n",
    "imp.reload(markov)\n",
    "import thomas_fermi\n",
    "imp.reload(thomas_fermi)\n",
    "import tunneling\n",
    "imp.reload(tunneling)\n",
    "import exceptions\n",
    "\n",
    "def get_dot_current_and_charge(physics_model,graph_model,tf_strategy):\n",
    "    \n",
    "    try:\n",
    "        graph = markov.Markov(graph_model,physics_model,tf_strategy)\n",
    "        graph.generate_graph()\n",
    "\n",
    "        current = graph.get_current()\n",
    "        charge_state = graph.get_charge_state()\n",
    "\n",
    "        del graph\n",
    "    except exceptions.InvalidChargeState:\n",
    "        current = 0\n",
    "        # no dot\n",
    "        charge_state = (0,0)\n",
    "    \n",
    "    return current,charge_state"
   ]
  },
  {
   "cell_type": "code",
   "execution_count": 118,
   "metadata": {},
   "outputs": [
    {
     "name": "stdout",
     "output_type": "stream",
     "text": [
      "2.1995095662e-17 (3, 4)\n"
     ]
    },
    {
     "data": {
      "image/png": "[encoded data removed]",
      "text/plain": [
       "<matplotlib.figure.Figure at 0x10ee62f28>"
      ]
     },
     "metadata": {},
     "output_type": "display_data"
    }
   ],
   "source": [
    "# physical parameters\n",
    "E_scale = 'eV'\n",
    "dx_scale = '1e-9'\n",
    "\n",
    "kT = 1000e-6\n",
    "b1 = (-200e-3,-0.6,0.05,1)\n",
    "d1 = (200e-3,-0.2,0.05,1)\n",
    "b2 = (-250e-3,0.0,0.05,1)\n",
    "d2 = (220e-3,0.2,0.05,1)\n",
    "b3 = (-200e-3,0.6,0.05,1)\n",
    "\n",
    "x = np.linspace(-1,1,25)\n",
    "V = potential_profile.V_x_wire(x,[b1,b2,b3,d1,d2])\n",
    "\n",
    "K_onsite = 10e-3\n",
    "sigma = x[1] - x[0]\n",
    "x_0 = 0.1*(x[1] - x[0])\n",
    "mu_l = (200.0e-3,200.1e-3)\n",
    "battery_weight = 100\n",
    "\n",
    "physics_model = (E_scale,dx_scale,kT,x,V,K_onsite,sigma,x_0,mu_l,battery_weight)\n",
    "\n",
    "# graph parameters\n",
    "graph_model = (5,1)\n",
    "\n",
    "tf_strategy = 'simple'\n",
    "\n",
    "plt.plot(x,V)\n",
    "\n",
    "\n",
    "I,charge_state = get_dot_current_and_charge(physics_model,graph_model,tf_strategy)\n",
    "print(I,charge_state)"
   ]
  },
  {
   "cell_type": "code",
   "execution_count": null,
   "metadata": {},
   "outputs": [
    {
     "name": "stdout",
     "output_type": "stream",
     "text": [
      "0\n"
     ]
    }
   ],
   "source": [
    "N_v = 50\n",
    "V_d_vec = np.linspace(180e-3,220e-3,N_v)\n",
    "I_vec = np.zeros((N_v,N_v))\n",
    "charge_state_vec = []\n",
    "\n",
    "for i in range(N_v):\n",
    "    print(i)\n",
    "    charge_state_row = []\n",
    "    for j in range(N_v):\n",
    "        #print(\"j\",j)\n",
    "        b1 = (-200e-3,-0.6,0.05,1)\n",
    "        d1 = (V_d_vec[i],-0.2,0.05,1)\n",
    "        b2 = (-250e-3,0.0,0.05,1)\n",
    "        d2 = (V_d_vec[j],0.2,0.05,1)\n",
    "        b3 = (-200e-3,0.6,0.05,1)\n",
    "\n",
    "        V = potential_profile.V_x_wire(x,[b1,b2,b3,d1,d2])\n",
    "        \n",
    "        physics_model = (E_scale,dx_scale,kT,x,V,K_onsite,sigma,x_0,mu_l,battery_weight)\n",
    "        I,charge_state = get_dot_current_and_charge(physics_model,graph_model,tf_strategy)\n",
    "        I_vec[i,j] = I\n",
    "        charge_state_row += [charge_state]\n",
    "    charge_state_vec += [charge_state_row]\n",
    "        "
   ]
  },
  {
   "cell_type": "code",
   "execution_count": 86,
   "metadata": {},
   "outputs": [
    {
     "data": {
      "text/plain": [
       "<matplotlib.colorbar.Colorbar at 0x10e782940>"
      ]
     },
     "execution_count": 86,
     "metadata": {},
     "output_type": "execute_result"
    },
    {
     "data": {
      "image/png": "[encoded data removed]",
      "text/plain": [
       "<matplotlib.figure.Figure at 0x10e672400>"
      ]
     },
     "metadata": {},
     "output_type": "display_data"
    }
   ],
   "source": [
    "plt.pcolor(I_vec,vmin=0,vmax=1e-4)\n",
    "plt.colorbar()"
   ]
  },
  {
   "cell_type": "code",
   "execution_count": 67,
   "metadata": {},
   "outputs": [],
   "source": [
    "cs = np.array(charge_state_vec)"
   ]
  },
  {
   "cell_type": "code",
   "execution_count": 91,
   "metadata": {},
   "outputs": [],
   "source": [
    "size = 18\n",
    "d1_charge = np.zeros((size,size))\n",
    "for i in range(size):\n",
    "    for j in range(size):\n",
    "        d1_charge[i,j] = cs[i,j][0]\n",
    "d2_charge = np.zeros((size,size))\n",
    "for i in range(size):\n",
    "    for j in range(size):\n",
    "        d2_charge[i,j] = cs[i,j][0]\n"
   ]
  },
  {
   "cell_type": "code",
   "execution_count": 107,
   "metadata": {},
   "outputs": [
    {
     "data": {
      "text/plain": [
       "<matplotlib.colorbar.Colorbar at 0x109c391d0>"
      ]
     },
     "execution_count": 107,
     "metadata": {},
     "output_type": "execute_result"
    },
    {
     "data": {
      "image/png": "[encoded data removed]",
      "text/plain": [
       "<matplotlib.figure.Figure at 0x10ea83a90>"
      ]
     },
     "metadata": {},
     "output_type": "display_data"
    }
   ],
   "source": [
    "size = 25\n",
    "dot_size = np.zeros((size,size))\n",
    "for i in range(size):\n",
    "    for j in range(size):\n",
    "       dot_size[i,j] = len(cs[i,j])\n",
    "plt.pcolor(dot_size)\n",
    "plt.colorbar()\n"
   ]
  },
  {
   "cell_type": "code",
   "execution_count": 98,
   "metadata": {},
   "outputs": [
    {
     "name": "stdout",
     "output_type": "stream",
     "text": [
      "(0, 0)\n",
      "(0, 0)\n",
      "(0, 0)\n",
      "(0, 0)\n",
      "(0, 0)\n",
      "(0, 0)\n",
      "(0, 0)\n",
      "(0, 0)\n",
      "(1, 1)\n",
      "(1, 1)\n",
      "(1, 1)\n",
      "(1, 1)\n",
      "(1, 1)\n",
      "(1, 1)\n",
      "(1, 1)\n",
      "(1, 1)\n",
      "(1, 1)\n",
      "(1, 1)\n",
      "(3,)\n",
      "(3,)\n",
      "(3,)\n",
      "(4,)\n",
      "(4,)\n",
      "(4,)\n",
      "(4,)\n"
     ]
    },
    {
     "data": {
      "text/plain": [
       "[<matplotlib.lines.Line2D at 0x10ed237b8>]"
      ]
     },
     "execution_count": 98,
     "metadata": {},
     "output_type": "execute_result"
    },
    {
     "data": {
      "image/png": "[encoded data removed]",
      "text/plain": [
       "<matplotlib.figure.Figure at 0x10e8a5f98>"
      ]
     },
     "metadata": {},
     "output_type": "display_data"
    }
   ],
   "source": [
    "trace = np.zeros(cs.shape[0])\n",
    "for i in range(cs.shape[0]):\n",
    "    trace[i] = np.sum(np.array(cs[i,i]))\n",
    "    print(cs[i,i])\n",
    "plt.plot(trace)\n",
    "    "
   ]
  },
  {
   "cell_type": "code",
   "execution_count": null,
   "metadata": {
    "collapsed": true
   },
   "outputs": [],
   "source": []
  }
 ],
 "metadata": {
  "kernelspec": {
   "display_name": "Python 3",
   "language": "python",
   "name": "python3"
  },
  "language_info": {
   "codemirror_mode": {
    "name": "ipython",
    "version": 3
   },
   "file_extension": ".py",
   "mimetype": "text/x-python",
   "name": "python",
   "nbconvert_exporter": "python",
   "pygments_lexer": "ipython3",
   "version": "3.5.2"
  }
 },
 "nbformat": 4,
 "nbformat_minor": 2
}
