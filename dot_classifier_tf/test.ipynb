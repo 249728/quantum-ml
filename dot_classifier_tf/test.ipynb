{
 "cells": [
  {
   "cell_type": "code",
   "execution_count": 3,
   "metadata": {
    "collapsed": true
   },
   "outputs": [],
   "source": [
    "import potential\n",
    "reload(potential)\n",
    "import matplotlib.pyplot as plt\n",
    "%matplotlib inline"
   ]
  },
  {
   "cell_type": "code",
   "execution_count": 124,
   "metadata": {
    "collapsed": false
   },
   "outputs": [
    {
     "data": {
      "text/plain": [
       "<matplotlib.text.Text at 0x11b53e550>"
      ]
     },
     "execution_count": 124,
     "metadata": {},
     "output_type": "execute_result"
    },
    {
     "data": {
      "image/png": "[encoded data removed]",
      "text/plain": [
       "<matplotlib.figure.Figure at 0x11ae60490>"
      ]
     },
     "metadata": {},
     "output_type": "display_data"
    }
   ],
   "source": [
    "import potential\n",
    "reload(potential)\n",
    "import classify_tf\n",
    "reload(classify_tf)\n",
    "\n",
    "x = np.arange(4)\n",
    "#y = potential.init_ndot(x,1)\n",
    "\n",
    "#V = y\n",
    "V = np.array([0.5, 0.3,0.2, 0.5])\n",
    "K = classify_tf.create_K_matrix(x,E_scale=0.1,sigma=(x[1] - x[0]))\n",
    "#K = np.identity(len(x))\n",
    "mu = 1\n",
    "n = classify_tf.solve_thomas_fermi_fixed_mu(x,V,K,mu)\n",
    "\n",
    "\n",
    "def classify_n(n,tol=1e-1):\n",
    "    if n < 0:\n",
    "        return 'b'\n",
    "    else:\n",
    "        return 'd'\n",
    "mask = map(classify_n,n)\n",
    "\n",
    "islands = np.where(n > 0)\n",
    "barriers = np.where(n < 0)\n",
    "\n",
    "fig,axarr = plt.subplots(2)\n",
    "axarr[0].scatter(x[islands],V[islands],color='r')\n",
    "axarr[0].scatter(x[barriers],V[barriers],color='b')\n",
    "axarr[0].legend(('Island','Barrier'))\n",
    "axarr[0].set_xlabel('x(nm)',fontsize=16)\n",
    "axarr[0].set_ylabel('V(x)',fontsize=16)\n",
    "axarr[0].set_title(r'$\\mu_{lead}$ = ' + str(mu),fontsize=16)\n",
    "\n",
    "ar = axarr[1].scatter(x[islands],n[islands],color='r')\n",
    "ar = axarr[1].scatter(x[barriers],n[barriers],color='b')\n",
    "axarr[1].legend(('Island','Barrier'))\n",
    "axarr[1].set_xlabel('x(nm)',fontsize=16)\n",
    "axarr[1].set_ylabel('n(x)',fontsize=16)\n",
    "\n",
    "\n"
   ]
  },
  {
   "cell_type": "code",
   "execution_count": null,
   "metadata": {
    "collapsed": true
   },
   "outputs": [],
   "source": []
  }
 ],
 "metadata": {
  "kernelspec": {
   "display_name": "Python 2",
   "language": "python",
   "name": "python2"
  },
  "language_info": {
   "codemirror_mode": {
    "name": "ipython",
    "version": 2
   },
   "file_extension": ".py",
   "mimetype": "text/x-python",
   "name": "python",
   "nbconvert_exporter": "python",
   "pygments_lexer": "ipython2",
   "version": "2.7.13"
  }
 },
 "nbformat": 4,
 "nbformat_minor": 2
}
