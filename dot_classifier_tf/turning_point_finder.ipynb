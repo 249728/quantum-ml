{
 "cells": [
  {
   "cell_type": "code",
   "execution_count": 26,
   "metadata": {
    "collapsed": false
   },
   "outputs": [],
   "source": [
    "def find_turning_points(V,mu_l,mu_d):\n",
    "    '''\n",
    "    Input\n",
    "    V : Potential Profile \n",
    "    mu_l : lead potentials\n",
    "    mu_d : dot potentials\n",
    "    \n",
    "    Output:\n",
    "    lead_info : dictionary indexed by lead no (1/2) with value [starting_point,end_point]\n",
    "    dot_info : dictionary of size len(mu_d) with value [starting_point,end_point]\n",
    "    \n",
    "    Algorithm:\n",
    "    The dots are identified by the classical turning points, mu = V(x)\n",
    "    '''\n",
    "    lead_info = {}\n",
    "    dot_info = {}\n",
    "    \n",
    "    # find the turning point for the left lead\n",
    "    i_left = 0\n",
    "    while(V[i_left] <= mu_l[0] and i_left < len(V)):\n",
    "    # in the edge case that mu_l[0] > V(x) for all x, all the landscape is only a lead\n",
    "        i_left += 1\n",
    "    # this loop will exit for the first i such that V[i] > mu_l[0]\n",
    "    # lead1 will end at i-1\n",
    "    lead_info[0] = [0,i_left-1]\n",
    "    \n",
    "    # find the turning point for the right lead\n",
    "    i_right = len(V)-1\n",
    "    while(V[i_right] <= mu_l[1] and i_right > -1):\n",
    "        i_right -= 1\n",
    "    # this loop exits for the first i from the right such that V[i] > mu_l[1]\n",
    "    # lead2 starts at i + 1\n",
    "    lead_info[1] = [i_right+1,len(V)-1]\n",
    "    \n",
    "    n_index_dot = 0\n",
    "    i_dot = i_left\n",
    "    while(n_index_dot < len(mu_d)):\n",
    "        if V[i_dot] > mu_d[n_index_dot]:\n",
    "            while(V[i_dot] > mu_d[n_index_dot]):\n",
    "                i_dot += 1\n",
    "            # now the left turning point of the dot has been found\n",
    "            i_dot_start = i_dot\n",
    "            while(V[i_dot] < mu_d[n_index_dot]):\n",
    "                i_dot += 1\n",
    "            i_dot_end = i_dot - 1\n",
    "            dot_info[n_index_dot] = [i_dot_start,i_dot_end]\n",
    "            n_index_dot += 1\n",
    "        else:\n",
    "            while(V[i_dot] < mu_d[n_index_dot]):\n",
    "                i_dot += 1\n",
    "            while(V[i_dot] > mu_d[n_index_dot]):\n",
    "                i_dot += 1\n",
    "            i_dot_start = i_dot\n",
    "            while(V[i_dot] < mu_d[n_index_dot]):\n",
    "                i_dot += 1\n",
    "            i_dot_end = i_dot - 1\n",
    "            dot_info[n_index_dot] = [i_dot_start,i_dot_end]\n",
    "            n_index_dot += 1\n",
    "        \n",
    "    return lead_info,dot_info"
   ]
  },
  {
   "cell_type": "code",
   "execution_count": 46,
   "metadata": {
    "collapsed": false
   },
   "outputs": [
    {
     "data": {
      "text/plain": [
       "<matplotlib.collections.PathCollection at 0x111e9fed0>"
      ]
     },
     "execution_count": 46,
     "metadata": {},
     "output_type": "execute_result"
    },
    {
     "data": {
      "image/png": "[encoded data removed]",
      "text/plain": [
       "<matplotlib.figure.Figure at 0x1120a5650>"
      ]
     },
     "metadata": {},
     "output_type": "display_data"
    }
   ],
   "source": [
    "import numpy as np\n",
    "import matplotlib.pyplot as plt\n",
    "%matplotlib inline\n",
    "\n",
    "import potential_profile\n",
    "reload(potential_profile)\n",
    "import classify_tf\n",
    "reload(classify_tf)\n",
    "\n",
    "N_grid = 100\n",
    "x = np.linspace(-1,1,N_grid)\n",
    "\n",
    "# dot parameters\n",
    "d = (300e-3,0,0.1,1)\n",
    "b1 = (-200e-3,-0.3,0.1,1)\n",
    "b2 = (-200e-3,0.3,0.1,1)\n",
    "\n",
    "V = potential_profile.single_dot_V_x_wire(x,d,b1,b2)\n",
    "plt.plot(x,V)\n",
    "\n",
    "mu_l = (200e-3,200e-3)\n",
    "mu_d = [100e-3]\n",
    "\n",
    "lead_info,dot_info = find_turning_points(V,mu_l,mu_d)\n",
    "\n",
    "lead1 = np.arange(lead_info[0][0],lead_info[0][1]+1)\n",
    "lead2 = np.arange(lead_info[1][0],lead_info[1][1]+1)\n",
    "dots = []\n",
    "for i in range(len(dot_info)):\n",
    "    dots += [j for j in range(dot_info[i][0],dot_info[i][1]+1)]\n",
    "\n",
    "\n",
    "plt.scatter(x[lead1],V[lead1],color='c')\n",
    "plt.scatter(x[lead2],V[lead2],color='c')\n",
    "plt.scatter(x[dots],V[dots],color='b')\n",
    "\n"
   ]
  },
  {
   "cell_type": "code",
   "execution_count": 44,
   "metadata": {
    "collapsed": false
   },
   "outputs": [
    {
     "name": "stdout",
     "output_type": "stream",
     "text": [
      "{0: [0, 25], 1: [74, 99]}\n",
      "{0: [39, 60]}\n"
     ]
    }
   ],
   "source": [
    "print lead_info\n",
    "print dot_info"
   ]
  },
  {
   "cell_type": "code",
   "execution_count": 33,
   "metadata": {
    "collapsed": false
   },
   "outputs": [
    {
     "name": "stdout",
     "output_type": "stream",
     "text": [
      "Automatic pdb calling has been turned ON\n"
     ]
    }
   ],
   "source": [
    "%pdb"
   ]
  },
  {
   "cell_type": "code",
   "execution_count": 67,
   "metadata": {
    "collapsed": false
   },
   "outputs": [
    {
     "name": "stdout",
     "output_type": "stream",
     "text": [
      "The autoreload extension is already loaded. To reload it, use:\n",
      "  %reload_ext autoreload\n"
     ]
    },
    {
     "data": {
      "text/plain": [
       "<matplotlib.collections.PathCollection at 0x10d2dabd0>"
      ]
     },
     "execution_count": 67,
     "metadata": {},
     "output_type": "execute_result"
    },
    {
     "data": {
      "image/png": "[encoded data removed]",
      "text/plain": [
       "<matplotlib.figure.Figure at 0x10d1f01d0>"
      ]
     },
     "metadata": {},
     "output_type": "display_data"
    }
   ],
   "source": [
    "# testing of the new V_x_wire profile function\n",
    "import numpy as np\n",
    "import matplotlib.pyplot as plt\n",
    "%matplotlib inline\n",
    "%load_ext autoreload\n",
    "%autoreload\n",
    "\n",
    "import potential_profile\n",
    "reload(potential_profile)\n",
    "\n",
    "N_grid = 1000\n",
    "x = np.linspace(-2,2,N_grid)\n",
    "\n",
    "\n",
    "num_features = 7\n",
    "mu_vec = np.linspace(-1,1,num_features)\n",
    "# control the width of the features\n",
    "h = 0.001\n",
    "list_b = []\n",
    "for i in range(num_features):\n",
    "    # range in -200e-3 to 200e-3\n",
    "    V = -100e-3\n",
    "    mu = mu_vec[i]\n",
    "    list_b += [(V,mu,h,1)]\n",
    "\n",
    "\n",
    "V = potential_profile.V_x_wire(x,list_b)\n",
    "\n",
    "plt.plot(x,V)\n",
    "\n",
    "mu_l = (100e-3,100e-3)\n",
    "mu_d = [600e-3]*(num_features-1)\n",
    "lead_info,dot_info = find_turning_points(V,mu_l,mu_d)\n",
    "\n",
    "lead1 = np.arange(lead_info[0][0],lead_info[0][1]+1)\n",
    "lead2 = np.arange(lead_info[1][0],lead_info[1][1]+1)\n",
    "dots = []\n",
    "for i in range(len(dot_info)):\n",
    "    dots += [j for j in range(dot_info[i][0],dot_info[i][1]+1)]\n",
    "\n",
    "\n",
    "plt.scatter(x[lead1],V[lead1],color='c')\n",
    "plt.scatter(x[lead2],V[lead2],color='c')\n",
    "plt.scatter(x[dots],V[dots],color='b')\n"
   ]
  },
  {
   "cell_type": "code",
   "execution_count": null,
   "metadata": {
    "collapsed": true
   },
   "outputs": [],
   "source": []
  }
 ],
 "metadata": {
  "kernelspec": {
   "display_name": "Python 2",
   "language": "python",
   "name": "python2"
  }
 },
 "nbformat": 4,
 "nbformat_minor": 0
}
