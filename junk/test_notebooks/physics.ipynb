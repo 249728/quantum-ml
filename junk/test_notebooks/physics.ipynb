{
 "cells": [
  {
   "cell_type": "code",
   "execution_count": 6,
   "metadata": {},
   "outputs": [],
   "source": [
    "# Notebook for testing the physics module\n",
    "\n",
    "import numpy as np\n",
    "import imp\n",
    "import sys\n",
    "import os\n",
    "\n",
    "sys.path.append(os.path.expanduser('~/quantum-ml/nanowire_model'))\n",
    "\n",
    "import physics\n",
    "imp.reload(physics)\n",
    "import potential_profile\n",
    "\n",
    "E_scale = 'eV'\n",
    "dx_scale = '1e-9'\n",
    "\n",
    "kT = 400e-6\n",
    "b1 = (-200e-3,-0.3,0.1,1)\n",
    "d = (400e-3,0.0,0.1,1)\n",
    "b2 = (-200e-3,0.3,0.1,1)\n",
    "\n",
    "x = np.linspace(-1,1,100)\n",
    "V = potential_profile.V_x_wire(x,[b1,d,b2])\n",
    "\n",
    "K_onsite = 10e-3\n",
    "sigma = x[1] - x[0]\n",
    "x_0 = x[1] - x[0]\n",
    "mu_l = (50.0e-3,50.1e-3)\n",
    "battery_weight = 100\n",
    "\n",
    "model_physics = (E_scale,dx_scale,kT,x,V,K_onsite,sigma,x_0,mu_l,battery_weight)\n",
    "\n",
    "my_phys = physics.Physics(model_physics)\n",
    "\n",
    "\n"
   ]
  },
  {
   "cell_type": "code",
   "execution_count": 7,
   "metadata": {},
   "outputs": [
    {
     "data": {
      "text/plain": [
       "array([[  4.95000000e-01,   1.28764374e-01,   2.99592704e-02, ...,\n",
       "          3.81281420e-45,   1.38834464e-45,   5.05584954e-46],\n",
       "       [  1.28764374e-01,   4.95000000e-01,   1.28764374e-01, ...,\n",
       "          1.04722534e-44,   3.81281420e-45,   1.38834464e-45],\n",
       "       [  2.99592704e-02,   1.28764374e-01,   4.95000000e-01, ...,\n",
       "          2.87661508e-44,   1.04722534e-44,   3.81281420e-45],\n",
       "       ..., \n",
       "       [  3.81281420e-45,   1.04722534e-44,   2.87661508e-44, ...,\n",
       "          4.95000000e-01,   1.28764374e-01,   2.99592704e-02],\n",
       "       [  1.38834464e-45,   3.81281420e-45,   1.04722534e-44, ...,\n",
       "          1.28764374e-01,   4.95000000e-01,   1.28764374e-01],\n",
       "       [  5.05584954e-46,   1.38834464e-45,   3.81281420e-45, ...,\n",
       "          2.99592704e-02,   1.28764374e-01,   4.95000000e-01]])"
      ]
     },
     "execution_count": 7,
     "metadata": {},
     "output_type": "execute_result"
    }
   ],
   "source": [
    "my_phys.K"
   ]
  },
  {
   "cell_type": "code",
   "execution_count": null,
   "metadata": {
    "collapsed": true
   },
   "outputs": [],
   "source": []
  }
 ],
 "metadata": {
  "kernelspec": {
   "display_name": "Python 3",
   "language": "python",
   "name": "python3"
  },
  "language_info": {
   "codemirror_mode": {
    "name": "ipython",
    "version": 3
   },
   "file_extension": ".py",
   "mimetype": "text/x-python",
   "name": "python",
   "nbconvert_exporter": "python",
   "pygments_lexer": "ipython3",
   "version": "3.5.2"
  }
 },
 "nbformat": 4,
 "nbformat_minor": 2
}
