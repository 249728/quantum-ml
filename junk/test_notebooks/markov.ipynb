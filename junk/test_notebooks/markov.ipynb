{
 "cells": [
  {
   "cell_type": "code",
   "execution_count": 17,
   "metadata": {},
   "outputs": [
    {
     "name": "stdout",
     "output_type": "stream",
     "text": [
      "5.52532894654\n"
     ]
    }
   ],
   "source": [
    "# notebook for testing Markov class\n",
    "# set up a landscape and calculate the current\n",
    "\n",
    "import numpy as np\n",
    "import imp\n",
    "import sys\n",
    "import os\n",
    "import matplotlib.pyplot as plt\n",
    "%matplotlib inline\n",
    "\n",
    "sys.path.append(os.path.expanduser('~/quantum-ml/nanowire_model'))\n",
    "\n",
    "import potential_profile\n",
    "import markov\n",
    "import thomas_fermi\n",
    "imp.reload(markov)\n",
    "imp.reload(thomas_fermi)\n",
    "import tunneling\n",
    "imp.reload(tunneling)\n",
    "import exceptions\n",
    "\n",
    "# physical parameters\n",
    "E_scale = 'eV'\n",
    "dx_scale = '1e-9'\n",
    "\n",
    "kT = 1000e-6\n",
    "b1 = (-200e-3,-0.31,0.1,1)\n",
    "d = (300e-3,0.0,0.1,1)\n",
    "b2 = (-200e-3,0.31,0.1,1)\n",
    "\n",
    "x = np.linspace(-1,1,25)\n",
    "V = potential_profile.V_x_wire(x,[b1,d,b2])\n",
    "\n",
    "K_onsite = 5e-3\n",
    "sigma = x[1] - x[0]\n",
    "x_0 = (x[1] - x[0])\n",
    "mu_l = (100.0e-3,100.1e-3)\n",
    "battery_weight = 100\n",
    "\n",
    "physics_model = (E_scale,dx_scale,kT,x,V,K_onsite,sigma,x_0,mu_l,battery_weight)\n",
    "\n",
    "# graph parameters\n",
    "#graph_model = (2,1)\n",
    "\n",
    "graph = markov.Markov(graph_model,physics_model)\n",
    "\n",
    "N = (0,4,0)\n",
    "#check validity\n",
    "#print(graph.check_validity(N))\n",
    "\n",
    "# neighbours\n",
    "#neigh = graph.generate_neighbours(N) \n",
    "#print(neigh)\n",
    "\n",
    "# find weight\n",
    "u = (1,3,0)\n",
    "v = (0,4,0)\n",
    "wt = graph.find_weight(u,v)\n",
    "print(wt)\n",
    "\n",
    "# aha, finally we test the generate graph\n",
    "#graph.generate_graph()\n",
    "\n",
    "#print(graph.get_current())"
   ]
  },
  {
   "cell_type": "code",
   "execution_count": 27,
   "metadata": {},
   "outputs": [
    {
     "name": "stdout",
     "output_type": "stream",
     "text": [
      "0\n",
      "1\n",
      "2\n",
      "3\n",
      "4\n",
      "5\n",
      "6\n",
      "7\n",
      "8\n",
      "9\n",
      "10\n",
      "11\n",
      "12\n",
      "13\n",
      "14\n",
      "15\n",
      "16\n",
      "17\n",
      "18\n",
      "19\n",
      "20\n",
      "21\n",
      "22\n",
      "23\n",
      "24\n",
      "25\n",
      "26\n",
      "27\n",
      "28\n",
      "29\n",
      "30\n",
      "31\n",
      "32\n",
      "33\n",
      "34\n",
      "35\n",
      "36\n",
      "37\n",
      "38\n",
      "39\n",
      "40\n",
      "41\n",
      "42\n",
      "43\n",
      "44\n",
      "45\n",
      "46\n",
      "47\n",
      "48\n",
      "49\n",
      "50\n",
      "51\n",
      "52\n",
      "53\n",
      "54\n",
      "55\n",
      "56\n",
      "57\n",
      "58\n",
      "59\n",
      "60\n",
      "61\n",
      "62\n",
      "63\n",
      "64\n",
      "65\n",
      "66\n",
      "67\n",
      "68\n",
      "69\n",
      "70\n",
      "71\n",
      "72\n",
      "73\n",
      "74\n",
      "75\n",
      "76\n",
      "77\n",
      "78\n",
      "79\n",
      "80\n",
      "81\n",
      "82\n",
      "83\n",
      "84\n",
      "85\n",
      "86\n",
      "87\n",
      "88\n",
      "89\n",
      "90\n",
      "91\n",
      "92\n",
      "93\n",
      "94\n",
      "95\n",
      "96\n",
      "97\n",
      "98\n",
      "99\n"
     ]
    },
    {
     "data": {
      "text/plain": [
       "[<matplotlib.lines.Line2D at 0x10b1d0438>]"
      ]
     },
     "execution_count": 27,
     "metadata": {},
     "output_type": "execute_result"
    },
    {
     "data": {
      "image/png": "[encoded data removed]",
      "text/plain": [
       "<matplotlib.figure.Figure at 0x10b13b6a0>"
      ]
     },
     "metadata": {},
     "output_type": "display_data"
    },
    {
     "data": {
      "image/png": "[encoded data removed]",
      "text/plain": [
       "<matplotlib.figure.Figure at 0x10b129320>"
      ]
     },
     "metadata": {},
     "output_type": "display_data"
    }
   ],
   "source": [
    "# lets take an IV\n",
    "# physics defined above\n",
    "import imp\n",
    "imp.reload(thomas_fermi)\n",
    "imp.reload(markov)\n",
    "imp.reload(tunneling)\n",
    "V_d_vec = np.linspace(250e-3,260e-3,100)\n",
    "I_vec = np.zeros(len(V_d_vec))\n",
    "charge_state = np.zeros(len(V_d_vec))\n",
    "tf_strategy = 'simple'\n",
    "kT = 400e-6\n",
    "K_onsite = 1e-3\n",
    "battery_weight = 100\n",
    "for i in range(len(V_d_vec)):\n",
    "    print(i)\n",
    "    d = (V_d_vec[i],0.0,0.1,1) \n",
    "    V = potential_profile.V_x_wire(x,[b1,d,b2])\n",
    "    physics_model = (E_scale,dx_scale,kT,x,V,K_onsite,sigma,x_0,mu_l,battery_weight)\n",
    "    \n",
    "    # graph parameters\n",
    "    graph_model = (10,1)\n",
    "    \n",
    "    graph = markov.Markov(graph_model,physics_model,tf_strategy)\n",
    "    graph.generate_graph()\n",
    "    \n",
    "    I_vec[i] = graph.get_current()\n",
    "    charge_state[i] = graph.get_charge_state()[0]\n",
    "\n",
    "    del graph\n",
    "plt.figure(1)\n",
    "plt.plot(V_d_vec,I_vec)\n",
    "plt.figure(2)\n",
    "plt.plot(V_d_vec,charge_state)  "
   ]
  },
  {
   "cell_type": "code",
   "execution_count": null,
   "metadata": {},
   "outputs": [],
   "source": [
    "import networkx as nx\n",
    "nx.draw_networkx(graph.G)"
   ]
  },
  {
   "cell_type": "code",
   "execution_count": null,
   "metadata": {},
   "outputs": [],
   "source": [
    "print(graph.battery_ind)"
   ]
  },
  {
   "cell_type": "code",
   "execution_count": null,
   "metadata": {},
   "outputs": [],
   "source": [
    "print(graph.G.edges(data=True))"
   ]
  },
  {
   "cell_type": "code",
   "execution_count": null,
   "metadata": {},
   "outputs": [],
   "source": [
    "%pdb"
   ]
  },
  {
   "cell_type": "code",
   "execution_count": null,
   "metadata": {},
   "outputs": [],
   "source": [
    "print(graph.tf.V)"
   ]
  },
  {
   "cell_type": "code",
   "execution_count": null,
   "metadata": {
    "collapsed": true
   },
   "outputs": [],
   "source": []
  }
 ],
 "metadata": {
  "kernelspec": {
   "display_name": "Python 3",
   "language": "python",
   "name": "python3"
  },
  "language_info": {
   "codemirror_mode": {
    "name": "ipython",
    "version": 3
   },
   "file_extension": ".py",
   "mimetype": "text/x-python",
   "name": "python",
   "nbconvert_exporter": "python",
   "pygments_lexer": "ipython3",
   "version": "3.5.2"
  }
 },
 "nbformat": 4,
 "nbformat_minor": 2
}
