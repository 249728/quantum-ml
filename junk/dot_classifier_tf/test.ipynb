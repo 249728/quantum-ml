{
 "cells": [
  {
   "cell_type": "code",
   "execution_count": 1,
   "metadata": {
    "collapsed": false
   },
   "outputs": [
    {
     "name": "stdout",
     "output_type": "stream",
     "text": [
      "Automatic pdb calling has been turned ON\n"
     ]
    }
   ],
   "source": [
    "import numpy as np\n",
    "import potential_profile\n",
    "reload(potential_profile)\n",
    "import matplotlib.pyplot as plt\n",
    "%matplotlib inline\n",
    "%pdb"
   ]
  },
  {
   "cell_type": "code",
   "execution_count": null,
   "metadata": {
    "collapsed": false
   },
   "outputs": [
    {
     "name": "stdout",
     "output_type": "stream",
     "text": [
      "> /Users/sandesh/quantum-ml/dot_classifier_tf/classify_tf.py(182)solve_tf()\n",
      "-> prelim_mask = map(lambda x : 'd' if x > 0.0 else 'b',n)\n",
      "(Pdb) p n\n",
      "array([ 0.03115207,  0.02902517,  0.02688884,  0.02474551,  0.02259822,\n",
      "        0.02045078,  0.01830797,  0.01617586,  0.01406213,  0.01197665,\n",
      "        0.0099322 ,  0.00794566,  0.00603981,  0.00424641,  0.0026121 ,\n",
      "        0.00121215,  0.00019796,  0.        ,  0.        ,  0.        ,\n",
      "        0.        ,  0.        ,  0.        ,  0.        ,  0.        ,\n",
      "        0.        ,  0.        ,  0.        ,  0.        ,  0.        ,\n",
      "        0.        ,  0.        ,  0.        ,  0.        ,  0.        ,\n",
      "        0.        ,  0.        ,  0.        ,  0.        ,  0.        ,\n",
      "        0.        ,  0.        ,  0.00625031,  0.02009509,  0.03818651,\n",
      "        0.05909711,  0.08129466,  0.10259651,  0.11994319,  0.12985829,\n",
      "        0.12985829,  0.11994319,  0.10259651,  0.08129466,  0.05909711,\n",
      "        0.03818651,  0.02009509,  0.00625031,  0.        ,  0.        ,\n",
      "        0.        ,  0.        ,  0.        ,  0.        ,  0.        ,\n",
      "        0.        ,  0.        ,  0.        ,  0.        ,  0.        ,\n",
      "        0.        ,  0.        ,  0.        ,  0.        ,  0.        ,\n",
      "        0.        ,  0.        ,  0.        ,  0.        ,  0.        ,\n",
      "        0.        ,  0.        ,  0.        ,  0.00019796,  0.00121215,\n",
      "        0.0026121 ,  0.00424641,  0.00603981,  0.00794566,  0.0099322 ,\n",
      "        0.01197665,  0.01406213,  0.01617586,  0.01830797,  0.02045078,\n",
      "        0.02259822,  0.02474551,  0.02688884,  0.02902517,  0.03115207])\n",
      "(Pdb) p mu_x\n",
      "array([ 0.2,  0.2,  0.2,  0.2,  0.2,  0.2,  0.2,  0.2,  0.2,  0.2,  0.2,\n",
      "        0.2,  0.2,  0.2,  0.2,  0.2,  0.2,  0.2,  0.2,  0.2,  0.2,  0.2,\n",
      "        0.2,  0.2,  0.2,  0.2,  0.2,  0.2,  0.2,  0.2,  0.2,  0.2,  0.2,\n",
      "        0.2,  0.2,  0.2,  0.2,  0.2,  0.2,  0.2,  0.2,  0.2,  0.2,  0.2,\n",
      "        0.2,  0.2,  0.2,  0.2,  0.2,  0.2,  0.2,  0.2,  0.2,  0.2,  0.2,\n",
      "        0.2,  0.2,  0.2,  0.2,  0.2,  0.2,  0.2,  0.2,  0.2,  0.2,  0.2,\n",
      "        0.2,  0.2,  0.2,  0.2,  0.2,  0.2,  0.2,  0.2,  0.2,  0.2,  0.2,\n",
      "        0.2,  0.2,  0.2,  0.2,  0.2,  0.2,  0.2,  0.2,  0.2,  0.2,  0.2,\n",
      "        0.2,  0.2,  0.2,  0.2,  0.2,  0.2,  0.2,  0.2,  0.2,  0.2,  0.2,\n",
      "        0.2])\n",
      "(Pdb) c\n",
      "> /Users/sandesh/quantum-ml/dot_classifier_tf/classify_tf.py(180)solve_tf()\n",
      "-> import pdb;pdb.set_trace()\n",
      "(Pdb) p mu_c\n",
      "*** NameError: NameError(\"name 'mu_c' is not defined\",)\n",
      "(Pdb) p mu_x\n",
      "array([ 0.2  ,  0.2  ,  0.2  ,  0.2  ,  0.2  ,  0.2  ,  0.2  ,  0.2  ,\n",
      "        0.2  ,  0.2  ,  0.2  ,  0.2  ,  0.2  ,  0.2  ,  0.2  ,  0.2  ,\n",
      "        0.2  ,  0.2  ,  0.2  ,  0.2  ,  0.2  ,  0.2  ,  0.2  ,  0.2  ,\n",
      "        0.2  ,  0.2  ,  0.2  ,  0.2  ,  0.2  ,  0.2  ,  0.2  ,  0.2  ,\n",
      "        0.2  ,  0.2  ,  0.2  ,  0.2  ,  0.2  ,  0.2  ,  0.2  ,  0.2  ,\n",
      "        0.2  ,  0.2  ,  0.202,  0.202,  0.202,  0.202,  0.202,  0.202,\n",
      "        0.202,  0.202,  0.202,  0.202,  0.202,  0.202,  0.202,  0.202,\n",
      "        0.202,  0.202,  0.2  ,  0.2  ,  0.2  ,  0.2  ,  0.2  ,  0.2  ,\n",
      "        0.2  ,  0.2  ,  0.2  ,  0.2  ,  0.2  ,  0.2  ,  0.2  ,  0.2  ,\n",
      "        0.2  ,  0.2  ,  0.2  ,  0.2  ,  0.2  ,  0.2  ,  0.2  ,  0.2  ,\n",
      "        0.2  ,  0.2  ,  0.2  ,  0.2  ,  0.2  ,  0.2  ,  0.2  ,  0.2  ,\n",
      "        0.2  ,  0.2  ,  0.2  ,  0.2  ,  0.2  ,  0.2  ,  0.2  ,  0.2  ,\n",
      "        0.2  ,  0.2  ,  0.2  ,  0.2  ])\n",
      "(Pdb) p n\n",
      "array([ 0.03115207,  0.02902517,  0.02688884,  0.02474551,  0.02259822,\n",
      "        0.02045078,  0.01830797,  0.01617586,  0.01406213,  0.01197665,\n",
      "        0.0099322 ,  0.00794566,  0.00603981,  0.00424641,  0.0026121 ,\n",
      "        0.00121215,  0.00019796,  0.        ,  0.        ,  0.        ,\n",
      "        0.        ,  0.        ,  0.        ,  0.        ,  0.        ,\n",
      "        0.        ,  0.        ,  0.        ,  0.        ,  0.        ,\n",
      "        0.        ,  0.        ,  0.        ,  0.        ,  0.        ,\n",
      "        0.        ,  0.        ,  0.        ,  0.        ,  0.        ,\n",
      "        0.        ,  0.        ,  0.0065848 ,  0.02058643,  0.03879425,\n",
      "        0.05979962,  0.08207567,  0.10344032,  0.12083198,  0.13077087,\n",
      "        0.13077087,  0.12083198,  0.10344032,  0.08207567,  0.05979962,\n",
      "        0.03879425,  0.02058643,  0.0065848 ,  0.        ,  0.        ,\n",
      "        0.        ,  0.        ,  0.        ,  0.        ,  0.        ,\n",
      "        0.        ,  0.        ,  0.        ,  0.        ,  0.        ,\n",
      "        0.        ,  0.        ,  0.        ,  0.        ,  0.        ,\n",
      "        0.        ,  0.        ,  0.        ,  0.        ,  0.        ,\n",
      "        0.        ,  0.        ,  0.        ,  0.00019796,  0.00121215,\n",
      "        0.0026121 ,  0.00424641,  0.00603981,  0.00794566,  0.0099322 ,\n",
      "        0.01197665,  0.01406213,  0.01617586,  0.01830797,  0.02045078,\n",
      "        0.02259822,  0.02474551,  0.02688884,  0.02902517,  0.03115207])\n",
      "(Pdb) p mask\n",
      "['l', 'l', 'l', 'l', 'l', 'l', 'l', 'l', 'l', 'l', 'l', 'l', 'l', 'l', 'l', 'l', 'l', 'b', 'b', 'b', 'b', 'b', 'b', 'b', 'b', 'b', 'b', 'b', 'b', 'b', 'b', 'b', 'b', 'b', 'b', 'b', 'b', 'b', 'b', 'b', 'b', 'b', 'd', 'd', 'd', 'd', 'd', 'd', 'd', 'd', 'd', 'd', 'd', 'd', 'd', 'd', 'd', 'd', 'b', 'b', 'b', 'b', 'b', 'b', 'b', 'b', 'b', 'b', 'b', 'b', 'b', 'b', 'b', 'b', 'b', 'b', 'b', 'b', 'b', 'b', 'b', 'b', 'b', 'l', 'l', 'l', 'l', 'l', 'l', 'l', 'l', 'l', 'l', 'l', 'l', 'l', 'l', 'l', 'l', 'l']\n",
      "(Pdb) c\n",
      "> /Users/sandesh/quantum-ml/dot_classifier_tf/classify_tf.py(182)solve_tf()\n",
      "-> prelim_mask = map(lambda x : 'd' if x > 0.0 else 'b',n)\n",
      "(Pdb) c\n",
      "> /Users/sandesh/quantum-ml/dot_classifier_tf/classify_tf.py(180)solve_tf()\n",
      "-> import pdb;pdb.set_trace()\n",
      "(Pdb) c\n",
      "> /Users/sandesh/quantum-ml/dot_classifier_tf/classify_tf.py(182)solve_tf()\n",
      "-> prelim_mask = map(lambda x : 'd' if x > 0.0 else 'b',n)\n",
      "(Pdb) p mu_d\n",
      "array([ 0.58754211])\n"
     ]
    }
   ],
   "source": [
    "import classify_tf\n",
    "reload(classify_tf)\n",
    "\n",
    "N_grid = 100\n",
    "x = np.linspace(-1,1,N_grid)\n",
    "\n",
    "# dot parameters\n",
    "d = (500e-3,0,0.1,1)\n",
    "b1 = (-400e-3,-0.3,0.1,1)\n",
    "b2 = (-400e-3,0.3,0.1,1)\n",
    "\n",
    "V = potential_profile.single_dot_V_x_wire(x,d,b1,b2)\n",
    "K = classify_tf.create_K_matrix(x,E_scale=0e-3,sigma=(x[1] - x[0]))\n",
    "#K = np.identity(len(x))\n",
    "\n",
    "mu_v = 200e-3\n",
    "\n",
    "# some trial value\n",
    "C_k = 1\n",
    "\n",
    "N_dot = [4]\n",
    "\n",
    "n,mu_d,mask = classify_tf.solve_tf(V,K,C_k,N_dot,mu_v)\n",
    "\n",
    "dot_info = classify_tf.get_dot_info(mask)\n",
    "N_c = classify_tf.get_dot_charges(n,dot_info)\n",
    "print \"Number of electrons on dot\",N_c\n",
    "\n",
    "print \"Dot_potential\",mu_d\n",
    "plot_mask(mask,1,x,V,mu_v)\n",
    "\n",
    "plt.figure(2)\n",
    "plt.plot(x,n)\n",
    "plt.xlabel('x')\n",
    "plt.ylabel('electron density')"
   ]
  },
  {
   "cell_type": "code",
   "execution_count": 2,
   "metadata": {
    "collapsed": false
   },
   "outputs": [],
   "source": [
    "def plot_mask(mask,fig_no,x,V,mu_l):\n",
    "    leads = [i for i, ele in enumerate(mask) if ele == 'l']\n",
    "    barrier = [i for i, ele in enumerate(mask) if ele == 'b']\n",
    "    dots = [i for i, ele in enumerate(mask) if ele == 'd']\n",
    "\n",
    "    plt.figure(fig_no)\n",
    "    plt.scatter(x[dots],V[dots],color='b')\n",
    "    plt.plot(x,mu_l*np.ones(len(x)),color='c',label='mu_lead')\n",
    "    plt.scatter(x[barrier],V[barrier],color='r')\n",
    "    plt.scatter(x[leads],V[leads],color='c')\n",
    "    plt.legend(('mu_lead','Island','Barrier','Leads'))\n",
    "    plt.xlabel('x',fontsize=16)\n",
    "    plt.ylabel('V(x)',fontsize=16)\n",
    "    plt.title(r'$\\mu_{lead}$ = ' + str(mu_l),fontsize=16)"
   ]
  },
  {
   "cell_type": "code",
   "execution_count": 27,
   "metadata": {
    "collapsed": false
   },
   "outputs": [
    {
     "data": {
      "image/png": "[encoded data removed]",
      "text/plain": [
       "<matplotlib.figure.Figure at 0x10c9593d0>"
      ]
     },
     "metadata": {},
     "output_type": "display_data"
    }
   ],
   "source": []
  },
  {
   "cell_type": "code",
   "execution_count": null,
   "metadata": {
    "collapsed": true
   },
   "outputs": [],
   "source": [
    "dot"
   ]
  }
 ],
 "metadata": {
  "kernelspec": {
   "display_name": "Python 2",
   "language": "python",
   "name": "python2"
  },
  "language_info": {
   "codemirror_mode": {
    "name": "ipython",
    "version": 2
   },
   "file_extension": ".py",
   "mimetype": "text/x-python",
   "name": "python",
   "nbconvert_exporter": "python",
   "pygments_lexer": "ipython2",
   "version": "2.7.13"
  }
 },
 "nbformat": 4,
 "nbformat_minor": 2
}
