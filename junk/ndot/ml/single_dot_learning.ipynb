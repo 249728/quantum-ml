{
 "cells": [
  {
   "cell_type": "code",
   "execution_count": 13,
   "metadata": {},
   "outputs": [
    {
     "name": "stdout",
     "output_type": "stream",
     "text": [
      "Number of inputs: 2\n",
      "Number of charge states: 6\n",
      "Total, Training, Test\n",
      "1000 800 200\n",
      "Shh. The Machine is Learning! :  0 %\n",
      "Shh. The Machine is Learning! :  10 %\n",
      "Shh. The Machine is Learning! :  20 %\n",
      "Shh. The Machine is Learning! :  30 %\n",
      "Shh. The Machine is Learning! :  40 %\n",
      "Shh. The Machine is Learning! :  50 %\n",
      "Shh. The Machine is Learning! :  60 %\n",
      "Shh. The Machine is Learning! :  70 %\n",
      "Shh. The Machine is Learning! :  80 %\n",
      "Shh. The Machine is Learning! :  90 %\n",
      "\n",
      "Completed in 55.8154959679 seconds.\n",
      "\n",
      "Accuracy\n",
      "0.895\n"
     ]
    }
   ],
   "source": [
    "import tensorflow as tf\n",
    "import numpy as np\n",
    "import matplotlib.pyplot as plt\n",
    "import time\n",
    "%matplotlib inline\n",
    "st = time.time()\n",
    "\n",
    "# data is assumed to be [input_params, output_param]\n",
    "# number of input_param is variable and is determined by the code\n",
    "# there is supposed to be only one output param, the charge state of the \n",
    "# single dot\n",
    "\n",
    "# change the file name if using a different system\n",
    "data = np.loadtxt('/Users/ssk4/quantum-ml/ndot/ml/data/single_dot.txt')\n",
    "\n",
    "# data randomly permuted to improve learning rate\n",
    "data = np.random.permutation(data)\n",
    "n_tot = data.shape[0]\n",
    "n_train = int(0.8*n_tot)\n",
    "n_test = n_tot - n_train\n",
    "\n",
    "# count the number of states, +1 because 0 is also a state\n",
    "charge_max = int(np.max(data[:,-1]))\n",
    "n_out = charge_max + 1\n",
    "# there is only one output for a single dot, the charge state\n",
    "# represnted as prob vector\n",
    "\n",
    "# input parameters\n",
    "n_inp = data.shape[1] - 1\n",
    "\n",
    "print \"Number of inputs:\", n_inp\n",
    "print \"Number of charge states:\", n_out\n",
    "\n",
    "x_train_data = data[:n_train,:-1].reshape((n_train,2))\n",
    "#generate the prob vector\n",
    "y_train_data = np.zeros((len(x_train_data),n_out))\n",
    "for i in range(len(x_train_data)):\n",
    "    state = int(data[i,2])\n",
    "    y_train_data[i,state] = 1.0\n",
    "\n",
    "x_test_data = data[n_train:,:-1].reshape((n_test,2))\n",
    "y_test_data = np.zeros((len(x_test_data),6))\n",
    "for i in range(len(x_test_data)):\n",
    "    state = int(data[n_train+i,2])\n",
    "    y_test_data[i,state] = 1.0\n",
    "\n",
    "print \"Total, Training, Test\"\n",
    "print n_tot, n_train, n_test\n",
    "\n",
    "x = tf.placeholder(tf.float32,[None,n_inp])\n",
    "\n",
    "W = tf.Variable(tf.zeros([n_inp,n_out]))\n",
    "b = tf.Variable(tf.zeros([n_out]))\n",
    "\n",
    "y = tf.nn.softmax(tf.matmul(x, W) + b)\n",
    "\n",
    "y_ = tf.placeholder(tf.float32,[None,n_out])\n",
    "cross_entropy = tf.reduce_mean(-tf.reduce_sum(y_ * tf.log(y), reduction_indices=[1]))\n",
    "train_step = tf.train.GradientDescentOptimizer(10).minimize(cross_entropy)\n",
    "\n",
    "sess = tf.InteractiveSession()\n",
    "tf.global_variables_initializer().run()\n",
    "\n",
    "N_train = 50000\n",
    "for _ in range(N_train):\n",
    "    if (_ % (N_train/10) == 0):\n",
    "        print \"Shh. The Machine is Learning! : \",int(_ * 100/ N_train),\"%\"\n",
    "    (batch_xs, batch_ys) = x_train_data,y_train_data\n",
    "    sess.run(train_step, feed_dict={x: batch_xs, y_: batch_ys})\n",
    "\n",
    "print \"\\nCompleted in\",time.time()-st,\"seconds.\"\n",
    "\n",
    "correct_prediction = tf.equal(tf.argmax(y,1), tf.argmax(y_,1))\n",
    "accuracy = tf.reduce_mean(tf.cast(correct_prediction, tf.float32))\n",
    "print \"\\nAccuracy\"\n",
    "print(sess.run(accuracy, feed_dict={x: x_test_data, y_: y_test_data}))"
   ]
  },
  {
   "cell_type": "code",
   "execution_count": 14,
   "metadata": {},
   "outputs": [
    {
     "data": {
      "text/plain": [
       "<matplotlib.text.Text at 0x119518810>"
      ]
     },
     "execution_count": 14,
     "metadata": {},
     "output_type": "execute_result"
    },
    {
     "data": {
      "image/png": "[encoded data removed]",
      "text/plain": [
       "<matplotlib.figure.Figure at 0x1198a6190>"
      ]
     },
     "metadata": {},
     "output_type": "display_data"
    }
   ],
   "source": [
    "z = tf.argmax(y,1)\n",
    "z_corr = tf.argmax(y_,1)\n",
    "output_model = sess.run([z,z_corr],{x:x_test_data,y_: y_test_data})\n",
    "\n",
    "plt.plot(x_test_data[:,0],output_model[1],'b+')\n",
    "plt.plot(x_test_data[:,0],output_model[0],'rx')\n",
    "plt.legend(['Acutal','Prediction'])\n",
    "plt.xlabel('V_d',fontsize=16)\n",
    "plt.ylabel('Charge state',fontsize=16)"
   ]
  },
  {
   "cell_type": "code",
   "execution_count": 4,
   "metadata": {},
   "outputs": [
    {
     "data": {
      "text/plain": [
       "<matplotlib.legend.Legend at 0x11894a9d0>"
      ]
     },
     "execution_count": 4,
     "metadata": {},
     "output_type": "execute_result"
    },
    {
     "data": {
      "image/png": "[encoded data removed]",
      "text/plain": [
       "<matplotlib.figure.Figure at 0x116294350>"
      ]
     },
     "metadata": {},
     "output_type": "display_data"
    }
   ],
   "source": [
    "diff = np.abs(output_model[0]-output_model[1])\n",
    "corr = [i for i, ele in enumerate(diff) if ele == 0]\n",
    "err = [i for i, ele in enumerate(diff) if ele > 0]\n",
    "plt.plot(x_test_data[corr,0],diff[corr],'go')\n",
    "plt.plot(x_test_data[err,0],diff[err],'ro')\n",
    "plt.xlabel('V_d',fontsize=16)\n",
    "plt.ylabel('abs(Expected - Predicted)',fontsize=16)\n",
    "plt.legend(['Correct','Error'])"
   ]
  },
  {
   "cell_type": "code",
   "execution_count": null,
   "metadata": {
    "collapsed": true
   },
   "outputs": [],
   "source": []
  }
 ],
 "metadata": {
  "kernelspec": {
   "display_name": "Python 3",
   "language": "python",
   "name": "python3"
  },
  "language_info": {
   "codemirror_mode": {
    "name": "ipython",
    "version": 3
   },
   "file_extension": ".py",
   "mimetype": "text/x-python",
   "name": "python",
   "nbconvert_exporter": "python",
   "pygments_lexer": "ipython3",
   "version": "3.5.2"
  }
 },
 "nbformat": 4,
 "nbformat_minor": 2
}
